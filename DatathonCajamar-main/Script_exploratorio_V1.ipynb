{
  "nbformat": 4,
  "nbformat_minor": 0,
  "metadata": {
    "colab": {
      "name": "Script_exploratorio_V1.ipynb",
      "provenance": [],
      "collapsed_sections": []
    },
    "kernelspec": {
      "name": "python3",
      "display_name": "Python 3"
    },
    "language_info": {
      "name": "python"
    }
  },
  "cells": [
    {
      "cell_type": "markdown",
      "source": [
        "# SCRIPT DE EXPLORACIÓN CAJAMAR_WATER_FOOTPRINT"
      ],
      "metadata": {
        "id": "M5_uLVt3aMCw"
      }
    },
    {
      "cell_type": "code",
      "source": [
        "from google.colab import drive\n",
        "drive.mount('/content/drive')"
      ],
      "metadata": {
        "colab": {
          "base_uri": "https://localhost:8080/"
        },
        "id": "mRwdhpc5yiEU",
        "outputId": "24027ea0-0c90-4ce9-91df-4c8e2aaad154"
      },
      "execution_count": 51,
      "outputs": [
        {
          "output_type": "stream",
          "name": "stdout",
          "text": [
            "Drive already mounted at /content/drive; to attempt to forcibly remount, call drive.mount(\"/content/drive\", force_remount=True).\n"
          ]
        }
      ]
    },
    {
      "cell_type": "markdown",
      "source": [
        "## DESCRIPCIÓN ENUNCIADO COLUMNAS DATASET\n",
        "\n",
        "*   ID: Identificador del Contador que registra la medida de lectura.\n",
        "*   SAMPLETIME: Fecha y hora del consumo en formato UTC. Momento en el que se \n",
        "produce el mensaje o el contador ha emitido el registro.\n",
        "*   READINGINTEGER: Medida registrada por el contador en litros. Parte entera.\n",
        "*   READINGTHOUSANDTH: Medida registrada por el contador en litros. Parte decimal.\n",
        "*   DELTAINTEGER: Consumo calculado en litros a partir de la medida registrada por el contador. Parte entera.\n",
        "*   DELTATHOUSANDTH: Consumo calculado en litros a partir de la medida registrada por el contador. Parte decimal.\n"
      ],
      "metadata": {
        "id": "K5hAi41RaS_1"
      }
    },
    {
      "cell_type": "markdown",
      "source": [
        "### CARGAMOS DATOS Y PEQUEÑA VISUALIZACIÓN"
      ],
      "metadata": {
        "id": "ro6iRN2NAJdD"
      }
    },
    {
      "cell_type": "code",
      "source": [
        "# Carga Fichero\n",
        "import pandas as pd\n",
        "path=\"/content/drive/MyDrive/Cajamar/\"\n",
        "datos = pd.read_csv(path+'Modelar_UH2022.txt',sep='|',parse_dates=['SAMPLETIME'],infer_datetime_format=True) #El enunciado nos indica la columna fecha\n",
        "print(datos.head(5))\n",
        "print(datos.describe())\n",
        "print(datos.dtypes)"
      ],
      "metadata": {
        "colab": {
          "base_uri": "https://localhost:8080/"
        },
        "id": "CGyeJRogyiB0",
        "outputId": "94c946a6-6b52-4b98-9d55-f7610fc50e92"
      },
      "execution_count": 1,
      "outputs": [
        {
          "output_type": "stream",
          "name": "stdout",
          "text": [
            "   ID          SAMPLETIME  READINGINTEGER  READINGTHOUSANDTH  DELTAINTEGER  \\\n",
            "0   0 2019-06-13 08:34:09          369320                0.0            17   \n",
            "1   0 2019-06-13 17:34:10          369403                0.0             2   \n",
            "2   0 2019-06-13 18:34:10          369403                0.0             0   \n",
            "3   0 2019-06-13 04:34:10          369284                0.0             1   \n",
            "4   0 2019-06-13 14:34:10          369356                0.0            28   \n",
            "\n",
            "   DELTATHOUSANDTH  \n",
            "0              0.0  \n",
            "1              0.0  \n",
            "2              0.0  \n",
            "3              0.0  \n",
            "4              0.0  \n",
            "                 ID  READINGINTEGER  READINGTHOUSANDTH  DELTAINTEGER  \\\n",
            "count  2.140483e+07    2.140483e+07       2.126477e+07  2.140483e+07   \n",
            "mean   1.259029e+03    6.052178e+05       3.930737e+00  2.277017e+01   \n",
            "std    7.334956e+02    2.857464e+06       1.496893e+01  1.516794e+03   \n",
            "min    0.000000e+00   -6.407800e+04       0.000000e+00 -5.307340e+05   \n",
            "25%    6.230000e+02    6.368800e+04       0.000000e+00  0.000000e+00   \n",
            "50%    1.255000e+03    1.831570e+05       0.000000e+00  0.000000e+00   \n",
            "75%    1.887000e+03    3.520500e+05       0.000000e+00  9.000000e+00   \n",
            "max    2.756000e+03    5.108976e+07       9.900000e+01  9.499810e+05   \n",
            "\n",
            "       DELTATHOUSANDTH  \n",
            "count     2.126477e+07  \n",
            "mean      4.228367e+00  \n",
            "std       1.541059e+01  \n",
            "min       0.000000e+00  \n",
            "25%       0.000000e+00  \n",
            "50%       0.000000e+00  \n",
            "75%       0.000000e+00  \n",
            "max       9.900000e+01  \n",
            "ID                            int64\n",
            "SAMPLETIME           datetime64[ns]\n",
            "READINGINTEGER                int64\n",
            "READINGTHOUSANDTH           float64\n",
            "DELTAINTEGER                  int64\n",
            "DELTATHOUSANDTH             float64\n",
            "dtype: object\n"
          ]
        }
      ]
    },
    {
      "cell_type": "markdown",
      "source": [
        "## Detectamos columnas con Nans, las columnas con Nans son las que forman la parte decimal de los datos, su media tiende a 0, la acción elegida es sustituir los Nan por 0."
      ],
      "metadata": {
        "id": "dTVFitvED2MK"
      }
    },
    {
      "cell_type": "code",
      "source": [
        "print(datos.isnull().any())\n",
        "print(str(datos['READINGTHOUSANDTH'].isna().sum())+\" de \"+str(len(datos['READINGTHOUSANDTH'])))\n",
        "print(str(datos['DELTATHOUSANDTH'].isna().sum())+\" de \"+str(len(datos['DELTATHOUSANDTH']))) \n",
        "datos.fillna(0, inplace=True)\n",
        "print(datos.isnull().any())"
      ],
      "metadata": {
        "colab": {
          "base_uri": "https://localhost:8080/"
        },
        "id": "SAmCbAalD1eB",
        "outputId": "cfb25829-d3d3-429d-ec08-9561211982a1"
      },
      "execution_count": 2,
      "outputs": [
        {
          "output_type": "stream",
          "name": "stdout",
          "text": [
            "ID                   False\n",
            "SAMPLETIME           False\n",
            "READINGINTEGER       False\n",
            "READINGTHOUSANDTH     True\n",
            "DELTAINTEGER         False\n",
            "DELTATHOUSANDTH       True\n",
            "dtype: bool\n",
            "140056 de 21404828\n",
            "140056 de 21404828\n",
            "ID                   False\n",
            "SAMPLETIME           False\n",
            "READINGINTEGER       False\n",
            "READINGTHOUSANDTH    False\n",
            "DELTAINTEGER         False\n",
            "DELTATHOUSANDTH      False\n",
            "dtype: bool\n"
          ]
        }
      ]
    },
    {
      "cell_type": "markdown",
      "source": [
        "# COLUMNA ID\n",
        "## Comprabamos los valores únicos.\n",
        "### Se puede apreciar que la columna ID es una lista de números de 0 a 2756 con huecos. Se verifican los IDs vacios. "
      ],
      "metadata": {
        "id": "dWulJeb-HjjM"
      }
    },
    {
      "cell_type": "code",
      "source": [
        "pd.set_option('display.float_format', lambda x: '%.0f' % x)\n",
        "print(datos[\"ID\"].describe())\n",
        "print(\"total únicos: \"+str(datos[\"ID\"].nunique()))\n",
        "print(\"No coincide con: 2756\")\n",
        "print(\"#####\")\n",
        "lista=[]\n",
        "rango=range(2756)\n",
        "for unique in pd.unique(datos[\"ID\"]):\n",
        "    lista.append(unique)\n",
        "for rango in rango:\n",
        "  if (rango in lista)==False:\n",
        "    print(rango)\n",
        "    print(datos[datos[\"ID\"]==rango])     "
      ],
      "metadata": {
        "colab": {
          "base_uri": "https://localhost:8080/"
        },
        "id": "6Fj-j0cbHEL_",
        "outputId": "c42e6680-f8d2-4df2-eda6-81c6245d948c"
      },
      "execution_count": 27,
      "outputs": [
        {
          "output_type": "stream",
          "name": "stdout",
          "text": [
            "count   21404828\n",
            "mean        1259\n",
            "std          733\n",
            "min            0\n",
            "25%          623\n",
            "50%         1255\n",
            "75%         1887\n",
            "max         2756\n",
            "Name: ID, dtype: float64\n",
            "total únicos: 2747\n",
            "No coincide con: 2756\n",
            "#####\n",
            "2726\n",
            "Empty DataFrame\n",
            "Columns: [ID, SAMPLETIME, READINGINTEGER, READINGTHOUSANDTH, DELTAINTEGER, DELTATHOUSANDTH]\n",
            "Index: []\n",
            "2738\n",
            "Empty DataFrame\n",
            "Columns: [ID, SAMPLETIME, READINGINTEGER, READINGTHOUSANDTH, DELTAINTEGER, DELTATHOUSANDTH]\n",
            "Index: []\n",
            "2740\n",
            "Empty DataFrame\n",
            "Columns: [ID, SAMPLETIME, READINGINTEGER, READINGTHOUSANDTH, DELTAINTEGER, DELTATHOUSANDTH]\n",
            "Index: []\n",
            "2741\n",
            "Empty DataFrame\n",
            "Columns: [ID, SAMPLETIME, READINGINTEGER, READINGTHOUSANDTH, DELTAINTEGER, DELTATHOUSANDTH]\n",
            "Index: []\n",
            "2750\n",
            "Empty DataFrame\n",
            "Columns: [ID, SAMPLETIME, READINGINTEGER, READINGTHOUSANDTH, DELTAINTEGER, DELTATHOUSANDTH]\n",
            "Index: []\n",
            "2751\n",
            "Empty DataFrame\n",
            "Columns: [ID, SAMPLETIME, READINGINTEGER, READINGTHOUSANDTH, DELTAINTEGER, DELTATHOUSANDTH]\n",
            "Index: []\n",
            "2752\n",
            "Empty DataFrame\n",
            "Columns: [ID, SAMPLETIME, READINGINTEGER, READINGTHOUSANDTH, DELTAINTEGER, DELTATHOUSANDTH]\n",
            "Index: []\n",
            "2753\n",
            "Empty DataFrame\n",
            "Columns: [ID, SAMPLETIME, READINGINTEGER, READINGTHOUSANDTH, DELTAINTEGER, DELTATHOUSANDTH]\n",
            "Index: []\n",
            "2754\n",
            "Empty DataFrame\n",
            "Columns: [ID, SAMPLETIME, READINGINTEGER, READINGTHOUSANDTH, DELTAINTEGER, DELTATHOUSANDTH]\n",
            "Index: []\n",
            "2755\n",
            "Empty DataFrame\n",
            "Columns: [ID, SAMPLETIME, READINGINTEGER, READINGTHOUSANDTH, DELTAINTEGER, DELTATHOUSANDTH]\n",
            "Index: []\n"
          ]
        }
      ]
    },
    {
      "cell_type": "markdown",
      "source": [
        "# COLUMNA SAMPLETIME\n",
        "## El rango maximo y minimo son 2020-01-31 23:59:59 y 2019-02-01 00:00:00, más adelante comprobaremos si todos los IDs cuenta con este rango."
      ],
      "metadata": {
        "id": "naq5IVfJZp69"
      }
    },
    {
      "cell_type": "code",
      "source": [
        "print(datos.SAMPLETIME.max())\n",
        "print(datos.SAMPLETIME.min())"
      ],
      "metadata": {
        "colab": {
          "base_uri": "https://localhost:8080/"
        },
        "id": "-TMO9CgZZpge",
        "outputId": "f8b6f737-33a5-45c2-97c4-9cd7d09db9de"
      },
      "execution_count": 28,
      "outputs": [
        {
          "output_type": "stream",
          "name": "stdout",
          "text": [
            "2020-01-31 23:59:59\n",
            "2019-02-01 00:00:00\n"
          ]
        }
      ]
    },
    {
      "cell_type": "markdown",
      "source": [
        "# COLUMNA READINGINTEGER\n",
        "## Se elimina el dato negativo"
      ],
      "metadata": {
        "id": "WpckRC8vAMnl"
      }
    },
    {
      "cell_type": "code",
      "source": [
        "print(datos['READINGINTEGER'].describe())\n",
        "datos=datos[datos['READINGINTEGER']>0]\n",
        "print(datos['READINGINTEGER'].describe())"
      ],
      "metadata": {
        "id": "ll6ECp1IgFWq",
        "colab": {
          "base_uri": "https://localhost:8080/"
        },
        "outputId": "b88e2df4-5187-429a-a61f-dd973c4b9619"
      },
      "execution_count": 29,
      "outputs": [
        {
          "output_type": "stream",
          "name": "stdout",
          "text": [
            "count   21345904\n",
            "mean      606904\n",
            "std      2861225\n",
            "min            1\n",
            "25%        64424\n",
            "50%       183855\n",
            "75%       352843\n",
            "max     51089763\n",
            "Name: READINGINTEGER, dtype: float64\n",
            "count   21345904\n",
            "mean      606904\n",
            "std      2861225\n",
            "min            1\n",
            "25%        64424\n",
            "50%       183855\n",
            "75%       352843\n",
            "max     51089763\n",
            "Name: READINGINTEGER, dtype: float64\n"
          ]
        }
      ]
    },
    {
      "cell_type": "markdown",
      "source": [
        "# COLUMNA READINGTHOUSANDTH\n",
        "## Datos entre 0 y 100 son aceptados"
      ],
      "metadata": {
        "id": "OlzALS8tSO_-"
      }
    },
    {
      "cell_type": "code",
      "source": [
        "print(datos['READINGTHOUSANDTH'].describe())"
      ],
      "metadata": {
        "id": "UeIh7FVbgFUN",
        "colab": {
          "base_uri": "https://localhost:8080/"
        },
        "outputId": "466a1df9-2ec1-4369-a603-1fb152586102"
      },
      "execution_count": 30,
      "outputs": [
        {
          "output_type": "stream",
          "name": "stdout",
          "text": [
            "count   21345904\n",
            "mean           4\n",
            "std           15\n",
            "min            0\n",
            "25%            0\n",
            "50%            0\n",
            "75%            0\n",
            "max           99\n",
            "Name: READINGTHOUSANDTH, dtype: float64\n"
          ]
        }
      ]
    },
    {
      "cell_type": "markdown",
      "source": [
        "# COLUMNA DELTAINTEGER\n",
        "## Se eliminan datos negativos y aquellos mayores de 5000"
      ],
      "metadata": {
        "id": "Xf5rmUYZShEa"
      }
    },
    {
      "cell_type": "code",
      "source": [
        "print(datos['DELTAINTEGER'].describe())\n",
        "datos=datos[datos['DELTAINTEGER']>0]\n",
        "print(datos['DELTAINTEGER'].describe())\n",
        "datos=datos[datos['DELTAINTEGER']<5000]\n",
        "print(datos['DELTAINTEGER'].describe())"
      ],
      "metadata": {
        "id": "hJspIu0EgFRZ",
        "colab": {
          "base_uri": "https://localhost:8080/"
        },
        "outputId": "3d2a27b7-7b21-4ee6-a29b-3167951d479f"
      },
      "execution_count": 31,
      "outputs": [
        {
          "output_type": "stream",
          "name": "stdout",
          "text": [
            "count   10360565\n",
            "mean          39\n",
            "std          184\n",
            "min            1\n",
            "25%            4\n",
            "50%           10\n",
            "75%           23\n",
            "max         4999\n",
            "Name: DELTAINTEGER, dtype: float64\n",
            "count   10360565\n",
            "mean          39\n",
            "std          184\n",
            "min            1\n",
            "25%            4\n",
            "50%           10\n",
            "75%           23\n",
            "max         4999\n",
            "Name: DELTAINTEGER, dtype: float64\n",
            "count   10360565\n",
            "mean          39\n",
            "std          184\n",
            "min            1\n",
            "25%            4\n",
            "50%           10\n",
            "75%           23\n",
            "max         4999\n",
            "Name: DELTAINTEGER, dtype: float64\n"
          ]
        }
      ]
    },
    {
      "cell_type": "markdown",
      "source": [
        " # COLUMNA DELTATHOUSANDTH\n",
        " ## Datos entre 0 y 100 son aceptados"
      ],
      "metadata": {
        "id": "WSwKmlp3TZxe"
      }
    },
    {
      "cell_type": "code",
      "source": [
        "print(datos['DELTATHOUSANDTH'].describe())"
      ],
      "metadata": {
        "id": "2noBBU9DgFOn",
        "colab": {
          "base_uri": "https://localhost:8080/"
        },
        "outputId": "04bad882-16a3-4021-9086-4ea6e6265c81"
      },
      "execution_count": 32,
      "outputs": [
        {
          "output_type": "stream",
          "name": "stdout",
          "text": [
            "count   10360565\n",
            "mean           8\n",
            "std           21\n",
            "min            0\n",
            "25%            0\n",
            "50%            0\n",
            "75%            0\n",
            "max           99\n",
            "Name: DELTATHOUSANDTH, dtype: float64\n"
          ]
        }
      ]
    },
    {
      "cell_type": "code",
      "source": [
        ""
      ],
      "metadata": {
        "id": "72WCP-engFJw"
      },
      "execution_count": 33,
      "outputs": []
    }
  ]
}