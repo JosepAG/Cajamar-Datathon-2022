{
  "cells": [
    {
      "cell_type": "code",
      "execution_count": 2,
      "id": "pRwaI8I1RaMq",
      "metadata": {
        "colab": {
          "base_uri": "https://localhost:8080/"
        },
        "id": "pRwaI8I1RaMq",
        "outputId": "a1005ca6-49ca-4431-9da6-3f664589ed65"
      },
      "outputs": [
        {
          "name": "stdout",
          "output_type": "stream",
          "text": [
            "Mounted at /content/drive\n"
          ]
        }
      ],
      "source": [
        "from google.colab import drive\n",
        "drive.mount('/content/drive')"
      ]
    },
    {
      "cell_type": "code",
      "execution_count": 21,
      "id": "ca9a84fd-455e-4a3a-8e8b-e8c15ad2ffc0",
      "metadata": {
        "id": "ca9a84fd-455e-4a3a-8e8b-e8c15ad2ffc0"
      },
      "outputs": [],
      "source": [
        "# Carga Fichero\n",
        "\n",
        "import pandas as pd\n",
        "\n",
        "datos = pd.read_csv('Modelar_UH2022.txt',sep='|',parse_dates=['SAMPLETIME'],infer_datetime_format=True)"
      ]
    },
    {
      "cell_type": "code",
      "execution_count": null,
      "id": "a4228539-f8d9-4466-9858-2d9fedfd4a79",
      "metadata": {
        "id": "a4228539-f8d9-4466-9858-2d9fedfd4a79"
      },
      "outputs": [],
      "source": [
        "#Modelar_UH2022_10_Contadores.txt\n",
        "datos[datos['ID']<11].to_csv('Modelar_UH2022_10_Contadores.txt',sep='|',index=False,float_format='%.0f')"
      ]
    },
    {
      "cell_type": "code",
      "execution_count": 21,
      "id": "af8ab586",
      "metadata": {},
      "outputs": [],
      "source": [
        "datos[datos['ID']<3].to_csv('Modelar_UH2022_2_Contadores.txt',sep='|',index=False,float_format='%.0f')"
      ]
    },
    {
      "cell_type": "code",
      "execution_count": 32,
      "id": "ec86706c",
      "metadata": {
        "id": "ec86706c"
      },
      "outputs": [],
      "source": [
        "datos[datos['ID']==2735].to_csv('Modelar_UH2022_Contador_2735.txt',sep='|',index=False,float_format='%.0f')"
      ]
    },
    {
      "cell_type": "code",
      "execution_count": 22,
      "id": "3cfbe6da",
      "metadata": {},
      "outputs": [],
      "source": [
        "datos[datos['ID']==2561].to_csv('Modelar_UH2022_Contador_2561.txt',sep='|',index=False,float_format='%.0f')"
      ]
    },
    {
      "cell_type": "code",
      "execution_count": 33,
      "id": "972e563c",
      "metadata": {},
      "outputs": [],
      "source": [
        "datos[datos['ID']==167].to_csv('Modelar_UH2022_Contador_167.txt',sep='|',index=False,float_format='%.0f')"
      ]
    },
    {
      "cell_type": "code",
      "execution_count": 34,
      "id": "0b894f38",
      "metadata": {},
      "outputs": [],
      "source": [
        "datos[datos['ID']==2521].to_csv('Modelar_UH2022_Contador_2521.txt',sep='|',index=False,float_format='%.0f')"
      ]
    },
    {
      "cell_type": "markdown",
      "id": "f837d361",
      "metadata": {
        "id": "f837d361"
      },
      "source": [
        "# CLASE PARA PROYECTO CAJAMAR"
      ]
    },
    {
      "cell_type": "code",
      "execution_count": 1,
      "id": "zVNA76q8R33i",
      "metadata": {
        "colab": {
          "base_uri": "https://localhost:8080/"
        },
        "id": "zVNA76q8R33i",
        "outputId": "0d010025-1c8a-4fd9-e8bc-429f6a1c21d8"
      },
      "outputs": [
        {
          "name": "stdout",
          "output_type": "stream",
          "text": [
            "Requirement already satisfied: skforecast in /usr/local/lib/python3.7/dist-packages (0.4.2)\n",
            "Requirement already satisfied: tqdm>=4.57.0 in /usr/local/lib/python3.7/dist-packages (from skforecast) (4.63.0)\n",
            "Requirement already satisfied: statsmodels>=0.12.2 in /usr/local/lib/python3.7/dist-packages (from skforecast) (0.13.2)\n",
            "Requirement already satisfied: numpy>=1.20.1 in /usr/local/lib/python3.7/dist-packages (from skforecast) (1.21.5)\n",
            "Requirement already satisfied: scikit-learn>=1.0.1 in /usr/local/lib/python3.7/dist-packages (from skforecast) (1.0.2)\n",
            "Requirement already satisfied: pandas>=1.2.2 in /usr/local/lib/python3.7/dist-packages (from skforecast) (1.3.5)\n",
            "Requirement already satisfied: python-dateutil>=2.7.3 in /usr/local/lib/python3.7/dist-packages (from pandas>=1.2.2->skforecast) (2.8.2)\n",
            "Requirement already satisfied: pytz>=2017.3 in /usr/local/lib/python3.7/dist-packages (from pandas>=1.2.2->skforecast) (2018.9)\n",
            "Requirement already satisfied: six>=1.5 in /usr/local/lib/python3.7/dist-packages (from python-dateutil>=2.7.3->pandas>=1.2.2->skforecast) (1.15.0)\n",
            "Requirement already satisfied: scipy>=1.1.0 in /usr/local/lib/python3.7/dist-packages (from scikit-learn>=1.0.1->skforecast) (1.4.1)\n",
            "Requirement already satisfied: joblib>=0.11 in /usr/local/lib/python3.7/dist-packages (from scikit-learn>=1.0.1->skforecast) (1.1.0)\n",
            "Requirement already satisfied: threadpoolctl>=2.0.0 in /usr/local/lib/python3.7/dist-packages (from scikit-learn>=1.0.1->skforecast) (3.1.0)\n",
            "Requirement already satisfied: packaging>=21.3 in /usr/local/lib/python3.7/dist-packages (from statsmodels>=0.12.2->skforecast) (21.3)\n",
            "Requirement already satisfied: patsy>=0.5.2 in /usr/local/lib/python3.7/dist-packages (from statsmodels>=0.12.2->skforecast) (0.5.2)\n",
            "Requirement already satisfied: pyparsing!=3.0.5,>=2.0.2 in /usr/local/lib/python3.7/dist-packages (from packaging>=21.3->statsmodels>=0.12.2->skforecast) (3.0.7)\n"
          ]
        }
      ],
      "source": [
        "!pip install skforecast"
      ]
    },
    {
      "cell_type": "code",
      "execution_count": 34,
      "id": "96464584",
      "metadata": {
        "id": "96464584"
      },
      "outputs": [],
      "source": [
        "# Librerias\n",
        "\n",
        "import pandas as pd\n",
        "import numpy as np\n",
        "from tqdm import tqdm\n",
        "from datetime import timedelta\n",
        "from datetime import date\n",
        "from sklearn.metrics import mean_squared_error\n",
        "#from sklearn.model_selection import ParameterGrid\n",
        "import matplotlib.pyplot as plt\n",
        "from sklearn.ensemble import RandomForestRegressor\n",
        "from sklearn.ensemble import ExtraTreesRegressor\n",
        "from skforecast.ForecasterAutoreg import ForecasterAutoreg\n",
        "from skforecast.ForecasterAutoregCustom import ForecasterAutoregCustom\n",
        "from skforecast.ForecasterAutoregMultiOutput import ForecasterAutoregMultiOutput\n",
        "#from skforecast.model_selection import grid_search_forecaster, backtesting_forecaster\n",
        "import model_selection_no_print\n",
        "#from typing import Union, Optional\n",
        "from sklearn.preprocessing import StandardScaler\n",
        "import math\n",
        "from joblib import dump, load\n",
        "import pickle\n",
        "\n",
        "\n",
        "class Contador(object):\n",
        "    def __init__(self, datos_contador, ID, umbral):\n",
        "        self.datos_contador = datos_contador\n",
        "        self.ID = ID\n",
        "        self.umbral = umbral\n",
        "        self.Preprocesado()\n",
        "        self.SinDatos = False  # NO TIENE DATOS DATASET VACIO\n",
        "        #self.outlier = False\n",
        "        self.dias = 0\n",
        "        self.RMSE_Train = 0\n",
        "        self.RMSE_Test = 0\n",
        "        self.datos_test = pd.DataFrame()\n",
        "        self.datos_test_semanal = pd.DataFrame()\n",
        "        self.Mejor_Parametro = {}\n",
        "        self.Mejor_Lag = 14 \n",
        "        \n",
        "        # {'ID','Dia_1':0,'Dia_2':0,'Dia_3':0,'Dia_4':0,'Dia_5':0,'Dia_6':0','Dia_7':0,'Semana_1':0,'Semana_2':0}\n",
        "        self.Predicciones = [self.ID,0,0,0,0,0,0,0,0,0]\n",
        "        \n",
        "        if not datos_contador.empty:\n",
        "            # CALCULO LECTURA CONTADOR Y CONSUMO JUNTANDO DECIMALES\n",
        "            #\n",
        "            \n",
        "            self.datos_contador = self.datos_contador.set_index('SAMPLETIME')\n",
        "            self.datos_contador['CONSUMO'] = self.datos_contador['DELTAINTEGER'] + (self.datos_contador['DELTATHOUSANDTH'] / 100)\n",
        "            self.datos_contador['LECTURA'] = self.datos_contador['READINGINTEGER'] + (self.datos_contador['READINGTHOUSANDTH'] / 100)\n",
        "\n",
        "            # CONSUMO POR DIAS\n",
        "            # RESAMPLE\n",
        "            \n",
        "            self.datos_consumo = pd.DataFrame(self.datos_contador['CONSUMO'].resample(rule='1D', closed='left', label ='left').sum())\n",
        "            self.datos_consumo['CONSUMO_NORM'] = (self.datos_consumo['CONSUMO'] - self.datos_consumo['CONSUMO'].mean()) / self.datos_consumo['CONSUMO'].std()\n",
        "            # COGER SOLO SEMANAS COMPLETAS\n",
        "            \n",
        "            self.datos_consumo_semanal = pd.DataFrame(self.datos_contador['CONSUMO'].resample(rule='1W', closed='left', label ='left',offset='-36h').sum())\n",
        "            \n",
        "            # ESTADISTICAS\n",
        "            self.dias = len(self.datos_consumo.index)\n",
        "            self.semanas = len(self.datos_consumo_semanal.index)\n",
        "            #self.datos_consumo['Cuenta'] = self.datos_contador.groupby([self.datos_contador.index.year,self.datos_contador.index.month, self.datos_contador.index.day]).agg({'CONSUMO':'count'}).values\n",
        "            \n",
        "            self.fecha_inicio_contador= self.datos_consumo.index[0]\n",
        "            self.fecha_fin_contador= self.datos_consumo.index[-1]\n",
        "            \n",
        "        else:\n",
        "            self.datos_consumo = pd.DataFrame()\n",
        "            self.SinDatos = True\n",
        "            self.fecha_fin_contador = None\n",
        "\n",
        "        # GENERACION DEL MODELO\n",
        "        self.modelo()\n",
        "    \n",
        "    def __Convertir_fecha(self, serie):\n",
        "        fechas = []\n",
        "        for año, mes, dia in serie.index:\n",
        "            fechas.append(date(año,mes,dia))\n",
        "        return fechas\n",
        "    \n",
        "    def Preprocesado(self):\n",
        "        # SAMPLETIME READINGINTEGER\tREADINGTHOUSANDTH\tDELTAINTEGER\tDELTATHOUSANDTH\n",
        "        # VALORES  NULOS \n",
        "        # VALORES ENTEROS INTERPOLAMOS\n",
        "        \n",
        "\n",
        "        self.datos_contador['READINGINTEGER'].interpolate(inplace=True)\n",
        "        self.datos_contador['DELTAINTEGER'].interpolate(inplace=True)\n",
        "        \n",
        "        # VALORES DECIMALES SUSTITUIMOS POR CERO\n",
        "        self.datos_contador['READINGTHOUSANDTH'].fillna(0,inplace=True)\n",
        "        self.datos_contador['DELTATHOUSANDTH'].fillna(0,inplace=True)\n",
        "        \n",
        "        # ELIMINAR VALORES NEGATIVOS\n",
        "        indices = self.datos_contador[self.datos_contador['READINGINTEGER'] < 0].index\n",
        "        self.datos_contador.drop(indices,inplace=True)\n",
        "        indices = self.datos_contador[self.datos_contador['DELTAINTEGER'] < 0].index\n",
        "        self.datos_contador.drop(indices,inplace=True)\n",
        "\n",
        "        # NORMALIZAR\n",
        "\n",
        "    def modelo(self):\n",
        "        # DECISION DEL MODELO A TOMAR EN FUNCION DE LA ESTADISTICAS\n",
        "        # CARGA DEL MODELO\n",
        "        # PACO\n",
        "        self.model = None\n",
        "        if self.dias > self.umbral: \n",
        "            if self.fecha_fin_contador == date(2020,1,31):\n",
        "                # RandomForestRegressor Diario\n",
        "                self.model = ForecasterAutoreg(regressor=RandomForestRegressor(random_state=123), lags=14)\n",
        "                # RandomForestRegressor Semanal Paco\n",
        "                self.model_Semanal = ForecasterAutoreg(regressor=RandomForestRegressor(random_state=123), lags=4)\n",
        "                \n",
        "            else:\n",
        "                self.model = self.datos_consumo['CONSUMO'].mean()\n",
        "        else:\n",
        "            if self.dias > 0: \n",
        "                #if (self.fecha_fin_contador > date(2020,1,17)).bool() :    # HACE MEDIA SI TENEMOS DATOS EN LOS ULTIMOS 14 DIAS\n",
        "                self.model = self.datos_consumo['CONSUMO'].mean()\n",
        "                #else:\n",
        "                #self.model = 0\n",
        "            else:\n",
        "                self.model = 0\n",
        "\n",
        "    def Juntar_Datos(self):\n",
        "        # REHACE EL MODELO CON LOS MEJORES PARAMETROS\n",
        "        # JUNTA TODO EN datos_consumo\n",
        "        # {'max_depth': 3, 'n_estimators': 200}        \n",
        "        #del self.model\n",
        "        #if self.dias > umbral:\n",
        "            #self.model = ForecasterAutoreg(regressor=RandomForestRegressor(random_state=123), lags=max(self.Mejor_Lag), \n",
        "            #                                max_depth=self.Mejor_Parametro['max_depth'],n_estimators=self.Mejor_Parametro['n_estimators'])\n",
        "\n",
        "        self.datos_consumo = pd.concat([self.datos_consumo,self.datos_test])\n",
        "        self.datos_test =pd.DataFrame()\n",
        "        \n",
        "    \n",
        "\n",
        "class CajaMar_Water(object):\n",
        "    def __init__(self,Ruta_Datos,Fecha_Inicio=date(2019,2,1),Fecha_Fin=date(2020,1,31),umbral_modelo=100):\n",
        "        self.Ruta_Datos = Ruta_Datos\n",
        "        self.Fecha_Inicio = Fecha_Inicio\n",
        "        self.Fecha_Fin = Fecha_Fin\n",
        "        self.umbral_modelo = umbral_modelo\n",
        "        self.datos = pd.DataFrame()\n",
        "        self.contadores = []\n",
        "        self.dias_test = 14     # DIAS QUE SE RESERVAN PARA TEST EMPEZANDO POR LA FECHA MAS RECIENTE\n",
        "        self.semanas_test = 2   # SEMANAS QUE SE RESERVAN PARA TEST\n",
        "        self.Cargar_Datos()\n",
        "        self.RMSE_Test_Promedio=0\n",
        "        self.RMSE_Test_Suma=0\n",
        "    \n",
        "\n",
        "    def Cargar_Datos(self):\n",
        "        print('CARGANDO DATOS.....')\n",
        "        self.datos = pd.read_csv(self.Ruta_Datos,sep='|',parse_dates=['SAMPLETIME'],infer_datetime_format=True,encoding='utf-8')\n",
        "        self.datos.sort_values(by=['ID','SAMPLETIME'],inplace=True)\n",
        " \n",
        "        # GENERANDO CONTADORES\n",
        "        print('GENERANDO CONTADORES.....')\n",
        "        for ID in tqdm(pd.unique(self.datos['ID'])):\n",
        "            # ALMACENAMOS ID DE CONTADOR Y BORRAMOS LA COLUMNA\n",
        "            self.contadores.append(Contador(self.datos[self.datos['ID']==ID].drop('ID',axis=1),ID,self.umbral_modelo))\n",
        "\n",
        "        print('PROCESO DE CARGA FINALIZADO')\n",
        "    \n",
        "    def PartirDatos(self):\n",
        "        # Separar datos de entrenamiento y test / validacion (dias=0 no hace validacion)\n",
        "        if self.dias_test > 0:     \n",
        "            for contador in tqdm(self.contadores):\n",
        "                if contador.SinDatos == False:      # COMPROBAMOS QUE HAY ALGUN REGISTRO\n",
        "                    #if (contador.fecha_fin_contador==self.Fecha_Fin):\n",
        "                    if contador.dias > self.dias_test + 1:    # COMPROBAMOS QUE HAY SUFICIENTES DATOS PARA HACER PARTICION\n",
        "                        contador.datos_test = contador.datos_consumo.tail(self.dias_test)\n",
        "                        contador.datos_consumo = contador.datos_consumo[0:-self.dias_test]\n",
        "                    if contador.semanas > self.semanas_test + 1:\n",
        "                        contador.datos_test_semanal = contador.datos_consumo_semanal.tail(self.semanas_test)\n",
        "                        contador.datos_consumo_semanal = contador.datos_consumo_semanal[0:-self.semanas_test]\n",
        "\n",
        "\n",
        "    \n",
        "    def Grid_Search(self,ID,steps):\n",
        "        # Hiperparámetros del regresor\n",
        "        param_grid = {'n_estimators': [100,200],\n",
        "              'max_depth': [3, 5, 10]}\n",
        "\n",
        "        # Lags utilizados como predictores\n",
        "        lags_grid = [14, 30]\n",
        "\n",
        "        resultados_grid = model_selection_no_print.grid_search_forecaster(\n",
        "                                forecaster         = self.contadores[ID].model,\n",
        "                                y                  = self.contadores[ID].datos_consumo['CONSUMO'],\n",
        "                                param_grid         = param_grid,\n",
        "                                lags_grid          = lags_grid,\n",
        "                                steps              = steps,\n",
        "                                refit              = True,\n",
        "                                metric             = 'mean_squared_error',\n",
        "                                initial_train_size = len(self.contadores[ID].datos_consumo) - 14,\n",
        "                                return_best        = True,\n",
        "                                verbose            = False)\n",
        "        self.contadores[ID].RMSE_Train = math.sqrt(resultados_grid['metric'].head(1))\n",
        "        self.contadores[ID].Mejor_Parametro = list(resultados_grid['params'])[0]\n",
        "        self.contadores[ID].Mejor_Lag = max(list(resultados_grid['lags'].head(1))[0])\n",
        "        \n",
        "\n",
        "    def Entrenamiento(self,Grid=False):\n",
        "        # Entrenamiento de los modelos en self.contadores(lista) \n",
        "        # iterar lista y llamar a self.contadores[iter].modelo.train\n",
        "        # Rellena la variable self.contadores.Predicciones\n",
        "        indexC = 0\n",
        "        for contador in tqdm(self.contadores):\n",
        "            if isinstance(contador.model,ForecasterAutoreg):    # COMPROBAMOS QUE ES UN MODELO\n",
        "                if Grid:\n",
        "                    self.Grid_Search(indexC,self.dias_test)\n",
        "                    #contador.Juntar_Datos() #  JUNTA LOS DATOS PARA LUEGO HACER PREDICT\n",
        "                \n",
        "                #contador.model.fit(y=contador.datos_consumo['CONSUMO_NORM'])\n",
        "                contador.model.fit(y=contador.datos_consumo['CONSUMO'])\n",
        "                contador.model_Semanal.fit(y=contador.datos_consumo_semanal['CONSUMO'])\n",
        "                # HAY QUE TENER EN CUENTA CUANDO TERMINAN LOS DATOS\n",
        "                #predict = contador.model.predict(steps=self.dias_test) * contador.datos_consumo['CONSUMO'].std() + contador.datos_consumo['CONSUMO'].mean()\n",
        "                predict = contador.model.predict(steps=self.dias_test)\n",
        "                predict_semanal = contador.model_Semanal.predict(steps=self.semanas_test)\n",
        "                index = 1\n",
        "                for predict_dia in predict[0:7]:    # GUARDA 7 DIAS PREDICCION\n",
        "                    contador.Predicciones[index] = predict_dia\n",
        "                    index += 1\n",
        "                #contador.Predicciones[8]=predict[0:7].sum()     # GUARDA SEMANA1 PREDICCION\n",
        "                #contador.Predicciones[9]=predict[7:14].sum()    # GUARDA SEMANA2 PREDICCION\n",
        "                contador.Predicciones[8]=predict_semanal[0]              # GUARDA SEMANA1 PREDICCION\n",
        "                contador.Predicciones[9]=predict_semanal[1]              # GUARDA SEMANA2 PREDICCION\n",
        "            else:\n",
        "              for index in range(1,8):\n",
        "                    contador.Predicciones[index] = contador.model  # GUARDAMOS MEDIA EN LOS 7 DIAS\n",
        "              contador.Predicciones[8]=contador.model*7     # GUARDAMOS MEDIA SEMANA1\n",
        "              contador.Predicciones[9]=contador.model*7     # GUARDAMOS MEDIA SEMANA2\n",
        "            \n",
        "            indexC += 1\n",
        "                  \n",
        "\n",
        "    def Calculo_RMSE(self):\n",
        "        # Calculo rmse utlizando datos de test\n",
        "        RMSE_Todos = []\n",
        "        for contador in tqdm(self.contadores):\n",
        "            #if contador.dias > 180 and len(contador.datos_test) == self.dias_test:  # VER LIMITE NO DEPENDE DE LA CLASE CONTADOR\n",
        "            if len(contador.datos_test) == self.dias_test:\n",
        "                #media_RMSE_semanal=math.sqrt(mean_squared_error([contador.datos_test['CONSUMO'][0:7].sum(), contador.datos_test['CONSUMO'][7:14].sum()] , [contador.Predicciones[8], contador.Predicciones[9]]))\n",
        "                media_RMSE_semanal=math.sqrt(mean_squared_error(contador.datos_test_semanal['CONSUMO'] , [contador.Predicciones[8], contador.Predicciones[9]]))\n",
        "                contador.RMSE_Test = 0.5*math.sqrt(mean_squared_error(contador.datos_test['CONSUMO'][0:7],contador.Predicciones[1:8]))+0.5*media_RMSE_semanal\n",
        "                # Sin raiz\n",
        "                #media_RMSE_semanal=mean_squared_error([contador.datos_test['CONSUMO'][0:7].sum(), contador.datos_test['CONSUMO'][7:14].sum()] , [contador.Predicciones[8], contador.Predicciones[9]])\n",
        "                #contador.RMSE_Test = 0.5+mean_squared_error(contador.datos_test['CONSUMO'][0:7],contador.Predicciones[1:8])+0.5*media_RMSE_semanal\n",
        "                RMSE_Todos.append(contador.RMSE_Test)\n",
        "\n",
        "        self.RMSE_Test_Suma = sum(RMSE_Todos)\n",
        "        self.RMSE_Test_Promedio = self.RMSE_Test_Suma / len(RMSE_Todos) \n",
        "        \n",
        "    \n",
        "    def GenerarResultados(self,equipo='Team2021IA3',numeral=1):\n",
        "        # Mediante los datos predicciones generamos txt con el formato del datathon\n",
        "        # Separando campos con “|”, el valor de la predicción en litros, y los decimales con “.” 2 decimales\n",
        "        # Fichero: \"Cajamar_Universitat de València (UV)_Team2021IA3_numeral.txt\"\n",
        "        \n",
        "        columnas = ['ID','Dia_1','Dia_2','Dia_3','Dia_4','Dia_5','Dia_6','Dia_7','Semana_1','Semana_2']\n",
        "        datos = []\n",
        "\n",
        "        for contador in tqdm(self.contadores):\n",
        "            datos.append(contador.Predicciones)\n",
        "        \n",
        "        print('TAMAÑO DE LOS DATOS: ', len(datos), 'x' ,len(datos[0]))\n",
        "        \n",
        "        dataset = pd.DataFrame(datos,columns=columnas)\n",
        "        dataset.to_csv('Cajamar_Universitat de València (UV)_' + equipo + '_' + str(numeral) + '.txt',header=False ,sep='|' ,index=False ,decimal='.' ,float_format='%.2f')\n",
        "         \n",
        "    def GraficasEstadisticas(self,contador=0,Test=True):\n",
        "        # GRÁFICAS DE CONTADORES INDIVIDUALES CON TEST Y PREDICCIONES\n",
        "        if Test:\n",
        "            fig, ax = plt.subplots(figsize=(10, 4))\n",
        "            self.contadores[contador].datos_test['CONSUMO'].plot(ax=ax, label='Test', linewidth=1)\n",
        "            pd.DataFrame(self.contadores[contador].Predicciones[1:8],index=self.contadores[contador].datos_test['CONSUMO'].index[0:7],columns=['Predicción']).plot(ax=ax, label='Prediccion', linewidth=1)\n",
        "            ax.set_title('Consumo Agua. RMSE: ' + str(self.contadores[contador].RMSE_Test) + ' Contador: ' + str(contador))\n",
        "            ax.legend();\n",
        "        else:\n",
        "            base = date(2020,2,1)\n",
        "            index = [base + timedelta(days=x) for x in range(7)]\n",
        "            index = pd.DataFrame(index)\n",
        "            index.insert(1, 'SAMPLETIME', [base + timedelta(days=x) for x in range(7)], True)\n",
        "            index['SAMPLETIME']=pd.to_datetime(index['SAMPLETIME'], format='%Y-%m-%d')\n",
        "            index=index.set_index('SAMPLETIME')\n",
        "            index_puro=index.drop([0],axis=1)\n",
        "            index_puro['Predicción']=Proyecto.contadores[contador].Predicciones[1:8]\n",
        "            #df_final=pd.DataFrame(index_puro.insert(1, 'Predicción', pd.Series(self.contadores[contador].Predicciones[1:8]), True))\n",
        "\n",
        "            fig, ax = plt.subplots(figsize=(10, 4))\n",
        "            self.contadores[contador].datos_consumo['CONSUMO'].plot(ax=ax, label='Consumo', linewidth=1)\n",
        "            index_puro.plot(ax=ax, label='Predicción', linewidth=1)\n",
        "            #pd.DataFrame(self.contadores[contador].Predicciones[1:8],index=index_puro,columns=['Predicción']).plot(ax=ax, label='Prediccion', linewidth=1)\n",
        "            ax.set_title('Consumo Agua. RMSE: ' + str(self.contadores[contador].RMSE_Train) + ' Contador: ' + str(contador))\n",
        "            ax.legend();\n",
        "\n",
        "    def Guardar_Modelos(self,Ruta='./modelos/Modelo_ID_'):\n",
        "\n",
        "        print('GUARDANDO MODELOS.....')\n",
        "        for contador in tqdm(self.contadores):\n",
        "            dump(contador.model,Ruta + str(contador.ID))\n",
        "\n",
        "        "
      ]
    },
    {
      "cell_type": "code",
      "execution_count": 37,
      "id": "e5866f16",
      "metadata": {
        "colab": {
          "base_uri": "https://localhost:8080/"
        },
        "id": "e5866f16",
        "outputId": "9f57d481-45de-411b-99dc-9684a7880223"
      },
      "outputs": [
        {
          "name": "stderr",
          "output_type": "stream",
          "text": [
            "  0%|          | 0/11 [00:00<?, ?it/s]"
          ]
        },
        {
          "name": "stdout",
          "output_type": "stream",
          "text": [
            "CARGANDO DATOS.....\n",
            "GENERANDO CONTADORES.....\n"
          ]
        },
        {
          "name": "stderr",
          "output_type": "stream",
          "text": [
            "100%|██████████| 11/11 [00:00<00:00, 66.29it/s]"
          ]
        },
        {
          "name": "stdout",
          "output_type": "stream",
          "text": [
            "PROCESO DE CARGA FINALIZADO\n"
          ]
        },
        {
          "name": "stderr",
          "output_type": "stream",
          "text": [
            "\n"
          ]
        }
      ],
      "source": [
        "#Proyecto = CajaMar_Water('Modelar_UH2022.txt')\n",
        "#Proyecto = CajaMar_Water('/content/drive/MyDrive/Modelar_UH2022_10_Contadores.txt')\n",
        "#Proyecto = CajaMar_Water('Modelar_UH2022_10_Contadores.txt',umbral_modelo=367)\n",
        "Proyecto = CajaMar_Water('Modelar_UH2022_10_Contadores.txt')\n",
        "#Proyecto = CajaMar_Water('Modelar_UH2022_3_Contadores.txt')\n",
        "#Proyecto = CajaMar_Water('Modelar_UH2022_Contador_2735.txt')\n",
        "#Proyecto = CajaMar_Water('Modelar_UH2022_Contador_2561.txt')"
      ]
    },
    {
      "cell_type": "markdown",
      "id": "24350d07",
      "metadata": {},
      "source": [
        "# DOS MODELOS UNO PARA DIAS Y OTRO PARA SEMANAS"
      ]
    },
    {
      "cell_type": "code",
      "execution_count": 36,
      "id": "bb02f245",
      "metadata": {},
      "outputs": [
        {
          "name": "stderr",
          "output_type": "stream",
          "text": [
            "100%|██████████| 11/11 [00:00<00:00, 1975.90it/s]\n",
            "100%|██████████| 11/11 [01:03<00:00,  5.77s/it]\n",
            "100%|██████████| 11/11 [00:00<00:00, 1353.20it/s]\n"
          ]
        }
      ],
      "source": [
        "Proyecto.PartirDatos()\n",
        "Proyecto.Entrenamiento(Grid=True)\n",
        "Proyecto.Calculo_RMSE()"
      ]
    },
    {
      "cell_type": "code",
      "execution_count": 31,
      "id": "6b2a5611",
      "metadata": {},
      "outputs": [
        {
          "data": {
            "text/plain": [
              "224.40855367885982"
            ]
          },
          "execution_count": 31,
          "metadata": {},
          "output_type": "execute_result"
        }
      ],
      "source": [
        "Proyecto.RMSE_Test_Promedio"
      ]
    },
    {
      "cell_type": "code",
      "execution_count": 32,
      "id": "3834686f",
      "metadata": {},
      "outputs": [
        {
          "data": {
            "text/html": [
              "<div>\n",
              "<style scoped>\n",
              "    .dataframe tbody tr th:only-of-type {\n",
              "        vertical-align: middle;\n",
              "    }\n",
              "\n",
              "    .dataframe tbody tr th {\n",
              "        vertical-align: top;\n",
              "    }\n",
              "\n",
              "    .dataframe thead th {\n",
              "        text-align: right;\n",
              "    }\n",
              "</style>\n",
              "<table border=\"1\" class=\"dataframe\">\n",
              "  <thead>\n",
              "    <tr style=\"text-align: right;\">\n",
              "      <th></th>\n",
              "      <th>CONSUMO</th>\n",
              "    </tr>\n",
              "    <tr>\n",
              "      <th>SAMPLETIME</th>\n",
              "      <th></th>\n",
              "    </tr>\n",
              "  </thead>\n",
              "  <tbody>\n",
              "    <tr>\n",
              "      <th>2019-01-27</th>\n",
              "      <td>479.0</td>\n",
              "    </tr>\n",
              "    <tr>\n",
              "      <th>2019-02-03</th>\n",
              "      <td>1815.0</td>\n",
              "    </tr>\n",
              "    <tr>\n",
              "      <th>2019-02-10</th>\n",
              "      <td>2022.0</td>\n",
              "    </tr>\n",
              "    <tr>\n",
              "      <th>2019-02-17</th>\n",
              "      <td>2248.0</td>\n",
              "    </tr>\n",
              "    <tr>\n",
              "      <th>2019-02-24</th>\n",
              "      <td>1918.0</td>\n",
              "    </tr>\n",
              "    <tr>\n",
              "      <th>2019-03-03</th>\n",
              "      <td>1941.1</td>\n",
              "    </tr>\n",
              "    <tr>\n",
              "      <th>2019-03-10</th>\n",
              "      <td>2483.0</td>\n",
              "    </tr>\n",
              "    <tr>\n",
              "      <th>2019-03-17</th>\n",
              "      <td>1991.4</td>\n",
              "    </tr>\n",
              "    <tr>\n",
              "      <th>2019-03-24</th>\n",
              "      <td>2146.0</td>\n",
              "    </tr>\n",
              "    <tr>\n",
              "      <th>2019-03-31</th>\n",
              "      <td>2669.2</td>\n",
              "    </tr>\n",
              "    <tr>\n",
              "      <th>2019-04-07</th>\n",
              "      <td>2278.0</td>\n",
              "    </tr>\n",
              "    <tr>\n",
              "      <th>2019-04-14</th>\n",
              "      <td>1147.0</td>\n",
              "    </tr>\n",
              "    <tr>\n",
              "      <th>2019-04-21</th>\n",
              "      <td>1022.0</td>\n",
              "    </tr>\n",
              "    <tr>\n",
              "      <th>2019-04-28</th>\n",
              "      <td>1707.0</td>\n",
              "    </tr>\n",
              "    <tr>\n",
              "      <th>2019-05-05</th>\n",
              "      <td>2042.1</td>\n",
              "    </tr>\n",
              "    <tr>\n",
              "      <th>2019-05-12</th>\n",
              "      <td>2359.0</td>\n",
              "    </tr>\n",
              "    <tr>\n",
              "      <th>2019-05-19</th>\n",
              "      <td>1856.4</td>\n",
              "    </tr>\n",
              "    <tr>\n",
              "      <th>2019-05-26</th>\n",
              "      <td>1926.0</td>\n",
              "    </tr>\n",
              "    <tr>\n",
              "      <th>2019-06-02</th>\n",
              "      <td>2041.0</td>\n",
              "    </tr>\n",
              "    <tr>\n",
              "      <th>2019-06-09</th>\n",
              "      <td>2149.0</td>\n",
              "    </tr>\n",
              "    <tr>\n",
              "      <th>2019-06-16</th>\n",
              "      <td>1550.0</td>\n",
              "    </tr>\n",
              "    <tr>\n",
              "      <th>2019-06-23</th>\n",
              "      <td>2744.0</td>\n",
              "    </tr>\n",
              "    <tr>\n",
              "      <th>2019-06-30</th>\n",
              "      <td>2173.4</td>\n",
              "    </tr>\n",
              "    <tr>\n",
              "      <th>2019-07-07</th>\n",
              "      <td>2072.2</td>\n",
              "    </tr>\n",
              "    <tr>\n",
              "      <th>2019-07-14</th>\n",
              "      <td>2445.0</td>\n",
              "    </tr>\n",
              "    <tr>\n",
              "      <th>2019-07-21</th>\n",
              "      <td>2120.3</td>\n",
              "    </tr>\n",
              "    <tr>\n",
              "      <th>2019-07-28</th>\n",
              "      <td>2071.4</td>\n",
              "    </tr>\n",
              "    <tr>\n",
              "      <th>2019-08-04</th>\n",
              "      <td>1991.0</td>\n",
              "    </tr>\n",
              "    <tr>\n",
              "      <th>2019-08-11</th>\n",
              "      <td>2389.0</td>\n",
              "    </tr>\n",
              "    <tr>\n",
              "      <th>2019-08-18</th>\n",
              "      <td>203.0</td>\n",
              "    </tr>\n",
              "    <tr>\n",
              "      <th>2019-08-25</th>\n",
              "      <td>621.0</td>\n",
              "    </tr>\n",
              "    <tr>\n",
              "      <th>2019-09-01</th>\n",
              "      <td>2589.0</td>\n",
              "    </tr>\n",
              "    <tr>\n",
              "      <th>2019-09-08</th>\n",
              "      <td>1891.0</td>\n",
              "    </tr>\n",
              "    <tr>\n",
              "      <th>2019-09-15</th>\n",
              "      <td>2068.0</td>\n",
              "    </tr>\n",
              "    <tr>\n",
              "      <th>2019-09-22</th>\n",
              "      <td>1969.0</td>\n",
              "    </tr>\n",
              "    <tr>\n",
              "      <th>2019-09-29</th>\n",
              "      <td>2106.4</td>\n",
              "    </tr>\n",
              "    <tr>\n",
              "      <th>2019-10-06</th>\n",
              "      <td>2373.0</td>\n",
              "    </tr>\n",
              "    <tr>\n",
              "      <th>2019-10-13</th>\n",
              "      <td>1937.0</td>\n",
              "    </tr>\n",
              "    <tr>\n",
              "      <th>2019-10-20</th>\n",
              "      <td>1815.0</td>\n",
              "    </tr>\n",
              "    <tr>\n",
              "      <th>2019-10-27</th>\n",
              "      <td>2020.0</td>\n",
              "    </tr>\n",
              "    <tr>\n",
              "      <th>2019-11-03</th>\n",
              "      <td>1835.4</td>\n",
              "    </tr>\n",
              "    <tr>\n",
              "      <th>2019-11-10</th>\n",
              "      <td>2157.0</td>\n",
              "    </tr>\n",
              "    <tr>\n",
              "      <th>2019-11-17</th>\n",
              "      <td>1744.0</td>\n",
              "    </tr>\n",
              "    <tr>\n",
              "      <th>2019-11-24</th>\n",
              "      <td>2114.0</td>\n",
              "    </tr>\n",
              "    <tr>\n",
              "      <th>2019-12-01</th>\n",
              "      <td>2076.0</td>\n",
              "    </tr>\n",
              "    <tr>\n",
              "      <th>2019-12-08</th>\n",
              "      <td>1632.0</td>\n",
              "    </tr>\n",
              "    <tr>\n",
              "      <th>2019-12-15</th>\n",
              "      <td>1753.0</td>\n",
              "    </tr>\n",
              "    <tr>\n",
              "      <th>2019-12-22</th>\n",
              "      <td>2167.0</td>\n",
              "    </tr>\n",
              "    <tr>\n",
              "      <th>2019-12-29</th>\n",
              "      <td>2129.0</td>\n",
              "    </tr>\n",
              "    <tr>\n",
              "      <th>2020-01-05</th>\n",
              "      <td>1917.0</td>\n",
              "    </tr>\n",
              "    <tr>\n",
              "      <th>2020-01-12</th>\n",
              "      <td>2061.0</td>\n",
              "    </tr>\n",
              "  </tbody>\n",
              "</table>\n",
              "</div>"
            ],
            "text/plain": [
              "            CONSUMO\n",
              "SAMPLETIME         \n",
              "2019-01-27    479.0\n",
              "2019-02-03   1815.0\n",
              "2019-02-10   2022.0\n",
              "2019-02-17   2248.0\n",
              "2019-02-24   1918.0\n",
              "2019-03-03   1941.1\n",
              "2019-03-10   2483.0\n",
              "2019-03-17   1991.4\n",
              "2019-03-24   2146.0\n",
              "2019-03-31   2669.2\n",
              "2019-04-07   2278.0\n",
              "2019-04-14   1147.0\n",
              "2019-04-21   1022.0\n",
              "2019-04-28   1707.0\n",
              "2019-05-05   2042.1\n",
              "2019-05-12   2359.0\n",
              "2019-05-19   1856.4\n",
              "2019-05-26   1926.0\n",
              "2019-06-02   2041.0\n",
              "2019-06-09   2149.0\n",
              "2019-06-16   1550.0\n",
              "2019-06-23   2744.0\n",
              "2019-06-30   2173.4\n",
              "2019-07-07   2072.2\n",
              "2019-07-14   2445.0\n",
              "2019-07-21   2120.3\n",
              "2019-07-28   2071.4\n",
              "2019-08-04   1991.0\n",
              "2019-08-11   2389.0\n",
              "2019-08-18    203.0\n",
              "2019-08-25    621.0\n",
              "2019-09-01   2589.0\n",
              "2019-09-08   1891.0\n",
              "2019-09-15   2068.0\n",
              "2019-09-22   1969.0\n",
              "2019-09-29   2106.4\n",
              "2019-10-06   2373.0\n",
              "2019-10-13   1937.0\n",
              "2019-10-20   1815.0\n",
              "2019-10-27   2020.0\n",
              "2019-11-03   1835.4\n",
              "2019-11-10   2157.0\n",
              "2019-11-17   1744.0\n",
              "2019-11-24   2114.0\n",
              "2019-12-01   2076.0\n",
              "2019-12-08   1632.0\n",
              "2019-12-15   1753.0\n",
              "2019-12-22   2167.0\n",
              "2019-12-29   2129.0\n",
              "2020-01-05   1917.0\n",
              "2020-01-12   2061.0"
            ]
          },
          "execution_count": 32,
          "metadata": {},
          "output_type": "execute_result"
        }
      ],
      "source": [
        "Proyecto.contadores[0].datos_consumo_semanal"
      ]
    },
    {
      "cell_type": "markdown",
      "id": "93756d2c",
      "metadata": {},
      "source": [
        "# GRID SEARCH\n",
        " # Hiperparámetros del regresor\n",
        "       #param_grid = {'n_estimators': [100,200],\n",
        "       #'max_depth': [3, 5, 10]}\n",
        "       #len(self.contadores[ID].datos_consumo) - 14 \n",
        "       # Lags utilizados como predictores\n",
        "       #lags_grid = [14, 30]"
      ]
    },
    {
      "cell_type": "code",
      "execution_count": 54,
      "id": "adcfca7a",
      "metadata": {},
      "outputs": [
        {
          "name": "stderr",
          "output_type": "stream",
          "text": [
            "100%|██████████| 2747/2747 [00:00<00:00, 7799.79it/s]\n",
            "100%|██████████| 2747/2747 [3:55:40<00:00,  5.15s/it]  \n",
            "100%|██████████| 2747/2747 [00:02<00:00, 964.27it/s] \n",
            "100%|██████████| 2747/2747 [18:14<00:00,  2.51it/s]\n",
            "100%|██████████| 2747/2747 [00:00<00:00, 1062304.36it/s]"
          ]
        },
        {
          "name": "stdout",
          "output_type": "stream",
          "text": [
            "TAMAÑO DE LOS DATOS:  2747 x 10\n",
            "684.9139472755802 1865020.6784314048\n"
          ]
        },
        {
          "name": "stderr",
          "output_type": "stream",
          "text": [
            "\n"
          ]
        }
      ],
      "source": [
        "Proyecto.PartirDatos()\n",
        "Proyecto.Entrenamiento(Grid=True)\n",
        "Proyecto.Calculo_RMSE()\n",
        "# RELLENADO RMSE_Train y RMSE_Test y model con el mejor modelo\n",
        "# VOLVEMOS A JUNTAR LOS 14 DIAS\n",
        "for contador in Proyecto.contadores:\n",
        "    contador.Juntar_Datos()\n",
        "Proyecto.Entrenamiento()\n",
        "Proyecto.GenerarResultados(equipo='GRID')\n",
        "print(Proyecto.RMSE_Test_Promedio,Proyecto.RMSE_Test_Suma)"
      ]
    },
    {
      "cell_type": "code",
      "execution_count": 119,
      "id": "b99f25ac",
      "metadata": {},
      "outputs": [
        {
          "data": {
            "image/png": "[encoded data removed]",
            "text/plain": [
              "<Figure size 720x288 with 1 Axes>"
            ]
          },
          "metadata": {
            "needs_background": "light"
          },
          "output_type": "display_data"
        }
      ],
      "source": [
        "Proyecto.GraficasEstadisticas(1004,Test=False)"
      ]
    },
    {
      "cell_type": "code",
      "execution_count": 83,
      "id": "f8e3d4c1",
      "metadata": {},
      "outputs": [
        {
          "name": "stderr",
          "output_type": "stream",
          "text": [
            "  0%|          | 2/2747 [00:00<02:46, 16.44it/s]"
          ]
        },
        {
          "name": "stdout",
          "output_type": "stream",
          "text": [
            "GUARDANDO MODELOS.....\n"
          ]
        },
        {
          "name": "stderr",
          "output_type": "stream",
          "text": [
            "100%|██████████| 2747/2747 [02:09<00:00, 21.16it/s]\n"
          ]
        }
      ],
      "source": [
        "Proyecto.Guardar_Modelos()"
      ]
    },
    {
      "cell_type": "code",
      "execution_count": 47,
      "id": "a5ae7e0c",
      "metadata": {},
      "outputs": [
        {
          "data": {
            "text/plain": [
              "Timedelta('365 days 00:00:00')"
            ]
          },
          "execution_count": 47,
          "metadata": {},
          "output_type": "execute_result"
        }
      ],
      "source": [
        "Proyecto.contadores[0].fecha_fin_contador - Proyecto.contadores[0].fecha_inicio_contador + timedelta(days=1)"
      ]
    },
    {
      "cell_type": "code",
      "execution_count": 39,
      "id": "1fb45b8c",
      "metadata": {},
      "outputs": [
        {
          "data": {
            "text/plain": [
              "datetime.timedelta(days=365)"
            ]
          },
          "execution_count": 39,
          "metadata": {},
          "output_type": "execute_result"
        }
      ],
      "source": [
        "timedelta(Proyecto.contadores[0].dias)"
      ]
    },
    {
      "cell_type": "code",
      "execution_count": 82,
      "id": "d7b6ce5d",
      "metadata": {},
      "outputs": [
        {
          "ename": "TypeError",
          "evalue": "write() argument must be str, not bytes",
          "output_type": "error",
          "traceback": [
            "\u001b[0;31m---------------------------------------------------------------------------\u001b[0m",
            "\u001b[0;31mTypeError\u001b[0m                                 Traceback (most recent call last)",
            "\u001b[0;32m<ipython-input-82-4d3f4ae30b9f>\u001b[0m in \u001b[0;36m<module>\u001b[0;34m\u001b[0m\n\u001b[1;32m      2\u001b[0m \u001b[0;34m\u001b[0m\u001b[0m\n\u001b[1;32m      3\u001b[0m \u001b[0mfile\u001b[0m \u001b[0;34m=\u001b[0m \u001b[0mopen\u001b[0m\u001b[0;34m(\u001b[0m\u001b[0;34m'Copia_Proyecto'\u001b[0m\u001b[0;34m+\u001b[0m\u001b[0;34m'.txt'\u001b[0m\u001b[0;34m,\u001b[0m\u001b[0;34m'w'\u001b[0m\u001b[0;34m)\u001b[0m\u001b[0;34m\u001b[0m\u001b[0;34m\u001b[0m\u001b[0m\n\u001b[0;32m----> 4\u001b[0;31m \u001b[0mfile\u001b[0m\u001b[0;34m.\u001b[0m\u001b[0mwrite\u001b[0m\u001b[0;34m(\u001b[0m\u001b[0mpickle\u001b[0m\u001b[0;34m.\u001b[0m\u001b[0mdumps\u001b[0m\u001b[0;34m(\u001b[0m\u001b[0mProyecto\u001b[0m\u001b[0;34m.\u001b[0m\u001b[0mcontadores\u001b[0m\u001b[0;34m[\u001b[0m\u001b[0;36m0\u001b[0m\u001b[0;34m]\u001b[0m\u001b[0;34m.\u001b[0m\u001b[0m__dict__\u001b[0m\u001b[0;34m)\u001b[0m\u001b[0;34m)\u001b[0m\u001b[0;34m\u001b[0m\u001b[0;34m\u001b[0m\u001b[0m\n\u001b[0m\u001b[1;32m      5\u001b[0m \u001b[0mfile\u001b[0m\u001b[0;34m.\u001b[0m\u001b[0mclose\u001b[0m\u001b[0;34m(\u001b[0m\u001b[0;34m)\u001b[0m\u001b[0;34m\u001b[0m\u001b[0;34m\u001b[0m\u001b[0m\n",
            "\u001b[0;31mTypeError\u001b[0m: write() argument must be str, not bytes"
          ]
        }
      ],
      "source": [
        "#Proyecto.__dict__\n",
        "\n",
        "file = open('Copia_Proyecto'+'.txt','w')\n",
        "file.write(pickle.dumps(Proyecto.__dict__))\n",
        "file.close()"
      ]
    },
    {
      "cell_type": "code",
      "execution_count": null,
      "id": "d83b2392",
      "metadata": {},
      "outputs": [],
      "source": [
        "#Proyecto = CajaMar_Water('Modelar_UH2022.txt')\n",
        "Proyecto.PartirDatos()\n",
        "Proyecto.Entrenamiento(Grid=True)\n",
        "Proyecto.Calculo_RMSE()\n",
        "# RELLENADO RMSE_Train y RMSE_Test y model con el mejor modelo\n",
        "# VOLVEMOS A JUNTAR LOS 14 DIAS\n",
        "for contador in Proyecto.contadores:\n",
        "    contador.Juntar_Datos()\n",
        "Proyecto.Entrenamiento()\n",
        "Proyecto.GenerarResultados(equipo='GRID')\n",
        "\n",
        "# GUARDAR MODELOS\n",
        "#Proyecto.Guardar_Modelos()"
      ]
    },
    {
      "cell_type": "code",
      "execution_count": 102,
      "id": "05f3e907",
      "metadata": {},
      "outputs": [
        {
          "name": "stderr",
          "output_type": "stream",
          "text": [
            " 36%|███▋      | 4/11 [00:00<00:00, 32.78it/s]"
          ]
        },
        {
          "name": "stdout",
          "output_type": "stream",
          "text": [
            "GUARDANDO MODELOS.....\n"
          ]
        },
        {
          "name": "stderr",
          "output_type": "stream",
          "text": [
            "100%|██████████| 11/11 [00:00<00:00, 34.73it/s]\n"
          ]
        }
      ],
      "source": [
        "Proyecto.Guardar_Modelos()"
      ]
    },
    {
      "cell_type": "code",
      "execution_count": 95,
      "id": "abcb87fc",
      "metadata": {},
      "outputs": [
        {
          "name": "stdout",
          "output_type": "stream",
          "text": [
            "0 74.59041362891061 191.74231135280596\n",
            "1 12.86668364468534 106.58768847799644\n",
            "2 10.310181899329688 24.866257025645695\n",
            "3 88.28633929187893 260.65957803786375\n",
            "4 81.68681227927514 326.57393486791926\n",
            "5 140.7942285802261 552.6132571273574\n",
            "6 56.288631127645196 29.903809363050083\n",
            "7 118.82050171619986 124.71273773299313\n",
            "8 11.879376969526644 644.7591204702367\n",
            "9 186.50702521898856 601.7829454369686\n"
          ]
        }
      ],
      "source": [
        "for id in range(10):\n",
        "    print(id,Proyecto.contadores[id].RMSE_Train,Proyecto.contadores[id].RMSE_Test)"
      ]
    },
    {
      "cell_type": "code",
      "execution_count": 91,
      "id": "46b67738",
      "metadata": {},
      "outputs": [
        {
          "data": {
            "text/plain": [
              "106.58768847799644"
            ]
          },
          "execution_count": 91,
          "metadata": {},
          "output_type": "execute_result"
        }
      ],
      "source": [
        "Proyecto.contadores[1].RMSE_Test"
      ]
    },
    {
      "cell_type": "code",
      "execution_count": 26,
      "id": "1f962240",
      "metadata": {},
      "outputs": [
        {
          "data": {
            "text/plain": [
              "288.1549377610538"
            ]
          },
          "execution_count": 26,
          "metadata": {},
          "output_type": "execute_result"
        }
      ],
      "source": [
        "Proyecto.RMSE_Test_Promedio"
      ]
    },
    {
      "cell_type": "code",
      "execution_count": 20,
      "id": "581dc680",
      "metadata": {},
      "outputs": [
        {
          "data": {
            "text/plain": [
              "376.8270715655839"
            ]
          },
          "execution_count": 20,
          "metadata": {},
          "output_type": "execute_result"
        }
      ],
      "source": [
        "Proyecto.RMSE_Test_Promedio"
      ]
    },
    {
      "cell_type": "code",
      "execution_count": null,
      "id": "6c2b119e",
      "metadata": {},
      "outputs": [],
      "source": [
        "# SIN PARTIR DATOS PARA GENERAR TXT ANTES GENERAR MÉTODO PARA GUARDAR DATOS\n",
        "Proyecto = CajaMar_Water('Modelar_UH2022.txt')\n",
        "Proyecto.Entrenamiento()"
      ]
    },
    {
      "cell_type": "markdown",
      "id": "bf4b8866",
      "metadata": {},
      "source": [
        "# MODELO GANADOR PRUEBA INTERMEDIA RMSE CON SUMA"
      ]
    },
    {
      "cell_type": "code",
      "execution_count": 3,
      "id": "9f3f97f5",
      "metadata": {},
      "outputs": [
        {
          "name": "stderr",
          "output_type": "stream",
          "text": [
            "100%|██████████| 2747/2747 [00:00<00:00, 7788.71it/s]\n",
            "100%|██████████| 2747/2747 [12:53<00:00,  3.55it/s]\n",
            "100%|██████████| 2747/2747 [00:02<00:00, 1202.81it/s]\n"
          ]
        }
      ],
      "source": [
        "Proyecto = CajaMar_Water('Modelar_UH2022.txt')\n",
        "Proyecto.PartirDatos()\n",
        "Proyecto.Entrenamiento()\n",
        "Proyecto.Calculo_RMSE()"
      ]
    },
    {
      "cell_type": "code",
      "execution_count": 4,
      "id": "4d82f9c0",
      "metadata": {},
      "outputs": [
        {
          "data": {
            "text/plain": [
              "1723348.9862600241"
            ]
          },
          "execution_count": 4,
          "metadata": {},
          "output_type": "execute_result"
        }
      ],
      "source": [
        "Proyecto.RMSE_Test_Suma"
      ]
    },
    {
      "cell_type": "code",
      "execution_count": 5,
      "id": "03236d14",
      "metadata": {},
      "outputs": [
        {
          "data": {
            "text/plain": [
              "632.8861499302329"
            ]
          },
          "execution_count": 5,
          "metadata": {},
          "output_type": "execute_result"
        }
      ],
      "source": [
        "Proyecto.RMSE_Test_Promedio"
      ]
    },
    {
      "cell_type": "markdown",
      "id": "6e5abe61",
      "metadata": {},
      "source": [
        "# NUMERAL=1 ENTREGA DE DATOS HACIENDO LA MEDIA"
      ]
    },
    {
      "cell_type": "code",
      "execution_count": 8,
      "id": "b1c74252",
      "metadata": {},
      "outputs": [
        {
          "name": "stdout",
          "output_type": "stream",
          "text": [
            "CARGANDO DATOS.....\n"
          ]
        },
        {
          "name": "stderr",
          "output_type": "stream",
          "text": [
            "  0%|          | 0/2747 [00:00<?, ?it/s]"
          ]
        },
        {
          "name": "stdout",
          "output_type": "stream",
          "text": [
            "GENERANDO CONTADORES.....\n"
          ]
        },
        {
          "name": "stderr",
          "output_type": "stream",
          "text": [
            "100%|██████████| 2747/2747 [01:05<00:00, 42.10it/s]\n",
            " 29%|██▉       | 804/2747 [00:00<00:00, 8032.86it/s]"
          ]
        },
        {
          "name": "stdout",
          "output_type": "stream",
          "text": [
            "PROCESO DE CARGA FINALIZADO\n"
          ]
        },
        {
          "name": "stderr",
          "output_type": "stream",
          "text": [
            "100%|██████████| 2747/2747 [00:00<00:00, 8537.90it/s]\n",
            "100%|██████████| 2747/2747 [00:00<00:00, 444855.33it/s]\n",
            "100%|██████████| 2747/2747 [00:02<00:00, 1262.36it/s]\n"
          ]
        },
        {
          "name": "stdout",
          "output_type": "stream",
          "text": [
            "RMSE EN TEST ULTIMOS 14 DIAS (MEDIA):  1200.8062020214459\n",
            "CARGANDO DATOS.....\n"
          ]
        },
        {
          "name": "stderr",
          "output_type": "stream",
          "text": [
            "  0%|          | 0/2747 [00:00<?, ?it/s]"
          ]
        },
        {
          "name": "stdout",
          "output_type": "stream",
          "text": [
            "GENERANDO CONTADORES.....\n"
          ]
        },
        {
          "name": "stderr",
          "output_type": "stream",
          "text": [
            "100%|██████████| 2747/2747 [01:03<00:00, 43.07it/s]\n",
            "100%|██████████| 2747/2747 [00:00<00:00, 430365.80it/s]\n",
            "100%|██████████| 2747/2747 [00:00<00:00, 1583093.31it/s]"
          ]
        },
        {
          "name": "stdout",
          "output_type": "stream",
          "text": [
            "PROCESO DE CARGA FINALIZADO\n",
            "TAMAÑO DE LOS DATOS:  2747 x 10\n"
          ]
        },
        {
          "name": "stderr",
          "output_type": "stream",
          "text": [
            "\n"
          ]
        }
      ],
      "source": [
        "Proyecto = CajaMar_Water('Modelar_UH2022.txt',umbral_modelo=367)\n",
        "Proyecto.PartirDatos()\n",
        "Proyecto.Entrenamiento()\n",
        "Proyecto.Calculo_RMSE()\n",
        "print('RMSE EN TEST ULTIMOS 14 DIAS (MEDIA): ',Proyecto.RMSE_Test_Promedio)\n",
        "# SIN PARTIR DATOS PARA GENERAR TXT\n",
        "Proyecto = CajaMar_Water('Modelar_UH2022.txt',umbral_modelo=367)\n",
        "Proyecto.Entrenamiento()\n",
        "Proyecto.GenerarResultados(numeral=1)\n"
      ]
    },
    {
      "cell_type": "markdown",
      "id": "93464daf",
      "metadata": {},
      "source": [
        "# NUMERAL=2 ENTREGA DE DATOS CON DISTINTOS LIMITES DE UMBRAL Y EL MODELO POR DEFECTO. RANDOM FOREST REGRESOR"
      ]
    },
    {
      "cell_type": "code",
      "execution_count": 10,
      "id": "e2988f43",
      "metadata": {},
      "outputs": [
        {
          "name": "stdout",
          "output_type": "stream",
          "text": [
            "CARGANDO DATOS.....\n"
          ]
        },
        {
          "name": "stderr",
          "output_type": "stream",
          "text": [
            "  0%|          | 0/2747 [00:00<?, ?it/s]"
          ]
        },
        {
          "name": "stdout",
          "output_type": "stream",
          "text": [
            "GENERANDO CONTADORES.....\n"
          ]
        },
        {
          "name": "stderr",
          "output_type": "stream",
          "text": [
            "100%|██████████| 2747/2747 [01:03<00:00, 43.26it/s]\n",
            " 58%|█████▊    | 1595/2747 [00:00<00:00, 7983.82it/s]"
          ]
        },
        {
          "name": "stdout",
          "output_type": "stream",
          "text": [
            "PROCESO DE CARGA FINALIZADO\n"
          ]
        },
        {
          "name": "stderr",
          "output_type": "stream",
          "text": [
            "100%|██████████| 2747/2747 [00:00<00:00, 8303.63it/s]\n",
            "100%|██████████| 2747/2747 [10:59<00:00,  4.16it/s]\n",
            "100%|██████████| 2747/2747 [00:02<00:00, 1281.55it/s]\n"
          ]
        },
        {
          "name": "stdout",
          "output_type": "stream",
          "text": [
            "RMSE EN TEST ULTIMOS 14 DIAS (MEDIA):  620.7288387410877  UMBRAL:  100\n",
            "CARGANDO DATOS.....\n"
          ]
        },
        {
          "name": "stderr",
          "output_type": "stream",
          "text": [
            "  0%|          | 0/2747 [00:00<?, ?it/s]"
          ]
        },
        {
          "name": "stdout",
          "output_type": "stream",
          "text": [
            "GENERANDO CONTADORES.....\n"
          ]
        },
        {
          "name": "stderr",
          "output_type": "stream",
          "text": [
            "100%|██████████| 2747/2747 [01:03<00:00, 43.46it/s]\n",
            "  0%|          | 0/2747 [00:00<?, ?it/s]"
          ]
        },
        {
          "name": "stdout",
          "output_type": "stream",
          "text": [
            "PROCESO DE CARGA FINALIZADO\n"
          ]
        },
        {
          "name": "stderr",
          "output_type": "stream",
          "text": [
            "100%|██████████| 2747/2747 [10:57<00:00,  4.18it/s]\n",
            "100%|██████████| 2747/2747 [00:00<00:00, 129869.40it/s]\n"
          ]
        },
        {
          "name": "stdout",
          "output_type": "stream",
          "text": [
            "TAMAÑO DE LOS DATOS:  2747 x 10\n",
            "CARGANDO DATOS.....\n"
          ]
        },
        {
          "name": "stderr",
          "output_type": "stream",
          "text": [
            "  0%|          | 0/2747 [00:00<?, ?it/s]"
          ]
        },
        {
          "name": "stdout",
          "output_type": "stream",
          "text": [
            "GENERANDO CONTADORES.....\n"
          ]
        },
        {
          "name": "stderr",
          "output_type": "stream",
          "text": [
            "100%|██████████| 2747/2747 [01:03<00:00, 43.15it/s]\n",
            "  0%|          | 0/2747 [00:00<?, ?it/s]"
          ]
        },
        {
          "name": "stdout",
          "output_type": "stream",
          "text": [
            "PROCESO DE CARGA FINALIZADO\n"
          ]
        },
        {
          "name": "stderr",
          "output_type": "stream",
          "text": [
            "100%|██████████| 2747/2747 [00:00<00:00, 6073.98it/s]\n",
            "100%|██████████| 2747/2747 [10:35<00:00,  4.32it/s] \n",
            "100%|██████████| 2747/2747 [00:02<00:00, 1218.56it/s]\n"
          ]
        },
        {
          "name": "stdout",
          "output_type": "stream",
          "text": [
            "RMSE EN TEST ULTIMOS 14 DIAS (MEDIA):  637.536231110315  UMBRAL:  180\n",
            "CARGANDO DATOS.....\n"
          ]
        },
        {
          "name": "stderr",
          "output_type": "stream",
          "text": [
            "  0%|          | 0/2747 [00:00<?, ?it/s]"
          ]
        },
        {
          "name": "stdout",
          "output_type": "stream",
          "text": [
            "GENERANDO CONTADORES.....\n"
          ]
        },
        {
          "name": "stderr",
          "output_type": "stream",
          "text": [
            "100%|██████████| 2747/2747 [01:02<00:00, 43.69it/s]\n",
            "  0%|          | 0/2747 [00:00<?, ?it/s]"
          ]
        },
        {
          "name": "stdout",
          "output_type": "stream",
          "text": [
            "PROCESO DE CARGA FINALIZADO\n"
          ]
        },
        {
          "name": "stderr",
          "output_type": "stream",
          "text": [
            "100%|██████████| 2747/2747 [10:36<00:00,  4.32it/s] \n",
            "100%|██████████| 2747/2747 [00:00<00:00, 1460298.24it/s]\n"
          ]
        },
        {
          "name": "stdout",
          "output_type": "stream",
          "text": [
            "TAMAÑO DE LOS DATOS:  2747 x 10\n",
            "CARGANDO DATOS.....\n"
          ]
        },
        {
          "name": "stderr",
          "output_type": "stream",
          "text": [
            "  0%|          | 0/2747 [00:00<?, ?it/s]"
          ]
        },
        {
          "name": "stdout",
          "output_type": "stream",
          "text": [
            "GENERANDO CONTADORES.....\n"
          ]
        },
        {
          "name": "stderr",
          "output_type": "stream",
          "text": [
            "100%|██████████| 2747/2747 [01:01<00:00, 44.70it/s]\n",
            " 59%|█████▉    | 1620/2747 [00:00<00:00, 8049.92it/s]"
          ]
        },
        {
          "name": "stdout",
          "output_type": "stream",
          "text": [
            "PROCESO DE CARGA FINALIZADO\n"
          ]
        },
        {
          "name": "stderr",
          "output_type": "stream",
          "text": [
            "100%|██████████| 2747/2747 [00:00<00:00, 8335.61it/s]\n",
            "100%|██████████| 2747/2747 [09:55<00:00,  4.61it/s] \n",
            "100%|██████████| 2747/2747 [00:02<00:00, 1303.33it/s]\n"
          ]
        },
        {
          "name": "stdout",
          "output_type": "stream",
          "text": [
            "RMSE EN TEST ULTIMOS 14 DIAS (MEDIA):  654.9834101993102  UMBRAL:  270\n",
            "CARGANDO DATOS.....\n"
          ]
        },
        {
          "name": "stderr",
          "output_type": "stream",
          "text": [
            "  0%|          | 0/2747 [00:00<?, ?it/s]"
          ]
        },
        {
          "name": "stdout",
          "output_type": "stream",
          "text": [
            "GENERANDO CONTADORES.....\n"
          ]
        },
        {
          "name": "stderr",
          "output_type": "stream",
          "text": [
            "100%|██████████| 2747/2747 [01:01<00:00, 44.54it/s]\n",
            "  0%|          | 0/2747 [00:00<?, ?it/s]"
          ]
        },
        {
          "name": "stdout",
          "output_type": "stream",
          "text": [
            "PROCESO DE CARGA FINALIZADO\n"
          ]
        },
        {
          "name": "stderr",
          "output_type": "stream",
          "text": [
            "100%|██████████| 2747/2747 [09:57<00:00,  4.60it/s] \n",
            "100%|██████████| 2747/2747 [00:00<00:00, 1501010.04it/s]"
          ]
        },
        {
          "name": "stdout",
          "output_type": "stream",
          "text": [
            "TAMAÑO DE LOS DATOS:  2747 x 10\n"
          ]
        },
        {
          "name": "stderr",
          "output_type": "stream",
          "text": [
            "\n"
          ]
        }
      ],
      "source": [
        "for umbral in [100,180,270]:\n",
        "    Proyecto = CajaMar_Water('Modelar_UH2022.txt',umbral_modelo=umbral)\n",
        "    Proyecto.PartirDatos()\n",
        "    Proyecto.Entrenamiento()\n",
        "    Proyecto.Calculo_RMSE()\n",
        "    print('RMSE EN TEST ULTIMOS 14 DIAS (MEDIA): ',Proyecto.RMSE_Test_Promedio,' UMBRAL: ', umbral)\n",
        "    # SIN PARTIR DATOS PARA GENERAR TXT\n",
        "    Proyecto = CajaMar_Water('Modelar_UH2022.txt',umbral_modelo=umbral)\n",
        "    Proyecto.Entrenamiento()\n",
        "    Proyecto.GenerarResultados(equipo='UMBRAL',numeral=umbral)"
      ]
    },
    {
      "cell_type": "markdown",
      "id": "e3d55c3d",
      "metadata": {},
      "source": [
        "# NUMERAL 2 UMBRAL 50 RANDOM FOREST REGRESOR\n",
        "\n"
      ]
    },
    {
      "cell_type": "code",
      "execution_count": 11,
      "id": "38abf1fa",
      "metadata": {},
      "outputs": [
        {
          "name": "stdout",
          "output_type": "stream",
          "text": [
            "CARGANDO DATOS.....\n"
          ]
        },
        {
          "name": "stderr",
          "output_type": "stream",
          "text": [
            "  0%|          | 0/2747 [00:00<?, ?it/s]"
          ]
        },
        {
          "name": "stdout",
          "output_type": "stream",
          "text": [
            "GENERANDO CONTADORES.....\n"
          ]
        },
        {
          "name": "stderr",
          "output_type": "stream",
          "text": [
            "100%|██████████| 2747/2747 [01:03<00:00, 43.48it/s]\n"
          ]
        },
        {
          "name": "stdout",
          "output_type": "stream",
          "text": [
            "PROCESO DE CARGA FINALIZADO\n"
          ]
        },
        {
          "name": "stderr",
          "output_type": "stream",
          "text": [
            "100%|██████████| 2747/2747 [00:00<00:00, 5715.55it/s]\n",
            "100%|██████████| 2747/2747 [11:17<00:00,  4.05it/s]\n",
            "100%|██████████| 2747/2747 [00:02<00:00, 1266.47it/s]\n"
          ]
        },
        {
          "name": "stdout",
          "output_type": "stream",
          "text": [
            "RMSE EN TEST ULTIMOS 14 DIAS (MEDIA):  625.399573522973\n",
            "CARGANDO DATOS.....\n"
          ]
        },
        {
          "name": "stderr",
          "output_type": "stream",
          "text": [
            "  0%|          | 0/2747 [00:00<?, ?it/s]"
          ]
        },
        {
          "name": "stdout",
          "output_type": "stream",
          "text": [
            "GENERANDO CONTADORES.....\n"
          ]
        },
        {
          "name": "stderr",
          "output_type": "stream",
          "text": [
            "100%|██████████| 2747/2747 [01:04<00:00, 42.27it/s]\n",
            "  0%|          | 0/2747 [00:00<?, ?it/s]"
          ]
        },
        {
          "name": "stdout",
          "output_type": "stream",
          "text": [
            "PROCESO DE CARGA FINALIZADO\n"
          ]
        },
        {
          "name": "stderr",
          "output_type": "stream",
          "text": [
            "100%|██████████| 2747/2747 [11:16<00:00,  4.06it/s]\n",
            "100%|██████████| 2747/2747 [00:00<00:00, 82858.12it/s]"
          ]
        },
        {
          "name": "stdout",
          "output_type": "stream",
          "text": [
            "TAMAÑO DE LOS DATOS:  2747 x 10\n"
          ]
        },
        {
          "name": "stderr",
          "output_type": "stream",
          "text": [
            "\n"
          ]
        }
      ],
      "source": [
        "Proyecto = CajaMar_Water('Modelar_UH2022.txt',umbral_modelo=50)\n",
        "Proyecto.PartirDatos()\n",
        "Proyecto.Entrenamiento()\n",
        "Proyecto.Calculo_RMSE()\n",
        "print('RMSE EN TEST ULTIMOS 14 DIAS (MEDIA): ',Proyecto.RMSE_Test_Promedio)\n",
        "# SIN PARTIR DATOS PARA GENERAR TXT\n",
        "Proyecto = CajaMar_Water('Modelar_UH2022.txt',umbral_modelo=50)\n",
        "Proyecto.Entrenamiento()\n",
        "Proyecto.GenerarResultados(equipo='UMBRAL',numeral=50)"
      ]
    },
    {
      "cell_type": "markdown",
      "id": "88f7558c",
      "metadata": {},
      "source": [
        "# NUMERAL 2 RANDOM FOREST UMBRAL 100 Y MODIFICACIÓN FECHA DE FIN"
      ]
    },
    {
      "cell_type": "code",
      "execution_count": 35,
      "id": "cf6ea43e",
      "metadata": {},
      "outputs": [
        {
          "name": "stdout",
          "output_type": "stream",
          "text": [
            "CARGANDO DATOS.....\n"
          ]
        },
        {
          "name": "stderr",
          "output_type": "stream",
          "text": [
            "  0%|          | 0/2747 [00:00<?, ?it/s]"
          ]
        },
        {
          "name": "stdout",
          "output_type": "stream",
          "text": [
            "GENERANDO CONTADORES.....\n"
          ]
        },
        {
          "name": "stderr",
          "output_type": "stream",
          "text": [
            "100%|██████████| 2747/2747 [01:12<00:00, 37.68it/s]\n",
            " 27%|██▋       | 731/2747 [00:00<00:00, 7302.17it/s]"
          ]
        },
        {
          "name": "stdout",
          "output_type": "stream",
          "text": [
            "PROCESO DE CARGA FINALIZADO\n"
          ]
        },
        {
          "name": "stderr",
          "output_type": "stream",
          "text": [
            "100%|██████████| 2747/2747 [00:00<00:00, 6555.55it/s]\n",
            "100%|██████████| 2747/2747 [13:43<00:00,  3.34it/s]\n",
            "100%|██████████| 2747/2747 [00:02<00:00, 1068.47it/s]\n"
          ]
        },
        {
          "name": "stdout",
          "output_type": "stream",
          "text": [
            "RMSE EN TEST ULTIMOS 14 DIAS (MEDIA):  632.8861499302329\n",
            "CARGANDO DATOS.....\n"
          ]
        },
        {
          "name": "stderr",
          "output_type": "stream",
          "text": [
            "  0%|          | 0/2747 [00:00<?, ?it/s]"
          ]
        },
        {
          "name": "stdout",
          "output_type": "stream",
          "text": [
            "GENERANDO CONTADORES.....\n"
          ]
        },
        {
          "name": "stderr",
          "output_type": "stream",
          "text": [
            "100%|██████████| 2747/2747 [01:11<00:00, 38.44it/s]\n",
            "  0%|          | 0/2747 [00:00<?, ?it/s]"
          ]
        },
        {
          "name": "stdout",
          "output_type": "stream",
          "text": [
            "PROCESO DE CARGA FINALIZADO\n"
          ]
        },
        {
          "name": "stderr",
          "output_type": "stream",
          "text": [
            "100%|██████████| 2747/2747 [13:54<00:00,  3.29it/s]\n",
            "100%|██████████| 2747/2747 [00:00<00:00, 105426.57it/s]"
          ]
        },
        {
          "name": "stdout",
          "output_type": "stream",
          "text": [
            "TAMAÑO DE LOS DATOS:  2747 x 10\n"
          ]
        },
        {
          "name": "stderr",
          "output_type": "stream",
          "text": [
            "\n"
          ]
        }
      ],
      "source": [
        "Proyecto = CajaMar_Water('Modelar_UH2022.txt',umbral_modelo=100)\n",
        "Proyecto.PartirDatos()\n",
        "Proyecto.Entrenamiento()\n",
        "Proyecto.Calculo_RMSE()\n",
        "print('RMSE EN TEST ULTIMOS 14 DIAS (MEDIA): ',Proyecto.RMSE_Test_Promedio)\n",
        "# SIN PARTIR DATOS PARA GENERAR TXT\n",
        "Proyecto = CajaMar_Water('Modelar_UH2022.txt',umbral_modelo=100)\n",
        "Proyecto.Entrenamiento()\n",
        "Proyecto.GenerarResultados(equipo='UMBRAL_FECHA_FIN',numeral=100)"
      ]
    },
    {
      "cell_type": "code",
      "execution_count": 12,
      "id": "9edadb5a",
      "metadata": {},
      "outputs": [
        {
          "data": {
            "image/png": "[encoded data removed]",
            "text/plain": [
              "<Figure size 720x288 with 1 Axes>"
            ]
          },
          "metadata": {
            "needs_background": "light"
          },
          "output_type": "display_data"
        }
      ],
      "source": [
        "Proyecto.GraficasEstadisticas(Test=False)"
      ]
    },
    {
      "cell_type": "markdown",
      "id": "551542f7",
      "metadata": {},
      "source": [
        "# NUMERAL 2. UMBRAL 100 CON EXTRATREESREGRESSOR"
      ]
    },
    {
      "cell_type": "code",
      "execution_count": 17,
      "id": "02f16ba7",
      "metadata": {},
      "outputs": [
        {
          "name": "stdout",
          "output_type": "stream",
          "text": [
            "CARGANDO DATOS.....\n"
          ]
        },
        {
          "name": "stderr",
          "output_type": "stream",
          "text": [
            "  0%|          | 0/2747 [00:00<?, ?it/s]"
          ]
        },
        {
          "name": "stdout",
          "output_type": "stream",
          "text": [
            "GENERANDO CONTADORES.....\n"
          ]
        },
        {
          "name": "stderr",
          "output_type": "stream",
          "text": [
            "100%|██████████| 2747/2747 [01:03<00:00, 43.52it/s]\n",
            " 29%|██▉       | 791/2747 [00:00<00:00, 7907.41it/s]"
          ]
        },
        {
          "name": "stdout",
          "output_type": "stream",
          "text": [
            "PROCESO DE CARGA FINALIZADO\n"
          ]
        },
        {
          "name": "stderr",
          "output_type": "stream",
          "text": [
            "100%|██████████| 2747/2747 [00:00<00:00, 8118.08it/s]\n",
            "100%|██████████| 2747/2747 [09:44<00:00,  4.70it/s]\n",
            "100%|██████████| 2747/2747 [00:02<00:00, 983.43it/s] \n"
          ]
        },
        {
          "name": "stdout",
          "output_type": "stream",
          "text": [
            "RMSE EN TEST ULTIMOS 14 DIAS (MEDIA):  661.5675509801729\n",
            "CARGANDO DATOS.....\n"
          ]
        },
        {
          "name": "stderr",
          "output_type": "stream",
          "text": [
            "  0%|          | 0/2747 [00:00<?, ?it/s]"
          ]
        },
        {
          "name": "stdout",
          "output_type": "stream",
          "text": [
            "GENERANDO CONTADORES.....\n"
          ]
        },
        {
          "name": "stderr",
          "output_type": "stream",
          "text": [
            "100%|██████████| 2747/2747 [01:02<00:00, 43.82it/s]\n",
            "  0%|          | 0/2747 [00:00<?, ?it/s]"
          ]
        },
        {
          "name": "stdout",
          "output_type": "stream",
          "text": [
            "PROCESO DE CARGA FINALIZADO\n"
          ]
        },
        {
          "name": "stderr",
          "output_type": "stream",
          "text": [
            "100%|██████████| 2747/2747 [09:55<00:00,  4.61it/s]\n",
            "100%|██████████| 2747/2747 [00:00<00:00, 75416.98it/s]"
          ]
        },
        {
          "name": "stdout",
          "output_type": "stream",
          "text": [
            "TAMAÑO DE LOS DATOS:  2747 x 10\n"
          ]
        },
        {
          "name": "stderr",
          "output_type": "stream",
          "text": [
            "\n"
          ]
        }
      ],
      "source": [
        "Proyecto = CajaMar_Water('Modelar_UH2022.txt',umbral_modelo=100)\n",
        "Proyecto.PartirDatos()\n",
        "Proyecto.Entrenamiento()\n",
        "Proyecto.Calculo_RMSE()\n",
        "print('RMSE EN TEST ULTIMOS 14 DIAS (MEDIA): ',Proyecto.RMSE_Test_Promedio)\n",
        "# SIN PARTIR DATOS PARA GENERAR TXT\n",
        "Proyecto = CajaMar_Water('Modelar_UH2022.txt',umbral_modelo=100)\n",
        "Proyecto.Entrenamiento()\n",
        "Proyecto.GenerarResultados(equipo='UMBRAL_EXTRA_TREES_',numeral=100)"
      ]
    },
    {
      "cell_type": "markdown",
      "id": "93613dac",
      "metadata": {},
      "source": [
        "# EVALUANDO MEJOR MODELO"
      ]
    },
    {
      "cell_type": "code",
      "execution_count": 31,
      "id": "91431286",
      "metadata": {},
      "outputs": [
        {
          "name": "stdout",
          "output_type": "stream",
          "text": [
            "CARGANDO DATOS.....\n"
          ]
        },
        {
          "name": "stderr",
          "output_type": "stream",
          "text": [
            "  0%|          | 0/2747 [00:00<?, ?it/s]"
          ]
        },
        {
          "name": "stdout",
          "output_type": "stream",
          "text": [
            "GENERANDO CONTADORES.....\n"
          ]
        },
        {
          "name": "stderr",
          "output_type": "stream",
          "text": [
            "100%|██████████| 2747/2747 [01:02<00:00, 43.81it/s]\n",
            " 29%|██▊       | 783/2747 [00:00<00:00, 7825.40it/s]"
          ]
        },
        {
          "name": "stdout",
          "output_type": "stream",
          "text": [
            "PROCESO DE CARGA FINALIZADO\n"
          ]
        },
        {
          "name": "stderr",
          "output_type": "stream",
          "text": [
            "100%|██████████| 2747/2747 [00:00<00:00, 7935.11it/s]\n",
            "100%|██████████| 2747/2747 [13:27<00:00,  3.40it/s]\n",
            "100%|██████████| 2747/2747 [00:02<00:00, 1091.46it/s]"
          ]
        },
        {
          "name": "stdout",
          "output_type": "stream",
          "text": [
            "116 2020-01-26 00:00:00 356 351.01669978784605\n",
            "167 2020-01-24 00:00:00 356 480.0087433110364\n",
            "209 2019-09-12 00:00:00 221 0.0\n",
            "231 2020-01-21 00:00:00 338 2.707559614151996\n",
            "260 2020-01-28 00:00:00 362 344.680574049081\n",
            "293 2020-01-26 00:00:00 360 593.4891695568385\n",
            "371 2020-01-25 00:00:00 359 61.26063990179608\n",
            "386 2020-01-29 00:00:00 363 198.08181760746268\n",
            "438 2019-12-24 00:00:00 293 496.849235403081\n",
            "441 2020-01-22 00:00:00 356 91.28320773387397\n",
            "525 2020-01-23 00:00:00 357 226.73811399078548\n",
            "654 2020-01-29 00:00:00 363 662.4690722267934\n",
            "795 2019-11-24 00:00:00 266 1735.8137417744654\n",
            "813 2020-01-30 00:00:00 322 26850.21324157027\n",
            "860 2020-01-29 00:00:00 363 242.26684664849682\n",
            "969 2020-01-30 00:00:00 364 942.4844469139922\n",
            "1022 2020-01-23 00:00:00 357 81.71088839752016\n",
            "1041 None 0 0\n",
            "1133 2020-01-26 00:00:00 356 115.61139141635249\n",
            "1174 2020-01-27 00:00:00 360 403.6306478559143\n",
            "1247 2020-01-26 00:00:00 360 17943.852704328598\n",
            "1338 2020-01-19 00:00:00 353 11021.806712897429\n",
            "1367 2019-09-25 00:00:00 237 0.0\n",
            "1501 2020-01-29 00:00:00 363 301.8391068504694\n",
            "1585 2020-01-23 00:00:00 357 229.03197856875892\n",
            "1661 2020-01-27 00:00:00 361 515.4436955174051\n",
            "1663 2020-01-30 00:00:00 364 416.05162983598007\n",
            "1755 2020-01-27 00:00:00 361 876.8201145346903\n",
            "1758 2019-12-27 00:00:00 330 10.679198117820668\n",
            "1780 2020-01-19 00:00:00 353 250.8863044086351\n",
            "1783 2020-01-25 00:00:00 359 77.46964300330865\n",
            "1799 2020-01-24 00:00:00 358 588.9528310141236\n",
            "1860 2020-01-14 00:00:00 348 5.478226057733875\n",
            "1893 2020-01-28 00:00:00 309 1816.2022894526708\n",
            "1933 2020-01-26 00:00:00 360 2152.138279195244\n",
            "1966 2020-01-30 00:00:00 361 592.4872612015155\n",
            "1981 2020-01-29 00:00:00 363 342.258637147883\n",
            "1994 2020-01-26 00:00:00 360 0.0\n",
            "1997 2020-01-25 00:00:00 359 281.7437644842676\n",
            "2041 2020-01-30 00:00:00 364 168.81292144136012\n",
            "2116 2020-01-27 00:00:00 358 437.9140858652754\n",
            "2142 2020-01-28 00:00:00 362 87.93362456273803\n",
            "2202 2020-01-28 00:00:00 302 4822.1429511442\n",
            "2207 2020-01-06 00:00:00 330 103.88822506884817\n",
            "2260 2020-01-19 00:00:00 254 443.5634965740168\n",
            "2265 2020-01-29 00:00:00 363 756.0406034468668\n",
            "2408 2020-01-15 00:00:00 349 1018.4119779392018\n",
            "2410 2020-01-23 00:00:00 349 190.26101699509437\n",
            "2412 2020-01-26 00:00:00 360 145.62004546921978\n",
            "2414 2020-01-30 00:00:00 351 1248.3535734369407\n",
            "2418 2020-01-23 00:00:00 355 752.3081714631733\n",
            "2419 2020-01-24 00:00:00 358 31.929444278479487\n",
            "2420 2020-01-25 00:00:00 359 167.39199584938876\n",
            "2423 2020-01-30 00:00:00 340 0.0\n",
            "2424 2020-01-18 00:00:00 352 157.67911354048277\n",
            "2428 2020-01-21 00:00:00 351 631.146904710257\n",
            "2433 2019-09-23 00:00:00 228 247.038718387193\n",
            "2435 2019-12-30 00:00:00 196 18.57763555684167\n",
            "2438 2020-01-20 00:00:00 293 1932.6452491694738\n",
            "2439 2020-01-30 00:00:00 356 0.0\n",
            "2441 2019-11-08 00:00:00 276 21.658287565094277\n",
            "2442 2020-01-18 00:00:00 213 1116.218623928926\n",
            "2451 2020-01-20 00:00:00 354 147.25991126246814\n",
            "2452 2020-01-19 00:00:00 353 1205.2662661503753\n",
            "2453 2020-01-23 00:00:00 357 40.71182684532188\n",
            "2484 2020-01-01 00:00:00 335 663.1782266221427\n",
            "2491 2020-01-24 00:00:00 358 217.38929888323156\n",
            "2492 2020-01-21 00:00:00 355 1162.84635715671\n",
            "2493 2020-01-23 00:00:00 357 52.27916491530136\n",
            "2508 2020-01-26 00:00:00 360 145.85740355258784\n",
            "2510 2020-01-11 00:00:00 345 281.5248302998908\n",
            "2514 2020-01-11 00:00:00 345 18.1368946921258\n",
            "2517 2020-01-28 00:00:00 361 18.338737954017727\n",
            "2518 2019-09-22 00:00:00 233 10.104667973150137\n",
            "2521 2019-02-05 00:00:00 2 0\n",
            "2522 2020-01-23 00:00:00 354 9.229530706792634\n",
            "2523 2020-01-03 00:00:00 333 5452.338678190183\n",
            "2524 2020-01-24 00:00:00 354 262.88197720969725\n",
            "2525 2019-09-21 00:00:00 228 7.436201292924791\n",
            "2526 2020-01-17 00:00:00 346 15.22282210659656\n",
            "2527 2019-12-15 00:00:00 313 0.11228917438540596\n",
            "2528 2020-01-20 00:00:00 349 191.23095852250594\n",
            "2529 2019-12-05 00:00:00 303 486.5180658388605\n",
            "2530 2019-09-24 00:00:00 88 109.90536191955147\n",
            "2531 2020-01-05 00:00:00 329 98.15832649113972\n",
            "2532 2020-01-15 00:00:00 286 277.6286318265891\n",
            "2536 2019-12-19 00:00:00 290 44.18554735396135\n",
            "2537 2019-10-20 00:00:00 108 0.0\n",
            "2538 2020-01-30 00:00:00 352 47.549690654900594\n",
            "2539 2020-01-24 00:00:00 325 517.3842414128715\n",
            "2540 2019-12-20 00:00:00 290 3.280868611443913\n",
            "2543 2020-01-20 00:00:00 234 420.19195332867986\n",
            "2557 2019-12-02 00:00:00 225 6.9104701992868325\n",
            "2569 2020-01-20 00:00:00 341 192.64113598621378\n",
            "2604 2020-01-19 00:00:00 307 559.7952633957077\n",
            "2605 2020-01-26 00:00:00 64 4.114659906134968\n",
            "2618 2020-01-27 00:00:00 174 3.9294492203736313\n",
            "2631 2020-01-20 00:00:00 342 261.4230140581595\n",
            "2690 2020-01-21 00:00:00 260 212.1579928244585\n",
            "2711 None 0 0\n",
            "2713 2020-01-19 00:00:00 90 17.263184319059064\n",
            "2714 2020-01-24 00:00:00 350 337.35596349311623\n",
            "2716 2020-01-25 00:00:00 330 541.6453913429424\n",
            "2719 2019-12-07 00:00:00 275 0.0\n",
            "2720 2019-12-17 00:00:00 289 3.5974019719195156\n",
            "2721 2019-08-16 00:00:00 184 7.167918039009863\n",
            "2722 2019-12-05 00:00:00 135 1.0176467766456463\n",
            "2723 2019-11-27 00:00:00 5 0\n",
            "2742 2020-01-14 00:00:00 103 169.80994429907577\n",
            "2743 2020-01-08 00:00:00 1 0\n",
            "2744 2019-03-31 00:00:00 1 0\n",
            "2745 2019-12-06 00:00:00 55 335.18761205794704\n",
            "2746 2019-08-29 00:00:00 16 0.28319555463432966\n",
            "2747 2019-04-30 00:00:00 1 0\n",
            "2748 2019-09-14 00:00:00 149 10.730661420712567\n",
            "2749 2019-10-11 00:00:00 67 0.6524502428111506\n",
            "2756 2019-04-06 00:00:00 1 0\n"
          ]
        },
        {
          "name": "stderr",
          "output_type": "stream",
          "text": [
            "\n"
          ]
        }
      ],
      "source": [
        "Proyecto = CajaMar_Water('Modelar_UH2022.txt',umbral_modelo=100)\n",
        "Proyecto.PartirDatos()\n",
        "Proyecto.Entrenamiento()\n",
        "Proyecto.Calculo_RMSE()\n",
        "\n",
        "# HAY 117 CONTADORES QUE LA FECHA DE FIN NO ES 31 DE ENERO\n",
        "for contadores in Proyecto.contadores:\n",
        "    if contadores.fecha_fin_contador != Proyecto.Fecha_Fin:\n",
        "        print(contadores.ID, contadores.fecha_fin_contador, contadores.dias, contadores.RMSE_Test)"
      ]
    },
    {
      "cell_type": "code",
      "execution_count": 25,
      "id": "f7d3481d",
      "metadata": {},
      "outputs": [
        {
          "name": "stdout",
          "output_type": "stream",
          "text": [
            "            CONSUMO\n",
            "SAMPLETIME         \n",
            "2019-02-05     0.00\n",
            "2019-02-06     0.00\n",
            "2019-02-07     0.00\n",
            "2019-02-08     0.00\n",
            "2019-02-09     0.00\n",
            "...             ...\n",
            "2020-01-22   282.17\n",
            "2020-01-23   229.02\n",
            "2020-01-24   246.24\n",
            "2020-01-25   246.24\n",
            "2020-01-26    56.04\n",
            "\n",
            "[356 rows x 1 columns]\n"
          ]
        }
      ],
      "source": [
        "for contadores in Proyecto.contadores:\n",
        "    if contadores.ID == 116:\n",
        "        print(contadores.datos_consumo)"
      ]
    },
    {
      "cell_type": "markdown",
      "id": "923f2b08",
      "metadata": {},
      "source": [
        "# CORRELACION Y GRAFICAS VARIAS"
      ]
    },
    {
      "cell_type": "code",
      "execution_count": 45,
      "id": "ea0d7c1a",
      "metadata": {},
      "outputs": [
        {
          "data": {
            "image/png": "[encoded data removed]",
            "text/plain": [
              "<Figure size 432x288 with 4 Axes>"
            ]
          },
          "metadata": {
            "needs_background": "light"
          },
          "output_type": "display_data"
        }
      ],
      "source": [
        "from statsmodels.tsa.seasonal import seasonal_decompose\n",
        "\n",
        "decomposition = seasonal_decompose(Proyecto.contadores[0].datos_consumo['CONSUMO'],model='additive')\n",
        "decomposition.plot()\n",
        "plt.show()"
      ]
    },
    {
      "cell_type": "code",
      "execution_count": 57,
      "id": "57328b53",
      "metadata": {},
      "outputs": [
        {
          "data": {
            "image/png": "[encoded data removed]",
            "text/plain": [
              "<Figure size 432x288 with 1 Axes>"
            ]
          },
          "metadata": {
            "needs_background": "light"
          },
          "output_type": "display_data"
        }
      ],
      "source": [
        "# ESTACIONALIDAD SEMANAL:\n",
        "\n",
        "datos_semanal = Proyecto.contadores[0].datos_consumo['CONSUMO'].diff(14).dropna()\n",
        "datos_semanal.plot()\n",
        "plt.show()"
      ]
    },
    {
      "cell_type": "code",
      "execution_count": 76,
      "id": "f7ca900e",
      "metadata": {
        "id": "f7ca900e"
      },
      "outputs": [
        {
          "data": {
            "image/png": "[encoded data removed]",
            "text/plain": [
              "<Figure size 504x216 with 1 Axes>"
            ]
          },
          "metadata": {
            "needs_background": "light"
          },
          "output_type": "display_data"
        }
      ],
      "source": [
        "from statsmodels.graphics.tsaplots import plot_acf\n",
        "from statsmodels.graphics.tsaplots import plot_pacf\n",
        "\n",
        "# Gráfico autocorrelación\n",
        "# ==============================================================================\n",
        "fig, ax = plt.subplots(figsize=(7, 3))\n",
        "plot_acf(Proyecto.contadores[0].datos_consumo['Consumo'], ax=ax, lags=30)\n",
        "plt.show()"
      ]
    },
    {
      "cell_type": "code",
      "execution_count": 77,
      "id": "2c503813",
      "metadata": {},
      "outputs": [
        {
          "name": "stderr",
          "output_type": "stream",
          "text": [
            "/Users/felipe/opt/anaconda3/envs/TFM/lib/python3.8/site-packages/statsmodels/graphics/tsaplots.py:348: FutureWarning: The default method 'yw' can produce PACF values outside of the [-1,1] interval. After 0.13, the default will change tounadjusted Yule-Walker ('ywm'). You can use this method now by setting method='ywm'.\n",
            "  warnings.warn(\n"
          ]
        },
        {
          "data": {
            "image/png": "[encoded data removed]",
            "text/plain": [
              "<Figure size 504x216 with 1 Axes>"
            ]
          },
          "metadata": {
            "needs_background": "light"
          },
          "output_type": "display_data"
        }
      ],
      "source": [
        "# Gráfico autocorrelación parcial\n",
        "# ==============================================================================\n",
        "fig, ax = plt.subplots(figsize=(7, 3))\n",
        "plot_pacf(Proyecto.contadores[0].datos_consumo['Consumo'], ax=ax, lags=30)\n",
        "plt.show()"
      ]
    },
    {
      "cell_type": "code",
      "execution_count": 91,
      "id": "475a992a",
      "metadata": {},
      "outputs": [
        {
          "data": {
            "image/png": "[encoded data removed]",
            "text/plain": [
              "<Figure size 504x252 with 1 Axes>"
            ]
          },
          "metadata": {
            "needs_background": "light"
          },
          "output_type": "display_data"
        }
      ],
      "source": [
        "# Gráfico boxplot para estacionalidad anual\n",
        "# ==============================================================================\n",
        "fig, ax = plt.subplots(figsize=(7, 3.5))\n",
        "Proyecto.contadores[0].datos_consumo['mes'] = pd.to_datetime(Proyecto.contadores[0].datos_consumo['Fecha']).dt.month\n",
        "Proyecto.contadores[0].datos_consumo.boxplot(column='Consumo', by='mes', ax=ax,)\n",
        "Proyecto.contadores[0].datos_consumo.groupby('mes')['Consumo'].median().plot(style='o-', linewidth=0.8, ax=ax)\n",
        "ax.set_ylabel('Consumo')\n",
        "ax.set_title('Distribución demanda por mes')\n",
        "fig.suptitle('');"
      ]
    },
    {
      "cell_type": "code",
      "execution_count": 94,
      "id": "6dadaa8e",
      "metadata": {},
      "outputs": [
        {
          "data": {
            "image/png": "[encoded data removed]",
            "text/plain": [
              "<Figure size 504x252 with 1 Axes>"
            ]
          },
          "metadata": {
            "needs_background": "light"
          },
          "output_type": "display_data"
        }
      ],
      "source": [
        "# Gráfico boxplot para estacionalidad semanal\n",
        "# ==============================================================================\n",
        "fig, ax = plt.subplots(figsize=(7, 3.5))\n",
        "Proyecto.contadores[0].datos_consumo['dia_semana'] = pd.to_datetime(Proyecto.contadores[0].datos_consumo['Fecha']).dt.day_of_week + 1\n",
        "Proyecto.contadores[0].datos_consumo.boxplot(column='Consumo', by='dia_semana', ax=ax)\n",
        "Proyecto.contadores[0].datos_consumo.groupby('dia_semana')['Consumo'].median().plot(style='o-', linewidth=0.8, ax=ax)\n",
        "ax.set_ylabel('Consumo')\n",
        "ax.set_title('Distribución demanda por dia de la semana')\n",
        "fig.suptitle('');"
      ]
    },
    {
      "cell_type": "code",
      "execution_count": 113,
      "id": "479a2eca",
      "metadata": {},
      "outputs": [
        {
          "name": "stdout",
          "output_type": "stream",
          "text": [
            "2747\n"
          ]
        },
        {
          "data": {
            "image/png": "[encoded data removed]",
            "text/plain": [
              "<Figure size 432x288 with 1 Axes>"
            ]
          },
          "metadata": {},
          "output_type": "display_data"
        }
      ],
      "source": [
        "# ESTADISTICAS DATOS\n",
        "\n",
        "completo = 0\n",
        "incompleto_0 = 0\n",
        "incompleto_m_100 = 0\n",
        "incompleto_M_100 = 0\n",
        "\n",
        "for contador in Proyecto.contadores:\n",
        "    if  contador.dias == 365:\n",
        "        completo += 1\n",
        "    if contador.dias == 0:\n",
        "        incompleto_0 += 1\n",
        "    if contador.dias <= 90 and contador.dias > 0:\n",
        "        incompleto_m_100 += 1\n",
        "    if contador.dias > 90 and contador.dias < 365:\n",
        "        incompleto_M_100 += 1\n",
        "\n",
        "print(completo + incompleto_0 + incompleto_M_100 + incompleto_m_100)       \n",
        "\n",
        "\n",
        "y = np.array([completo,incompleto_0,incompleto_m_100,incompleto_M_100 ])\n",
        "\n",
        "def absolute_value(val):\n",
        "    a  = np.round(val/100.*y.sum(), 0)\n",
        "    return a\n",
        "mylabels = [\"DATOS COMPLETOS 365 DIAS\", \"DATOS INCOMPLETOS 0 DIAS\", \"DATOS INCOMPLETOS 1-90 DIAS\",\"DATOS INCOMPLETOS 91-364 DIAS\"]\n",
        "myexplode = [0, 0.4,0.2,0.1]\n",
        "\n",
        "plt.pie(y, labels = mylabels, explode = myexplode, autopct='%1.1f%%', shadow = True)\n",
        "#plt.legend()\n",
        "plt.show()"
      ]
    },
    {
      "cell_type": "code",
      "execution_count": null,
      "id": "9eefa130",
      "metadata": {},
      "outputs": [],
      "source": []
    }
  ],
  "metadata": {
    "colab": {
      "name": "Datathon_Cajamar_V1.ipynb",
      "provenance": []
    },
    "kernelspec": {
      "display_name": "Python 3",
      "language": "python",
      "name": "python3"
    },
    "language_info": {
      "codemirror_mode": {
        "name": "ipython",
        "version": 3
      },
      "file_extension": ".py",
      "mimetype": "text/x-python",
      "name": "python",
      "nbconvert_exporter": "python",
      "pygments_lexer": "ipython3",
      "version": "3.8.8"
    }
  },
  "nbformat": 4,
  "nbformat_minor": 5
}
