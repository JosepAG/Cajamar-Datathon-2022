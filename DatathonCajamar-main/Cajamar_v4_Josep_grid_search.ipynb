{
  "nbformat": 4,
  "nbformat_minor": 0,
  "metadata": {
    "colab": {
      "name": "Cajamar_v4_Josep_grid_search.ipynb",
      "provenance": [],
      "collapsed_sections": []
    },
    "kernelspec": {
      "name": "python3",
      "display_name": "Python 3"
    },
    "language_info": {
      "name": "python"
    }
  },
  "cells": [
    {
      "cell_type": "code",
      "execution_count": null,
      "metadata": {
        "id": "DBtNFchIDq57"
      },
      "outputs": [],
      "source": [
        ""
      ]
    },
    {
      "cell_type": "code",
      "execution_count": null,
      "metadata": {
        "id": "FyvMMTruT2ny"
      },
      "outputs": [],
      "source": [
        "!pip install dw\n",
        "!pip install skforecast"
      ]
    },
    {
      "cell_type": "code",
      "source": [
        "from google.colab import drive\n",
        "drive.mount('/content/drive')"
      ],
      "metadata": {
        "colab": {
          "base_uri": "https://localhost:8080/"
        },
        "id": "qOWPxKr7L7iu",
        "outputId": "2a29a71e-2aab-4ad0-e9f3-aa1b7fab8d19"
      },
      "execution_count": null,
      "outputs": [
        {
          "output_type": "stream",
          "name": "stdout",
          "text": [
            "Drive already mounted at /content/drive; to attempt to forcibly remount, call drive.mount(\"/content/drive\", force_remount=True).\n"
          ]
        }
      ]
    },
    {
      "cell_type": "code",
      "execution_count": null,
      "metadata": {
        "id": "FUa3_X-PHk1y"
      },
      "outputs": [],
      "source": [
        "# Carga Fichero\n",
        "import pandas as pd\n",
        "datos = pd.read_csv('Modelar_UH2022.txt',sep='|',parse_dates=['SAMPLETIME'],infer_datetime_format=True)"
      ]
    },
    {
      "cell_type": "code",
      "source": [
        "#Modelar_UH2022_10_Contadores.txt\n",
        "datos[datos['ID']<11].to_csv('Modelar_UH2022_10_Contadores.txt',sep='|',index=False,float_format='%.0f')"
      ],
      "metadata": {
        "id": "bAVQr-LYHp7q"
      },
      "execution_count": null,
      "outputs": []
    },
    {
      "cell_type": "code",
      "source": [
        "import pandas as pd\n",
        "from tqdm import tqdm\n",
        "from datetime import date\n",
        "from sklearn.metrics import mean_squared_error\n",
        "import matplotlib.pyplot as plt\n",
        "from sklearn.ensemble import RandomForestRegressor\n",
        "from skforecast.ForecasterAutoreg import ForecasterAutoreg\n",
        "from sklearn.preprocessing import StandardScaler\n",
        "import math\n",
        "import numpy as np\n",
        "\n",
        "\n",
        "class Contador(object):\n",
        "    def __init__(self, datos_contador, ID,lags,max_depth,estimators ):\n",
        "        self.datos_contador = datos_contador\n",
        "        self.ID = ID\n",
        "        self.lags=lags\n",
        "        self.max_depth=max_depth\n",
        "        self.estimators=estimators\n",
        "        self.Preprocesado()\n",
        "        self.SinDatos = False  # NO TIENE DATOS DATASET VACIO\n",
        "        self.outlier = False\n",
        "        self.dias = 0\n",
        "        self.RMSE_Train = 0\n",
        "        self.RMSE_Test = 0\n",
        "        self.datos_test = pd.DataFrame()\n",
        "        # {'ID','Dia_1':0,'Dia_2':0,'Dia_3':0,'Dia_4':0,'Dia_5':0,'Dia_6':0','Dia_7':0,'Semana_1':0,'Semana_2':0}\n",
        "        self.Predicciones = [self.ID,0,0,0,0,0,0,0,0,0]\n",
        "        \n",
        "        if not datos_contador.empty:\n",
        "            # CALCULO LECTURA CONTADOR Y CONSUMO JUNTANDO DECIMALES\n",
        "            #self.datos_contador['CONSUMO'] = self.datos_contador['DELTAINTEGER'] + self.__Convertir_Entero(self.datos_contador['DELTATHOUSANDTH'])\n",
        "            #self.datos_contador['LECTURA'] = self.datos_contador['READINGINTEGER'] + self.__Convertir_Entero(self.datos_contador['READINGTHOUSANDTH'])\n",
        "            self.datos_contador['CONSUMO'] = self.datos_contador['DELTAINTEGER'] + (self.datos_contador['DELTATHOUSANDTH'] / 100)\n",
        "            self.datos_contador['LECTURA'] = self.datos_contador['READINGINTEGER'] + (self.datos_contador['READINGTHOUSANDTH'] / 100)\n",
        "            \n",
        "            # CONSUMO POR DIAS\n",
        "            aux = self.datos_contador.groupby([self.datos_contador['SAMPLETIME'].dt.year,self.datos_contador['SAMPLETIME'].dt.month, self.datos_contador['SAMPLETIME'].dt.day]).agg({'CONSUMO':sum})\n",
        "            if len(aux.index)>1:    # SI TENEMOS MAS DE UN DIA DE DATOS\n",
        "                self.datos_consumo = pd.DataFrame(data={'Fecha':self.__Convertir_fecha(aux),'Consumo':aux.squeeze().values})\n",
        "            else:   # SI TENEMOS SOLO UN DIA DE DATOS\n",
        "                self.datos_consumo = pd.DataFrame(data={'Fecha':self.__Convertir_fecha(aux),'Consumo':datos_contador['CONSUMO'].sum()})\n",
        "            del aux\n",
        "            \n",
        "            # ESTADISTICAS\n",
        "            self.dias = len(self.datos_consumo.index)\n",
        "            self.datos_consumo['Cuenta'] = self.datos_contador.groupby([self.datos_contador['SAMPLETIME'].dt.year,self.datos_contador['SAMPLETIME'].dt.month, self.datos_contador['SAMPLETIME'].dt.day]).agg({'CONSUMO':'count'}).values\n",
        "            self.fecha_inicio_contador= self.datos_consumo['Fecha'][0]\n",
        "            self.fecha_fin_contador=self.datos_consumo['Fecha'].tail(1)\n",
        "        else:\n",
        "            self.datos_consumo = pd.DataFrame()\n",
        "            self.SinDatos = True\n",
        "            self.fecha_fin_contador = None\n",
        "\n",
        "        # GENERACION DEL MODELO\n",
        "        self.modelo()\n",
        "    \n",
        "    def __Convertir_fecha(self, serie):\n",
        "        fechas = []\n",
        "        for año, mes, dia in serie.index:\n",
        "            fechas.append(date(año,mes,dia))\n",
        "        return fechas\n",
        "\n",
        "    def __Convertir_Entero(self,serie):\n",
        "        resultado = {}\n",
        "        indices = []\n",
        "        \n",
        "        for indice, numero in serie.items():\n",
        "            if numero < 10:\n",
        "                resultado[indice] = numero/10\n",
        "                indices.append(indice)\n",
        "            elif numero < 100:\n",
        "                resultado[indice] = numero/100\n",
        "                indices.append(indice)\n",
        "            elif numero >= 100:\n",
        "                print('ERROR parte decimal mayor de 100')\n",
        "        return pd.Series(data=resultado, index=indices)\n",
        "    \n",
        "    def Preprocesado(self):\n",
        "        # READINGINTEGER\tREADINGTHOUSANDTH\tDELTAINTEGER\tDELTATHOUSANDTH\n",
        "        # VALORES  NULOS \n",
        "        # VALORES ENTEROS INTERPOLAMOS\n",
        "        # JOSEP\n",
        "\n",
        "        self.datos_contador['READINGINTEGER'].interpolate(inplace=True)\n",
        "        self.datos_contador['DELTAINTEGER'].interpolate(inplace=True)\n",
        "        \n",
        "        # VALORES DECIMALES SUSTITUIMOS POR CERO\n",
        "        self.datos_contador['READINGTHOUSANDTH'].fillna(0,inplace=True)\n",
        "        self.datos_contador['DELTATHOUSANDTH'].fillna(0,inplace=True)\n",
        "        \n",
        "        # ELIMINAR VALORES NEGATIVOS\n",
        "        indices = self.datos_contador[self.datos_contador['READINGINTEGER'] < 0].index\n",
        "        self.datos_contador.drop(indices,inplace=True)\n",
        "        indices = self.datos_contador[self.datos_contador['DELTAINTEGER'] < 0].index\n",
        "        self.datos_contador.drop(indices,inplace=True)\n",
        "\n",
        "        # RESAMPLE\n",
        "        \n",
        "        # CONDICION ULTIMOS DIAS VER GRAFICA Y FIJAR NUMERO\n",
        "        \n",
        "        # CONTADORES CON POCOS DATOS VEMOS SI SON NUEVOS TIENEN DATOS EN LOS ULTIMOS DIAS HACEMOS MEDIA\n",
        "        # EN EL CASO DE NO TENER LOS ULTIMOS DATOS PONEMOS CERO\n",
        "\n",
        "    #def PreModelo(self):\n",
        "        # PREPROCESADO PARA INTRODUCIR LOS DATOS EN EL MODELO\n",
        "        # FORMATO DATOS EN FUNCIÓN DEL MODELO\n",
        "        # PACO\n",
        "\n",
        "    def modelo(self,umbrales=180):\n",
        "        # DECISION DEL MODELO A TOMAR EN FUNCION DE LA ESTADISTICAS\n",
        "        # CARGA DEL MODELO\n",
        "        # PACO\n",
        "        \n",
        "        if self.dias > umbrales:\n",
        "           self.model = ForecasterAutoreg(regressor=RandomForestRegressor(random_state=123,n_estimators=self.estimators,max_depth=self.max_depth), lags=self.lags)\n",
        "        else:\n",
        "         #   if self.dias > 0 :\n",
        "            if self.dias > 0: \n",
        "                if (self.fecha_fin_contador > date(2020,1,17)).bool() :    # HACE MEDIA SI TENEMOS DATOS EN LOS ULTIMOS 14 DIAS\n",
        "                    self.model = self.datos_consumo['Consumo'].mean()\n",
        "                else:\n",
        "                    self.model = 0\n",
        "            else:\n",
        "                self.model = 0\n",
        "    \n",
        "\n",
        "class CajaMar_Water(object):\n",
        "    def __init__(self,Ruta_Datos,Fecha_Inicio=date(2019,2,1),Fecha_Fin=date(2020,1,31)):\n",
        "        self.Ruta_Datos = Ruta_Datos\n",
        "        self.Fecha_Inicio = Fecha_Inicio\n",
        "        self.Lags_list=[4,2]      ###############DATOS GRID\n",
        "        self.estimators_list=[100,500]   ##################DATOS GRID\n",
        "        self.max_depth_list=[3]     #################DATOS GRID\n",
        "        self.Fecha_Fin = Fecha_Fin\n",
        "        self.datos = pd.DataFrame()\n",
        "        self.contadores = []\n",
        "        self.dias_test = 14     # DIAS QUE SE RESERVAN PARA TEST EMPEZANDO POR LA FECHA MAS RECIENTE\n",
        "        self.Cargar_Datos()\n",
        "        self.RMSE_Test_Promedio=0\n",
        "        self.grid(self.Lags_list,self.estimators_list,self.max_depth_list)\n",
        "    \n",
        "\n",
        "    def Cargar_Datos(self):\n",
        "        print('CARGANDO DATOS.....')\n",
        "        self.datos = pd.read_csv(self.Ruta_Datos,sep='|',parse_dates=['SAMPLETIME'],infer_datetime_format=True,encoding='utf-8')\n",
        "        self.datos.sort_values(by=['ID','SAMPLETIME'],inplace=True)\n",
        "\n",
        "        # CONSUMO POR DIAS Y CONTADORES\n",
        "        #print('AGRUPANDO CONSUMOS POR DIAS.....')\n",
        "        #self.datos_consumo = self.datos.groupby([self.datos['ID'],self.datos['SAMPLETIME'].dt.year,self.datos['SAMPLETIME'].dt.month, self.datos['SAMPLETIME'].dt.day]).agg({'CONSUMO':sum})\n",
        "        \n",
        "\n",
        "        print('PROCESO DE CARGA FINALIZADO')\n",
        "    \n",
        "    def PartirDatos(self):\n",
        "        # Separar datos de entrenamiento y test / validacion (dias=0 no hace validacion)\n",
        "        if self.dias_test > 0:     \n",
        "            for contador in tqdm(self.contadores):\n",
        "                if contador.SinDatos == False:      # COMPROBAMOS QUE HAY ALGUN REGISTRO\n",
        "                    if (contador.fecha_fin_contador==self.Fecha_Fin).bool():\n",
        "                        if contador.dias > self.dias_test + 1:    # COMPROBAMOS QUE HAY SUFICIENTES DATOS PARA HACER PARTICION\n",
        "                            contador.datos_test = contador.datos_consumo.tail(self.dias_test)\n",
        "                            contador.datos_consumo = contador.datos_consumo[0:-self.dias_test]\n",
        "\n",
        "    def grid(self,Lags_list,estimators_list, max_depth_list):\n",
        "      self.RMSEs=[]\n",
        "      self.grid_values=[]\n",
        "      for lags in self.Lags_list:\n",
        "        for estimators in self.estimators_list:\n",
        "              for max_depth in self.max_depth_list:\n",
        "                self.lags=lags\n",
        "                self.max_depth=max_depth\n",
        "                self.estimators=estimators\n",
        "                # GENERANDO CONTADORES\n",
        "                print('START:')\n",
        "                for ID in tqdm(pd.unique(self.datos['ID'])):\n",
        "                  # ALMACENAMOS ID DE CONTADOR Y BORRAMOS LA COLUMNA\n",
        "                  self.contadores.append(Contador(self.datos[self.datos['ID']==ID].drop('ID',axis=1),ID,lags,max_depth,estimators))\n",
        "                self.PartirDatos()\n",
        "                print(\"Datos Cargados para: \"+\"lags= \"+str(lags)+\",max_depth= \"+str(max_depth)+\",max_estimators= \"+str(estimators))\n",
        "                self.Entrenamiento()\n",
        "                self.Calculo_RMSE()\n",
        "                self.RMSEs.append(self.RMSE_Test_Promedio)\n",
        "                self.grid_values.append([lags,estimators, max_depth])\n",
        "      self.min_RMSEs=min(self.RMSEs)\n",
        "      print('\\033[1m'+\"RMSE más bajo: \"+str(self.min_RMSEs))\n",
        "      best_values_index=self.RMSEs.index(self.min_RMSEs)\n",
        "      print('\\033[1m'+\"Best score: \"+\"lags= \"+str(self.grid_values[best_values_index][0])+\",estimators= \"+str(self.grid_values[best_values_index][1])+\",max_depth= \"+str(self.grid_values[best_values_index][2]))\n",
        "\n",
        "\n",
        "\n",
        "\n",
        "\n",
        "    def Entrenamiento(self):\n",
        "        # Entrenamiento de los modelos en self.contadores(lista) \n",
        "        # iterar lista y llamar a self.contadores[iter].modelo.train\n",
        "        # Rellena la variable self.contadores.Predicciones\n",
        "        \n",
        "        for contador in tqdm(self.contadores):\n",
        "            if isinstance(contador.model,ForecasterAutoreg):    # COMPROBAMOS QUE ES UN MODELO\n",
        "                contador.model.fit(y=contador.datos_consumo['Consumo'])\n",
        "                predict = contador.model.predict(steps=self.dias_test)\n",
        "                index = 1\n",
        "                for predict_dia in predict[0:7]:    # GUARDA 7 DIAS PREDICCION\n",
        "                    contador.Predicciones[index] = predict_dia\n",
        "                    index += 1\n",
        "                contador.Predicciones[8]=predict[0:7].sum()     # GUARDA SEMANA1 PREDICCION\n",
        "                contador.Predicciones[9]=predict[7:14].sum()    # GUARDA SEMANA2 PREDICCION\n",
        "            else:\n",
        "              for index in range(1,8):\n",
        "                    contador.Predicciones[index] = contador.model  # GUARDAMOS MEDIA EN LOS 7 DIAS\n",
        "              contador.Predicciones[8]=contador.model*7     # GUARDAMOS MEDIA SEMANA1\n",
        "              contador.Predicciones[9]=contador.model*7     # GUARDAMOS MEDIA SEMANA2\n",
        "                  \n",
        "                    \n",
        "              \n",
        "        \n",
        "\n",
        "    def Calculo_RMSE(self):\n",
        "        # Calculo rmse utlizando datos de test\n",
        "        RMSE_Todos = []\n",
        "        for contador in tqdm(self.contadores):\n",
        "            #if contador.dias > 180 and len(contador.datos_test) == self.dias_test:  # VER LIMITE NO DEPENDE DE LA CLASE CONTADOR\n",
        "            if len(contador.datos_test) == self.dias_test:\n",
        "                media_RMSE_semanal=math.sqrt(mean_squared_error([contador.datos_test['Consumo'][0:7].sum(), contador.datos_test['Consumo'][7:14].sum()] , [contador.Predicciones[8], contador.Predicciones[9]]))\n",
        "                contador.RMSE_Test = 0.5*math.sqrt(mean_squared_error(contador.datos_test['Consumo'][0:7],contador.Predicciones[1:8]))+0.5*media_RMSE_semanal\n",
        "                RMSE_Todos.append(contador.RMSE_Test)\n",
        "        self.RMSE_Test_Promedio = sum(RMSE_Todos) / len(RMSE_Todos)\n",
        "        print(self.RMSE_Test_Promedio)\n",
        "    \n",
        "    def GenerarResultados(self,equipo='Team2021IA3',numeral=1):\n",
        "        # Mediante los datos predicciones generamos txt con el formato del datathon\n",
        "        # Separando campos con “|”, el valor de la predicción en litros, y los decimales con “.” 2 decimales\n",
        "        # Fichero: \"Cajamar_Universitat de València (UV)_Team2021IA3_numeral.txt\"\n",
        "        \n",
        "        columnas = ['ID','Dia_1','Dia_2','Dia_3','Dia_4','Dia_5','Dia_6','Dia_7','Semana_1','Semana_2']\n",
        "        datos = []\n",
        "\n",
        "        for contador in tqdm(self.contadores):\n",
        "            datos.append(contador.Predicciones)\n",
        "        \n",
        "       \n",
        "        dataset = pd.DataFrame(datos,columns=columnas)\n",
        "        dataset.to_csv('Cajamar_Universitat de València (UV)_' + equipo + '_' + str(numeral) + '.txt',header=False ,sep='|' ,index=False ,decimal='.' ,float_format='%.2f')\n",
        "         \n",
        "    def GraficasEstadisticas(self):\n",
        "        # GRÁFICAS MAS REPRESENTATIVAS DE LOS CONTADORES\n",
        "        ID=[]\n",
        "        dias=[]\n",
        "        for contador in tqdm(self.contadores):\n",
        "            ID.append(contador.ID)\n",
        "            dias.append(contador.dias)\n",
        "\n",
        "        plt.plot(ID,dias)"
      ],
      "metadata": {
        "id": "B_UA_J2rHpxz"
      },
      "execution_count": null,
      "outputs": []
    },
    {
      "cell_type": "code",
      "source": [
        "#Proyecto = CajaMar_Water(path+'Modelar_UH2022_10_Contadores.txt')\n",
        "Proyecto = CajaMar_Water('Modelar_UH2022.txt')"
      ],
      "metadata": {
        "colab": {
          "base_uri": "https://localhost:8080/"
        },
        "id": "cgRd2RtyH1Hn",
        "outputId": "3be22010-524c-4805-a3b2-50238c3b2104"
      },
      "execution_count": null,
      "outputs": [
        {
          "output_type": "stream",
          "name": "stdout",
          "text": [
            "CARGANDO DATOS.....\n",
            "PROCESO DE CARGA FINALIZADO\n",
            "START:\n"
          ]
        },
        {
          "output_type": "stream",
          "name": "stderr",
          "text": [
            "100%|██████████| 11/11 [00:00<00:00, 35.75it/s]\n",
            "100%|██████████| 11/11 [00:00<00:00, 1973.20it/s]\n"
          ]
        },
        {
          "output_type": "stream",
          "name": "stdout",
          "text": [
            "Datos Cargados para: lags= 4,max_depth= 3,max_estimators= 100\n"
          ]
        },
        {
          "output_type": "stream",
          "name": "stderr",
          "text": [
            "100%|██████████| 11/11 [00:03<00:00,  3.43it/s]\n",
            "100%|██████████| 11/11 [00:00<00:00, 826.85it/s]\n"
          ]
        },
        {
          "output_type": "stream",
          "name": "stdout",
          "text": [
            "255.50955368550873\n",
            "START:\n"
          ]
        },
        {
          "output_type": "stream",
          "name": "stderr",
          "text": [
            "100%|██████████| 11/11 [00:00<00:00, 34.87it/s]\n",
            "100%|██████████| 22/22 [00:00<00:00, 4157.83it/s]\n"
          ]
        },
        {
          "output_type": "stream",
          "name": "stdout",
          "text": [
            "Datos Cargados para: lags= 4,max_depth= 3,max_estimators= 500\n"
          ]
        },
        {
          "output_type": "stream",
          "name": "stderr",
          "text": [
            "100%|██████████| 22/22 [00:19<00:00,  1.15it/s]\n",
            "100%|██████████| 22/22 [00:00<00:00, 792.53it/s]\n"
          ]
        },
        {
          "output_type": "stream",
          "name": "stdout",
          "text": [
            "230.37037756947376\n",
            "START:\n"
          ]
        },
        {
          "output_type": "stream",
          "name": "stderr",
          "text": [
            "100%|██████████| 11/11 [00:00<00:00, 35.79it/s]\n",
            "100%|██████████| 33/33 [00:00<00:00, 2710.24it/s]\n"
          ]
        },
        {
          "output_type": "stream",
          "name": "stdout",
          "text": [
            "Datos Cargados para: lags= 2,max_depth= 3,max_estimators= 100\n"
          ]
        },
        {
          "output_type": "stream",
          "name": "stderr",
          "text": [
            "100%|██████████| 33/33 [00:22<00:00,  1.47it/s]\n",
            "100%|██████████| 33/33 [00:00<00:00, 916.08it/s]\n"
          ]
        },
        {
          "output_type": "stream",
          "name": "stdout",
          "text": [
            "202.21552955596874\n",
            "START:\n"
          ]
        },
        {
          "output_type": "stream",
          "name": "stderr",
          "text": [
            "100%|██████████| 11/11 [00:00<00:00, 34.51it/s]\n",
            "100%|██████████| 44/44 [00:00<00:00, 2921.66it/s]\n"
          ]
        },
        {
          "output_type": "stream",
          "name": "stdout",
          "text": [
            "Datos Cargados para: lags= 2,max_depth= 3,max_estimators= 500\n"
          ]
        },
        {
          "output_type": "stream",
          "name": "stderr",
          "text": [
            "100%|██████████| 44/44 [00:37<00:00,  1.16it/s]\n",
            "100%|██████████| 44/44 [00:00<00:00, 988.69it/s]"
          ]
        },
        {
          "output_type": "stream",
          "name": "stdout",
          "text": [
            "206.2513510574054\n",
            "\u001b[1mRMSE más bajo: 202.21552955596874\n",
            "\u001b[1mBest score: lags= 2,estimators= 100,max_depth= 3\n"
          ]
        },
        {
          "output_type": "stream",
          "name": "stderr",
          "text": [
            "\n"
          ]
        }
      ]
    }
  ]
}