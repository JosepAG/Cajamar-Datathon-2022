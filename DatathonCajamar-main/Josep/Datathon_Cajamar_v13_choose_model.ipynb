{
  "nbformat": 4,
  "nbformat_minor": 0,
  "metadata": {
    "colab": {
      "name": "Datathon_Cajamar_v13_choose_model.ipynb",
      "provenance": [],
      "collapsed_sections": []
    },
    "kernelspec": {
      "name": "python3",
      "display_name": "Python 3"
    },
    "language_info": {
      "name": "python"
    }
  },
  "cells": [
    {
      "cell_type": "code",
      "execution_count": 2,
      "metadata": {
        "colab": {
          "base_uri": "https://localhost:8080/"
        },
        "id": "pRwaI8I1RaMq",
        "outputId": "e4a6a48d-734d-4ad0-cf97-fbce2e19a686"
      },
      "outputs": [
        {
          "output_type": "stream",
          "name": "stdout",
          "text": [
            "Drive already mounted at /content/drive; to attempt to forcibly remount, call drive.mount(\"/content/drive\", force_remount=True).\n"
          ]
        }
      ],
      "source": [
        "from google.colab import drive\n",
        "drive.mount('/content/drive')"
      ]
    },
    {
      "cell_type": "code",
      "source": [
        "#from google.colab import files\n",
        "#files.upload()"
      ],
      "metadata": {
        "id": "JS2mg8Zmj0Ti"
      },
      "execution_count": null,
      "outputs": []
    },
    {
      "cell_type": "code",
      "execution_count": null,
      "metadata": {
        "id": "ca9a84fd-455e-4a3a-8e8b-e8c15ad2ffc0",
        "colab": {
          "base_uri": "https://localhost:8080/",
          "height": 380
        },
        "outputId": "053e2b7d-340d-45cf-96dc-b997025d947c"
      },
      "outputs": [
        {
          "output_type": "error",
          "ename": "FileNotFoundError",
          "evalue": "ignored",
          "traceback": [
            "\u001b[0;31m---------------------------------------------------------------------------\u001b[0m",
            "\u001b[0;31mFileNotFoundError\u001b[0m                         Traceback (most recent call last)",
            "\u001b[0;32m<ipython-input-4-ed7ec6e7cfdb>\u001b[0m in \u001b[0;36m<module>\u001b[0;34m()\u001b[0m\n\u001b[1;32m      3\u001b[0m \u001b[0;32mimport\u001b[0m \u001b[0mpandas\u001b[0m \u001b[0;32mas\u001b[0m \u001b[0mpd\u001b[0m\u001b[0;34m\u001b[0m\u001b[0;34m\u001b[0m\u001b[0m\n\u001b[1;32m      4\u001b[0m \u001b[0;34m\u001b[0m\u001b[0m\n\u001b[0;32m----> 5\u001b[0;31m \u001b[0mdatos\u001b[0m \u001b[0;34m=\u001b[0m \u001b[0mpd\u001b[0m\u001b[0;34m.\u001b[0m\u001b[0mread_csv\u001b[0m\u001b[0;34m(\u001b[0m\u001b[0;34m'Modelar_UH2022.txt'\u001b[0m\u001b[0;34m,\u001b[0m\u001b[0msep\u001b[0m\u001b[0;34m=\u001b[0m\u001b[0;34m'|'\u001b[0m\u001b[0;34m,\u001b[0m\u001b[0mparse_dates\u001b[0m\u001b[0;34m=\u001b[0m\u001b[0;34m[\u001b[0m\u001b[0;34m'SAMPLETIME'\u001b[0m\u001b[0;34m]\u001b[0m\u001b[0;34m,\u001b[0m\u001b[0minfer_datetime_format\u001b[0m\u001b[0;34m=\u001b[0m\u001b[0;32mTrue\u001b[0m\u001b[0;34m)\u001b[0m\u001b[0;34m\u001b[0m\u001b[0;34m\u001b[0m\u001b[0m\n\u001b[0m",
            "\u001b[0;32m/usr/local/lib/python3.7/dist-packages/pandas/util/_decorators.py\u001b[0m in \u001b[0;36mwrapper\u001b[0;34m(*args, **kwargs)\u001b[0m\n\u001b[1;32m    309\u001b[0m                     \u001b[0mstacklevel\u001b[0m\u001b[0;34m=\u001b[0m\u001b[0mstacklevel\u001b[0m\u001b[0;34m,\u001b[0m\u001b[0;34m\u001b[0m\u001b[0;34m\u001b[0m\u001b[0m\n\u001b[1;32m    310\u001b[0m                 )\n\u001b[0;32m--> 311\u001b[0;31m             \u001b[0;32mreturn\u001b[0m \u001b[0mfunc\u001b[0m\u001b[0;34m(\u001b[0m\u001b[0;34m*\u001b[0m\u001b[0margs\u001b[0m\u001b[0;34m,\u001b[0m \u001b[0;34m**\u001b[0m\u001b[0mkwargs\u001b[0m\u001b[0;34m)\u001b[0m\u001b[0;34m\u001b[0m\u001b[0;34m\u001b[0m\u001b[0m\n\u001b[0m\u001b[1;32m    312\u001b[0m \u001b[0;34m\u001b[0m\u001b[0m\n\u001b[1;32m    313\u001b[0m         \u001b[0;32mreturn\u001b[0m \u001b[0mwrapper\u001b[0m\u001b[0;34m\u001b[0m\u001b[0;34m\u001b[0m\u001b[0m\n",
            "\u001b[0;32m/usr/local/lib/python3.7/dist-packages/pandas/io/parsers/readers.py\u001b[0m in \u001b[0;36mread_csv\u001b[0;34m(filepath_or_buffer, sep, delimiter, header, names, index_col, usecols, squeeze, prefix, mangle_dupe_cols, dtype, engine, converters, true_values, false_values, skipinitialspace, skiprows, skipfooter, nrows, na_values, keep_default_na, na_filter, verbose, skip_blank_lines, parse_dates, infer_datetime_format, keep_date_col, date_parser, dayfirst, cache_dates, iterator, chunksize, compression, thousands, decimal, lineterminator, quotechar, quoting, doublequote, escapechar, comment, encoding, encoding_errors, dialect, error_bad_lines, warn_bad_lines, on_bad_lines, delim_whitespace, low_memory, memory_map, float_precision, storage_options)\u001b[0m\n\u001b[1;32m    584\u001b[0m     \u001b[0mkwds\u001b[0m\u001b[0;34m.\u001b[0m\u001b[0mupdate\u001b[0m\u001b[0;34m(\u001b[0m\u001b[0mkwds_defaults\u001b[0m\u001b[0;34m)\u001b[0m\u001b[0;34m\u001b[0m\u001b[0;34m\u001b[0m\u001b[0m\n\u001b[1;32m    585\u001b[0m \u001b[0;34m\u001b[0m\u001b[0m\n\u001b[0;32m--> 586\u001b[0;31m     \u001b[0;32mreturn\u001b[0m \u001b[0m_read\u001b[0m\u001b[0;34m(\u001b[0m\u001b[0mfilepath_or_buffer\u001b[0m\u001b[0;34m,\u001b[0m \u001b[0mkwds\u001b[0m\u001b[0;34m)\u001b[0m\u001b[0;34m\u001b[0m\u001b[0;34m\u001b[0m\u001b[0m\n\u001b[0m\u001b[1;32m    587\u001b[0m \u001b[0;34m\u001b[0m\u001b[0m\n\u001b[1;32m    588\u001b[0m \u001b[0;34m\u001b[0m\u001b[0m\n",
            "\u001b[0;32m/usr/local/lib/python3.7/dist-packages/pandas/io/parsers/readers.py\u001b[0m in \u001b[0;36m_read\u001b[0;34m(filepath_or_buffer, kwds)\u001b[0m\n\u001b[1;32m    480\u001b[0m \u001b[0;34m\u001b[0m\u001b[0m\n\u001b[1;32m    481\u001b[0m     \u001b[0;31m# Create the parser.\u001b[0m\u001b[0;34m\u001b[0m\u001b[0;34m\u001b[0m\u001b[0;34m\u001b[0m\u001b[0m\n\u001b[0;32m--> 482\u001b[0;31m     \u001b[0mparser\u001b[0m \u001b[0;34m=\u001b[0m \u001b[0mTextFileReader\u001b[0m\u001b[0;34m(\u001b[0m\u001b[0mfilepath_or_buffer\u001b[0m\u001b[0;34m,\u001b[0m \u001b[0;34m**\u001b[0m\u001b[0mkwds\u001b[0m\u001b[0;34m)\u001b[0m\u001b[0;34m\u001b[0m\u001b[0;34m\u001b[0m\u001b[0m\n\u001b[0m\u001b[1;32m    483\u001b[0m \u001b[0;34m\u001b[0m\u001b[0m\n\u001b[1;32m    484\u001b[0m     \u001b[0;32mif\u001b[0m \u001b[0mchunksize\u001b[0m \u001b[0;32mor\u001b[0m \u001b[0miterator\u001b[0m\u001b[0;34m:\u001b[0m\u001b[0;34m\u001b[0m\u001b[0;34m\u001b[0m\u001b[0m\n",
            "\u001b[0;32m/usr/local/lib/python3.7/dist-packages/pandas/io/parsers/readers.py\u001b[0m in \u001b[0;36m__init__\u001b[0;34m(self, f, engine, **kwds)\u001b[0m\n\u001b[1;32m    809\u001b[0m             \u001b[0mself\u001b[0m\u001b[0;34m.\u001b[0m\u001b[0moptions\u001b[0m\u001b[0;34m[\u001b[0m\u001b[0;34m\"has_index_names\"\u001b[0m\u001b[0;34m]\u001b[0m \u001b[0;34m=\u001b[0m \u001b[0mkwds\u001b[0m\u001b[0;34m[\u001b[0m\u001b[0;34m\"has_index_names\"\u001b[0m\u001b[0;34m]\u001b[0m\u001b[0;34m\u001b[0m\u001b[0;34m\u001b[0m\u001b[0m\n\u001b[1;32m    810\u001b[0m \u001b[0;34m\u001b[0m\u001b[0m\n\u001b[0;32m--> 811\u001b[0;31m         \u001b[0mself\u001b[0m\u001b[0;34m.\u001b[0m\u001b[0m_engine\u001b[0m \u001b[0;34m=\u001b[0m \u001b[0mself\u001b[0m\u001b[0;34m.\u001b[0m\u001b[0m_make_engine\u001b[0m\u001b[0;34m(\u001b[0m\u001b[0mself\u001b[0m\u001b[0;34m.\u001b[0m\u001b[0mengine\u001b[0m\u001b[0;34m)\u001b[0m\u001b[0;34m\u001b[0m\u001b[0;34m\u001b[0m\u001b[0m\n\u001b[0m\u001b[1;32m    812\u001b[0m \u001b[0;34m\u001b[0m\u001b[0m\n\u001b[1;32m    813\u001b[0m     \u001b[0;32mdef\u001b[0m \u001b[0mclose\u001b[0m\u001b[0;34m(\u001b[0m\u001b[0mself\u001b[0m\u001b[0;34m)\u001b[0m\u001b[0;34m:\u001b[0m\u001b[0;34m\u001b[0m\u001b[0;34m\u001b[0m\u001b[0m\n",
            "\u001b[0;32m/usr/local/lib/python3.7/dist-packages/pandas/io/parsers/readers.py\u001b[0m in \u001b[0;36m_make_engine\u001b[0;34m(self, engine)\u001b[0m\n\u001b[1;32m   1038\u001b[0m             )\n\u001b[1;32m   1039\u001b[0m         \u001b[0;31m# error: Too many arguments for \"ParserBase\"\u001b[0m\u001b[0;34m\u001b[0m\u001b[0;34m\u001b[0m\u001b[0;34m\u001b[0m\u001b[0m\n\u001b[0;32m-> 1040\u001b[0;31m         \u001b[0;32mreturn\u001b[0m \u001b[0mmapping\u001b[0m\u001b[0;34m[\u001b[0m\u001b[0mengine\u001b[0m\u001b[0;34m]\u001b[0m\u001b[0;34m(\u001b[0m\u001b[0mself\u001b[0m\u001b[0;34m.\u001b[0m\u001b[0mf\u001b[0m\u001b[0;34m,\u001b[0m \u001b[0;34m**\u001b[0m\u001b[0mself\u001b[0m\u001b[0;34m.\u001b[0m\u001b[0moptions\u001b[0m\u001b[0;34m)\u001b[0m  \u001b[0;31m# type: ignore[call-arg]\u001b[0m\u001b[0;34m\u001b[0m\u001b[0;34m\u001b[0m\u001b[0m\n\u001b[0m\u001b[1;32m   1041\u001b[0m \u001b[0;34m\u001b[0m\u001b[0m\n\u001b[1;32m   1042\u001b[0m     \u001b[0;32mdef\u001b[0m \u001b[0m_failover_to_python\u001b[0m\u001b[0;34m(\u001b[0m\u001b[0mself\u001b[0m\u001b[0;34m)\u001b[0m\u001b[0;34m:\u001b[0m\u001b[0;34m\u001b[0m\u001b[0;34m\u001b[0m\u001b[0m\n",
            "\u001b[0;32m/usr/local/lib/python3.7/dist-packages/pandas/io/parsers/c_parser_wrapper.py\u001b[0m in \u001b[0;36m__init__\u001b[0;34m(self, src, **kwds)\u001b[0m\n\u001b[1;32m     49\u001b[0m \u001b[0;34m\u001b[0m\u001b[0m\n\u001b[1;32m     50\u001b[0m         \u001b[0;31m# open handles\u001b[0m\u001b[0;34m\u001b[0m\u001b[0;34m\u001b[0m\u001b[0;34m\u001b[0m\u001b[0m\n\u001b[0;32m---> 51\u001b[0;31m         \u001b[0mself\u001b[0m\u001b[0;34m.\u001b[0m\u001b[0m_open_handles\u001b[0m\u001b[0;34m(\u001b[0m\u001b[0msrc\u001b[0m\u001b[0;34m,\u001b[0m \u001b[0mkwds\u001b[0m\u001b[0;34m)\u001b[0m\u001b[0;34m\u001b[0m\u001b[0;34m\u001b[0m\u001b[0m\n\u001b[0m\u001b[1;32m     52\u001b[0m         \u001b[0;32massert\u001b[0m \u001b[0mself\u001b[0m\u001b[0;34m.\u001b[0m\u001b[0mhandles\u001b[0m \u001b[0;32mis\u001b[0m \u001b[0;32mnot\u001b[0m \u001b[0;32mNone\u001b[0m\u001b[0;34m\u001b[0m\u001b[0;34m\u001b[0m\u001b[0m\n\u001b[1;32m     53\u001b[0m \u001b[0;34m\u001b[0m\u001b[0m\n",
            "\u001b[0;32m/usr/local/lib/python3.7/dist-packages/pandas/io/parsers/base_parser.py\u001b[0m in \u001b[0;36m_open_handles\u001b[0;34m(self, src, kwds)\u001b[0m\n\u001b[1;32m    227\u001b[0m             \u001b[0mmemory_map\u001b[0m\u001b[0;34m=\u001b[0m\u001b[0mkwds\u001b[0m\u001b[0;34m.\u001b[0m\u001b[0mget\u001b[0m\u001b[0;34m(\u001b[0m\u001b[0;34m\"memory_map\"\u001b[0m\u001b[0;34m,\u001b[0m \u001b[0;32mFalse\u001b[0m\u001b[0;34m)\u001b[0m\u001b[0;34m,\u001b[0m\u001b[0;34m\u001b[0m\u001b[0;34m\u001b[0m\u001b[0m\n\u001b[1;32m    228\u001b[0m             \u001b[0mstorage_options\u001b[0m\u001b[0;34m=\u001b[0m\u001b[0mkwds\u001b[0m\u001b[0;34m.\u001b[0m\u001b[0mget\u001b[0m\u001b[0;34m(\u001b[0m\u001b[0;34m\"storage_options\"\u001b[0m\u001b[0;34m,\u001b[0m \u001b[0;32mNone\u001b[0m\u001b[0;34m)\u001b[0m\u001b[0;34m,\u001b[0m\u001b[0;34m\u001b[0m\u001b[0;34m\u001b[0m\u001b[0m\n\u001b[0;32m--> 229\u001b[0;31m             \u001b[0merrors\u001b[0m\u001b[0;34m=\u001b[0m\u001b[0mkwds\u001b[0m\u001b[0;34m.\u001b[0m\u001b[0mget\u001b[0m\u001b[0;34m(\u001b[0m\u001b[0;34m\"encoding_errors\"\u001b[0m\u001b[0;34m,\u001b[0m \u001b[0;34m\"strict\"\u001b[0m\u001b[0;34m)\u001b[0m\u001b[0;34m,\u001b[0m\u001b[0;34m\u001b[0m\u001b[0;34m\u001b[0m\u001b[0m\n\u001b[0m\u001b[1;32m    230\u001b[0m         )\n\u001b[1;32m    231\u001b[0m \u001b[0;34m\u001b[0m\u001b[0m\n",
            "\u001b[0;32m/usr/local/lib/python3.7/dist-packages/pandas/io/common.py\u001b[0m in \u001b[0;36mget_handle\u001b[0;34m(path_or_buf, mode, encoding, compression, memory_map, is_text, errors, storage_options)\u001b[0m\n\u001b[1;32m    705\u001b[0m                 \u001b[0mencoding\u001b[0m\u001b[0;34m=\u001b[0m\u001b[0mioargs\u001b[0m\u001b[0;34m.\u001b[0m\u001b[0mencoding\u001b[0m\u001b[0;34m,\u001b[0m\u001b[0;34m\u001b[0m\u001b[0;34m\u001b[0m\u001b[0m\n\u001b[1;32m    706\u001b[0m                 \u001b[0merrors\u001b[0m\u001b[0;34m=\u001b[0m\u001b[0merrors\u001b[0m\u001b[0;34m,\u001b[0m\u001b[0;34m\u001b[0m\u001b[0;34m\u001b[0m\u001b[0m\n\u001b[0;32m--> 707\u001b[0;31m                 \u001b[0mnewline\u001b[0m\u001b[0;34m=\u001b[0m\u001b[0;34m\"\"\u001b[0m\u001b[0;34m,\u001b[0m\u001b[0;34m\u001b[0m\u001b[0;34m\u001b[0m\u001b[0m\n\u001b[0m\u001b[1;32m    708\u001b[0m             )\n\u001b[1;32m    709\u001b[0m         \u001b[0;32melse\u001b[0m\u001b[0;34m:\u001b[0m\u001b[0;34m\u001b[0m\u001b[0;34m\u001b[0m\u001b[0m\n",
            "\u001b[0;31mFileNotFoundError\u001b[0m: [Errno 2] No such file or directory: 'Modelar_UH2022.txt'"
          ]
        }
      ],
      "source": [
        "# Carga Fichero\n",
        "\n",
        "import pandas as pd\n",
        "path=\"/content/drive/MyDrive/Cajamar/\"\n",
        "datos = pd.read_csv(path+'Modelar_UH2022.txt',sep='|',parse_dates=['SAMPLETIME'],infer_datetime_format=True)"
      ]
    },
    {
      "cell_type": "code",
      "execution_count": null,
      "metadata": {
        "id": "a4228539-f8d9-4466-9858-2d9fedfd4a79"
      },
      "outputs": [],
      "source": [
        "#Modelar_UH2022_10_Contadores.txt\n",
        "datos[datos['ID']<11].to_csv('Modelar_UH2022_10_Contadores.txt',sep='|',index=False,float_format='%.0f')"
      ]
    },
    {
      "cell_type": "code",
      "execution_count": null,
      "metadata": {
        "id": "af8ab586"
      },
      "outputs": [],
      "source": [
        "datos[datos['ID']<3].to_csv('Modelar_UH2022_2_Contadores.txt',sep='|',index=False,float_format='%.0f')"
      ]
    },
    {
      "cell_type": "code",
      "execution_count": null,
      "metadata": {
        "id": "ec86706c"
      },
      "outputs": [],
      "source": [
        "datos[datos['ID']==2735].to_csv('Modelar_UH2022_Contador_2735.txt',sep='|',index=False,float_format='%.0f')"
      ]
    },
    {
      "cell_type": "code",
      "execution_count": null,
      "metadata": {
        "id": "3cfbe6da"
      },
      "outputs": [],
      "source": [
        "datos[datos['ID']==2561].to_csv('Modelar_UH2022_Contador_2561.txt',sep='|',index=False,float_format='%.0f')"
      ]
    },
    {
      "cell_type": "code",
      "execution_count": null,
      "metadata": {
        "id": "d8fef1a2"
      },
      "outputs": [],
      "source": [
        "datos[datos['ID']==2562].to_csv('Modelar_UH2022_Contador_2562.txt',sep='|',index=False,float_format='%.0f')"
      ]
    },
    {
      "cell_type": "code",
      "execution_count": null,
      "metadata": {
        "id": "972e563c"
      },
      "outputs": [],
      "source": [
        "datos[datos['ID']==167].to_csv('Modelar_UH2022_Contador_167.txt',sep='|',index=False,float_format='%.0f')"
      ]
    },
    {
      "cell_type": "code",
      "execution_count": null,
      "metadata": {
        "id": "0b894f38"
      },
      "outputs": [],
      "source": [
        "datos[datos['ID']==2521].to_csv('Modelar_UH2022_Contador_2521.txt',sep='|',index=False,float_format='%.0f')"
      ]
    },
    {
      "cell_type": "markdown",
      "metadata": {
        "id": "f837d361"
      },
      "source": [
        "# CLASE PARA PROYECTO CAJAMAR"
      ]
    },
    {
      "cell_type": "code",
      "source": [
        "import pandas as pd\n",
        "path=\"/content/drive/MyDrive/Cajamar/\"\n",
        "Normal_better=pd.read_csv(path+'Normal_better')\n",
        "Lista_Normal_better = Normal_better['Normal_better'].tolist()\n",
        "print(Lista_Normal_better)"
      ],
      "metadata": {
        "colab": {
          "base_uri": "https://localhost:8080/"
        },
        "id": "t3cMKfugbwUN",
        "outputId": "bf4f3ed8-8060-446a-f6e3-5ac7c123dab2"
      },
      "execution_count": 5,
      "outputs": [
        {
          "output_type": "stream",
          "name": "stdout",
          "text": [
            "    Unnamed: 0  Normal_better\n",
            "0            0              1\n",
            "1            1              1\n",
            "2            2              0\n",
            "3            3              1\n",
            "4            4              0\n",
            "5            5              0\n",
            "6            6              0\n",
            "7            7              1\n",
            "8            8              0\n",
            "9            9              0\n",
            "10          10              0\n",
            "[1, 1, 0, 1, 0, 0, 0, 1, 0, 0, 0]\n"
          ]
        }
      ]
    },
    {
      "cell_type": "code",
      "execution_count": 7,
      "metadata": {
        "id": "zVNA76q8R33i",
        "colab": {
          "base_uri": "https://localhost:8080/"
        },
        "outputId": "149fbabe-8950-4597-bd01-464aacb8be2a"
      },
      "outputs": [
        {
          "output_type": "stream",
          "name": "stdout",
          "text": [
            "Collecting skforecast\n",
            "  Downloading skforecast-0.4.2-py2.py3-none-any.whl (81 kB)\n",
            "\u001b[?25l\r\u001b[K     |████                            | 10 kB 20.6 MB/s eta 0:00:01\r\u001b[K     |████████                        | 20 kB 24.5 MB/s eta 0:00:01\r\u001b[K     |████████████                    | 30 kB 28.9 MB/s eta 0:00:01\r\u001b[K     |████████████████▏               | 40 kB 24.0 MB/s eta 0:00:01\r\u001b[K     |████████████████████▏           | 51 kB 17.4 MB/s eta 0:00:01\r\u001b[K     |████████████████████████▏       | 61 kB 18.9 MB/s eta 0:00:01\r\u001b[K     |████████████████████████████▎   | 71 kB 20.3 MB/s eta 0:00:01\r\u001b[K     |████████████████████████████████| 81 kB 7.4 MB/s \n",
            "\u001b[?25hRequirement already satisfied: numpy>=1.20.1 in /usr/local/lib/python3.7/dist-packages (from skforecast) (1.21.5)\n",
            "Requirement already satisfied: scikit-learn>=1.0.1 in /usr/local/lib/python3.7/dist-packages (from skforecast) (1.0.2)\n",
            "Requirement already satisfied: tqdm>=4.57.0 in /usr/local/lib/python3.7/dist-packages (from skforecast) (4.63.0)\n",
            "Requirement already satisfied: pandas>=1.2.2 in /usr/local/lib/python3.7/dist-packages (from skforecast) (1.3.5)\n",
            "Collecting statsmodels>=0.12.2\n",
            "  Downloading statsmodels-0.13.2-cp37-cp37m-manylinux_2_17_x86_64.manylinux2014_x86_64.whl (9.8 MB)\n",
            "\u001b[K     |████████████████████████████████| 9.8 MB 42.5 MB/s \n",
            "\u001b[?25hRequirement already satisfied: pytz>=2017.3 in /usr/local/lib/python3.7/dist-packages (from pandas>=1.2.2->skforecast) (2018.9)\n",
            "Requirement already satisfied: python-dateutil>=2.7.3 in /usr/local/lib/python3.7/dist-packages (from pandas>=1.2.2->skforecast) (2.8.2)\n",
            "Requirement already satisfied: six>=1.5 in /usr/local/lib/python3.7/dist-packages (from python-dateutil>=2.7.3->pandas>=1.2.2->skforecast) (1.15.0)\n",
            "Requirement already satisfied: joblib>=0.11 in /usr/local/lib/python3.7/dist-packages (from scikit-learn>=1.0.1->skforecast) (1.1.0)\n",
            "Requirement already satisfied: threadpoolctl>=2.0.0 in /usr/local/lib/python3.7/dist-packages (from scikit-learn>=1.0.1->skforecast) (3.1.0)\n",
            "Requirement already satisfied: scipy>=1.1.0 in /usr/local/lib/python3.7/dist-packages (from scikit-learn>=1.0.1->skforecast) (1.4.1)\n",
            "Requirement already satisfied: packaging>=21.3 in /usr/local/lib/python3.7/dist-packages (from statsmodels>=0.12.2->skforecast) (21.3)\n",
            "Requirement already satisfied: patsy>=0.5.2 in /usr/local/lib/python3.7/dist-packages (from statsmodels>=0.12.2->skforecast) (0.5.2)\n",
            "Requirement already satisfied: pyparsing!=3.0.5,>=2.0.2 in /usr/local/lib/python3.7/dist-packages (from packaging>=21.3->statsmodels>=0.12.2->skforecast) (3.0.7)\n",
            "Installing collected packages: statsmodels, skforecast\n",
            "  Attempting uninstall: statsmodels\n",
            "    Found existing installation: statsmodels 0.10.2\n",
            "    Uninstalling statsmodels-0.10.2:\n",
            "      Successfully uninstalled statsmodels-0.10.2\n",
            "Successfully installed skforecast-0.4.2 statsmodels-0.13.2\n"
          ]
        }
      ],
      "source": [
        "!pip install skforecast"
      ]
    },
    {
      "cell_type": "code",
      "execution_count": 9,
      "metadata": {
        "id": "96464584"
      },
      "outputs": [],
      "source": [
        "# Librerias\n",
        "\n",
        "import pandas as pd\n",
        "import numpy as np\n",
        "from tqdm import tqdm\n",
        "from datetime import timedelta\n",
        "from datetime import date\n",
        "from sklearn.metrics import mean_squared_error\n",
        "#from sklearn.model_selection import ParameterGrid\n",
        "import matplotlib.pyplot as plt\n",
        "from sklearn.ensemble import RandomForestRegressor\n",
        "from sklearn.ensemble import ExtraTreesRegressor\n",
        "from skforecast.ForecasterAutoreg import ForecasterAutoreg\n",
        "from skforecast.ForecasterAutoregCustom import ForecasterAutoregCustom\n",
        "from skforecast.ForecasterAutoregMultiOutput import ForecasterAutoregMultiOutput\n",
        "#from skforecast.model_selection import grid_search_forecaster, backtesting_forecaster\n",
        "import model_selection_no_print\n",
        "#from typing import Union, Optional\n",
        "from sklearn.preprocessing import StandardScaler\n",
        "import math\n",
        "from joblib import dump, load\n",
        "import pickle\n",
        "\n",
        "\n",
        "class Contador(object):\n",
        "    def __init__(self, datos_contador, ID, umbral, Modelo_Semanal):\n",
        "        self.datos_contador = datos_contador\n",
        "        self.ID = ID\n",
        "        self.lista_contadores_defectuosos = [111, 658, 2460, 2464, 2466, 2481, 2483, 2489]\n",
        "        self.umbral = umbral\n",
        "        self.Modelo_Semanal = Modelo_Semanal\n",
        "        self.Preprocesado()\n",
        "        self.SinDatos = False  # NO TIENE DATOS DATASET VACIO\n",
        "        #self.outlier = False\n",
        "        self.dias = 0\n",
        "        self.RMSE_Train = 0\n",
        "        self.RMSE_Test = 0\n",
        "        self.datos_test = pd.DataFrame()\n",
        "        self.datos_test_semanal = pd.DataFrame()\n",
        "        self.Mejor_Parametro = {}\n",
        "        self.Mejor_Lag = 14 \n",
        "        self.DiffConsumo = 0\n",
        "        \n",
        "        # {'ID','Dia_1':0,'Dia_2':0,'Dia_3':0,'Dia_4':0,'Dia_5':0,'Dia_6':0','Dia_7':0,'Semana_1':0,'Semana_2':0}\n",
        "        self.Predicciones = [self.ID,0,0,0,0,0,0,0,0,0,0,0,0,0,0,0,0]\n",
        "        \n",
        "        if not datos_contador.empty:\n",
        "            # CALCULO LECTURA CONTADOR Y CONSUMO JUNTANDO DECIMALES\n",
        "            #\n",
        "            #CALCULO DE LA LECTURA Y CONSUMO AGRUPANDO PARTE ENTERA Y DECIMAL\n",
        "            self.datos_contador['LECTURA'] = self.datos_contador['READINGINTEGER'] + (self.datos_contador['READINGTHOUSANDTH'] / 100)\n",
        "            self.datos_contador['CONSUMO'] = self.datos_contador['DELTAINTEGER'] + (self.datos_contador['DELTATHOUSANDTH'] / 100)\n",
        "            \n",
        "            #NORMALIZACIÓN A DISTRIBUCIÓN NORMAL(0,1) DE LECTURA Y CONSUMO\n",
        "            self.datos_contador['LECTURA_NORMA'] = (self.datos_contador['LECTURA']-self.datos_contador['LECTURA'].mean())/self.datos_contador['LECTURA'].std()\n",
        "            self.datos_contador['CONSUMO_NORMA'] = (self.datos_contador['CONSUMO']-self.datos_contador['CONSUMO'].mean())/self.datos_contador['CONSUMO'].std()\n",
        "            \n",
        "            # ELIMINANDO LOS OUTLIERS \"DESTACADOS\" DE LOS CONTADORES MARCADOS (DEJO COMENTADA UNA OPCIÓN PARA HACERLO TAMBIÉN CON EL RESTO DE CONTADORES)\n",
        "            if self.ID in self.lista_contadores_defectuosos:\n",
        "              if self.ID in [111, 658, 2560]:\n",
        "                self.datos_contador.drop(self.datos_contador.index[np.where(np.abs(self.datos_contador['CONSUMO_NORMA'])>6)[0]], inplace=True)\n",
        "              elif self.ID in [2466, 2483, 2489]:\n",
        "                self.datos_contador.drop(self.datos_contador.index[np.where(np.abs(self.datos_contador['CONSUMO_NORMA'])>5)[0]], inplace=True)\n",
        "              elif self.ID in [2464, 2481]:\n",
        "                self.datos_contador.drop(self.datos_contador.index[np.where(np.abs(self.datos_contador['CONSUMO_NORMA'])>10)[0]], inplace=True)\n",
        "#           else:\n",
        "#             self.datos_contador['CONSUMO'].drop(self.datos_contador.index[np.where(np.abs(self.datos_contador['CONSUMO_NORMA']>8)[0]], inplace=True)\n",
        "            \n",
        "            #FIJACIÓN DEL ÍNDICE TEMPORAL DE LA SERIE\n",
        "            self.datos_contador = self.datos_contador.set_index('SAMPLETIME')\n",
        "\n",
        "            #NORMALIZACIÓN MIN MAX DE LECTURA Y CONSUMO\n",
        "            self.datos_contador['LECTURA_MINMAX'] = (self.datos_contador['LECTURA']-self.datos_contador['LECTURA'].min())/(self.datos_contador['LECTURA'].max()-self.datos_contador['LECTURA'].min())\n",
        "            self.datos_contador['CONSUMO_MINMAX'] = (self.datos_contador['CONSUMO']-self.datos_contador['CONSUMO'].min())/(self.datos_contador['CONSUMO'].max()-self.datos_contador['CONSUMO'].min())\n",
        "            \n",
        "            #CÁLCULO DE LA DIFERENCIA DE LECTURAS EN CADA PASO DE TIEMPO PARA OBTENER EL CONSUMO A PARTIR DE LA LECTURA\n",
        "            self.datos_contador['CONSUMO_CAL'] = self.datos_contador['LECTURA'].diff(1).fillna(0)\n",
        "            \n",
        "            #APLICACIÓN DE LA FUNCIÓN PARA VERIFICAR SI EL CONSUMO ES CORRECTO\n",
        "            self.__Comprobar_Consumo()\n",
        "\n",
        "            # CÁLCULO DE LA SUMA DE LOS CONSUMOS Y LA DIFERENCIA DE VALOR MÁXIMO Y MÍNIMO DE LA LECTURA DEL CONTADOR\n",
        "            self.suma_consumo = self.datos_contador['CONSUMO'].sum()\n",
        "            self.diferencia_lectura = self.datos_contador['LECTURA'].max()-self.datos_contador['LECTURA'].min()\n",
        "\n",
        "            #BOOLEANO QUE DETERMINA SI LA SUMA DE LOS CONSUMOS Y LA DIFERENCIA MIN MAX DEL CONTADOR SON IGUALES\n",
        "            if self.suma_consumo == self.diferencia_lectura:\n",
        "              self.buenas_lecturas = True\n",
        "            else:\n",
        "              self.buenas_lecturas = False\n",
        "\n",
        "            # CONSUMO POR DIAS\n",
        "            # RESAMPLE\n",
        "            \n",
        "            self.datos_consumo = pd.DataFrame(self.datos_contador['CONSUMO'].resample(rule='1D', closed='left', label ='left').sum())\n",
        "\n",
        "            # NORMALIZACIÓN NORMAL STÁNDARD\n",
        "            self.datos_consumo['CONSUMO_NORM'] = (self.datos_consumo['CONSUMO'] - self.datos_consumo['CONSUMO'].mean()) / self.datos_consumo['CONSUMO'].std()\n",
        "            self.datos_consumo['CONSUMO_NORM'].fillna(0, inplace=True)\n",
        "            # NORMALIZACIÓN MIN MAX\n",
        "            self.datos_consumo['CONSUMO_MIN_MAX'] = (self.datos_consumo['CONSUMO']-self.datos_consumo['CONSUMO'].min())/(self.datos_consumo['CONSUMO'].max()-self.datos_consumo['CONSUMO'].min())\n",
        "            self.datos_consumo['CONSUMO_MIN_MAX'].fillna(0,inplace=True)\n",
        "            # MEDIAS MÓVILES N=3\n",
        "            self.datos_consumo['CONSUMO_MEDMOV3'] = self.datos_consumo['CONSUMO'].rolling(3).mean()\n",
        "            self.datos_consumo['CONSUMO_MEDMOV3'].fillna(0,inplace=True)\n",
        "            # MEDIAS MÓVILES N=4\n",
        "            self.datos_consumo['CONSUMO_MEDMOV4'] = self.datos_consumo['CONSUMO'].rolling(4).mean()\n",
        "            self.datos_consumo['CONSUMO_MEDMOV4'].fillna(0,inplace=True)\n",
        "            # MEDIAS MÓVILES N=5\n",
        "            self.datos_consumo['CONSUMO_MEDMOV5'] = self.datos_consumo['CONSUMO'].rolling(5).mean()\n",
        "            self.datos_consumo['CONSUMO_MEDMOV5'].fillna(0,inplace=True)\n",
        "            # MEDIAS MÓVILES N=6\n",
        "            self.datos_consumo['CONSUMO_MEDMOV6'] = self.datos_consumo['CONSUMO'].rolling(6).mean()\n",
        "            self.datos_consumo['CONSUMO_MEDMOV6'].fillna(0,inplace=True)\n",
        "\n",
        "            ##SOBRESCRIBIMOS CONSUMO\n",
        "            if ID not in Lista_Normal_better:\n",
        "                          self.datos_consumo['CONSUMO'] = self.datos_consumo['CONSUMO'].rolling(6).mean()\n",
        "                          self.datos_consumo['CONSUMO'].fillna(0,inplace=True)\n",
        "\n",
        "            # MEDIAS MÓVILES N=7\n",
        "            self.datos_consumo['CONSUMO_MEDMOV7'] = self.datos_consumo['CONSUMO'].rolling(7).mean()\n",
        "            self.datos_consumo['CONSUMO_MEDMOV7'].fillna(0,inplace=True)   \n",
        "\n",
        "            #COGER SÓLO SEMANAS COMPLETAS\n",
        "            self.datos_consumo_semanal = pd.DataFrame(self.datos_contador['CONSUMO'].resample(rule='1W', closed='left', label ='left',offset='-36h').sum())\n",
        "            \n",
        "            # ESTADISTICAS\n",
        "            self.dias = len(self.datos_consumo.index)\n",
        "            self.semanas = len(self.datos_consumo_semanal.index)\n",
        "            #self.datos_consumo['Cuenta'] = self.datos_contador.groupby([self.datos_contador.index.year,self.datos_contador.index.month, self.datos_contador.index.day]).agg({'CONSUMO':'count'}).values\n",
        "            \n",
        "            self.fecha_inicio_contador= self.datos_consumo.index[0]\n",
        "            self.fecha_fin_contador= self.datos_consumo.index[-1]\n",
        "            \n",
        "        else:\n",
        "            self.datos_consumo = pd.DataFrame()\n",
        "            self.SinDatos = True\n",
        "            self.fecha_fin_contador = None\n",
        "\n",
        "        # GENERACION DEL MODELO\n",
        "        self.modelo()\n",
        "    \n",
        "    def __Comprobar_Consumo(self):\n",
        "        # COMPRUEBA SI HAY MAS DE 1 LITRO DE DIFERENCIA ENTRE EL CONSUMO EL CALCULO DEL CONSUMO CON LA LECTURA DEL CONTADOR\n",
        "        # EL VALOR ACUMULADO SE GUARDA EN DiffConsumo\n",
        "        if not(self.datos_contador['CONSUMO_CAL'].equals(self.datos_contador['CONSUMO'])):\n",
        "            for index, row in self.datos_contador.iterrows():\n",
        "                if row['CONSUMO_CAL'] != row['CONSUMO'] and (np.absolute(row['CONSUMO_CAL'] - row['CONSUMO']) > 1):\n",
        "                    #print(row['CONSUMO_CAL'] - row['CONSUMO'])\n",
        "                    #print(index,row)\n",
        "                    self.DiffConsumo += np.absolute(row['CONSUMO_CAL'] - row['CONSUMO'])\n",
        "        \n",
        "    def __Convertir_fecha(self, serie):\n",
        "        fechas = []\n",
        "        for año, mes, dia in serie.index:\n",
        "            fechas.append(date(año,mes,dia))\n",
        "        return fechas\n",
        "    \n",
        "    def Preprocesado(self):\n",
        "        # SAMPLETIME READINGINTEGER\tREADINGTHOUSANDTH\tDELTAINTEGER\tDELTATHOUSANDTH\n",
        "        # VALORES  NULOS \n",
        "        # VALORES ENTEROS INTERPOLAMOS\n",
        "        \n",
        "\n",
        "        self.datos_contador['READINGINTEGER'].interpolate(inplace=True)\n",
        "        self.datos_contador['DELTAINTEGER'].interpolate(inplace=True)\n",
        "        \n",
        "        # VALORES DECIMALES SUSTITUIMOS POR CERO\n",
        "        self.datos_contador['READINGTHOUSANDTH'].fillna(0,inplace=True)\n",
        "        self.datos_contador['DELTATHOUSANDTH'].fillna(0,inplace=True)\n",
        "        \n",
        "        # ELIMINAR VALORES NEGATIVOS\n",
        "        indices = self.datos_contador[self.datos_contador['READINGINTEGER'] < 0].index\n",
        "        self.datos_contador.drop(indices,inplace=True)\n",
        "        indices = self.datos_contador[self.datos_contador['DELTAINTEGER'] < 0].index\n",
        "        self.datos_contador.drop(indices,inplace=True)\n",
        "\n",
        "\n",
        "    def modelo(self):\n",
        "        # DECISION DEL MODELO A TOMAR EN FUNCION DE LA ESTADISTICAS\n",
        "        # CARGA DEL MODELO\n",
        "        # PACO\n",
        "        self.model = None\n",
        "        if self.dias > self.umbral: \n",
        "            if self.fecha_fin_contador == date(2020,1,31):\n",
        "                # RandomForestRegressor Diario\n",
        "                self.model = ForecasterAutoreg(regressor=RandomForestRegressor(random_state=123), lags=14)\n",
        "                # RandomForestRegressor Semanal Paco\n",
        "                self.model_Semanal = ForecasterAutoreg(regressor=RandomForestRegressor(random_state=123), lags=4)\n",
        "                \n",
        "            else:\n",
        "                self.model = self.datos_consumo['CONSUMO'].mean()\n",
        "        else:\n",
        "            if self.dias > 0: \n",
        "                #if (self.fecha_fin_contador > date(2020,1,17)).bool() :    # HACE MEDIA SI TENEMOS DATOS EN LOS ULTIMOS 14 DIAS\n",
        "                self.model = self.datos_consumo['CONSUMO'].mean()\n",
        "                #else:\n",
        "                #self.model = 0\n",
        "            else:\n",
        "                self.model = 0\n",
        "\n",
        "    def Juntar_Datos(self):\n",
        "        # REHACE EL MODELO CON LOS MEJORES PARAMETROS\n",
        "        # JUNTA TODO EN datos_consumo\n",
        "        # {'max_depth': 3, 'n_estimators': 200}        \n",
        "        #del self.model\n",
        "        #if self.dias > umbral:\n",
        "            #self.model = ForecasterAutoreg(regressor=RandomForestRegressor(random_state=123), lags=max(self.Mejor_Lag), \n",
        "            #                                max_depth=self.Mejor_Parametro['max_depth'],n_estimators=self.Mejor_Parametro['n_estimators'])\n",
        "\n",
        "        self.datos_consumo = pd.concat([self.datos_consumo,self.datos_test])\n",
        "        self.datos_test =pd.DataFrame()\n",
        "        \n",
        "    \n",
        "\n",
        "class CajaMar_Water(object):\n",
        "    def __init__(self,Ruta_Datos,Fecha_Inicio=date(2019,2,1),Fecha_Fin=date(2020,1,31),umbral_modelo=100, Modelo_Semanal=False):\n",
        "        self.Ruta_Datos = Ruta_Datos\n",
        "        self.Fecha_Inicio = Fecha_Inicio\n",
        "        self.Fecha_Fin = Fecha_Fin\n",
        "        self.umbral_modelo = umbral_modelo\n",
        "        self.Modelo_Semanal = Modelo_Semanal    # True usamos dos modelos uno para dias y otro para semanas\n",
        "        self.datos = pd.DataFrame()\n",
        "        self.contadores = []\n",
        "        self.dias_test = 14     # DIAS QUE SE RESERVAN PARA TEST EMPEZANDO POR LA FECHA MAS RECIENTE\n",
        "        self.semanas_test = 2   # SEMANAS QUE SE RESERVAN PARA TEST\n",
        "        self.Cargar_Datos()\n",
        "        self.RMSE_Test_Promedio=0\n",
        "        self.RMSE_Test_Suma=0\n",
        "        self.RMSE_Todos = []\n",
        "        self.RMSE_Todos_IDs = []\n",
        "        \n",
        "    \n",
        "\n",
        "    def Cargar_Datos(self):\n",
        "        print('CARGANDO DATOS.....')\n",
        "        self.datos = pd.read_csv(self.Ruta_Datos,sep='|',parse_dates=['SAMPLETIME'],infer_datetime_format=True,encoding='utf-8')\n",
        "        self.datos.sort_values(by=['ID','SAMPLETIME'],inplace=True)\n",
        " \n",
        "        # GENERANDO CONTADORES\n",
        "        print('GENERANDO CONTADORES.....')\n",
        "        for ID in tqdm(pd.unique(self.datos['ID'])):\n",
        "            # ALMACENAMOS ID DE CONTADOR Y BORRAMOS LA COLUMNA\n",
        "            self.contadores.append(Contador(self.datos[self.datos['ID']==ID].drop('ID',axis=1),ID,self.umbral_modelo,self.Modelo_Semanal))\n",
        "\n",
        "        print('PROCESO DE CARGA FINALIZADO')\n",
        "    \n",
        "    def PartirDatos(self):\n",
        "        # Separar datos de entrenamiento y test / validacion (dias=0 no hace validacion)\n",
        "        if self.dias_test > 0:     \n",
        "            for contador in tqdm(self.contadores):\n",
        "                if contador.SinDatos == False:      # COMPROBAMOS QUE HAY ALGUN REGISTRO\n",
        "                    #if (contador.fecha_fin_contador==self.Fecha_Fin):\n",
        "                    if contador.dias > self.dias_test + 1:    # COMPROBAMOS QUE HAY SUFICIENTES DATOS PARA HACER PARTICION\n",
        "                        contador.datos_test = contador.datos_consumo.tail(self.dias_test)\n",
        "                        contador.datos_consumo = contador.datos_consumo[0:-self.dias_test]\n",
        "                    if contador.semanas > self.semanas_test + 1:\n",
        "                        contador.datos_test_semanal = contador.datos_consumo_semanal.tail(self.semanas_test)\n",
        "                        contador.datos_consumo_semanal = contador.datos_consumo_semanal[0:-self.semanas_test]\n",
        "\n",
        "\n",
        "    \n",
        "    def Grid_Search(self,ID,steps):\n",
        "        # Hiperparámetros del regresor\n",
        "        param_grid = {'n_estimators': [100],\n",
        "              'max_depth': [5]}\n",
        "\n",
        "        # Lags utilizados como predictores\n",
        "        lags_grid = [14]\n",
        "\n",
        "        resultados_grid = model_selection_no_print.grid_search_forecaster(\n",
        "                                forecaster         = self.contadores[ID].model,\n",
        "                                y                  = self.contadores[ID].datos_consumo['CONSUMO'],\n",
        "                                param_grid         = param_grid,\n",
        "                                lags_grid          = lags_grid,\n",
        "                                steps              = steps,\n",
        "                                refit              = True,\n",
        "                                metric             = 'mean_squared_error',\n",
        "                                initial_train_size = len(self.contadores[ID].datos_consumo) - 14,\n",
        "                                return_best        = True,\n",
        "                                verbose            = False)\n",
        "        self.contadores[ID].RMSE_Train = math.sqrt(resultados_grid['metric'].head(1))\n",
        "        self.contadores[ID].Mejor_Parametro = list(resultados_grid['params'])[0]\n",
        "        self.contadores[ID].Mejor_Lag = max(list(resultados_grid['lags'].head(1))[0])\n",
        "        \n",
        "\n",
        "    def Entrenamiento(self,Grid=False):\n",
        "        # Entrenamiento de los modelos en self.contadores(lista) \n",
        "        # iterar lista y llamar a self.contadores[iter].modelo.train\n",
        "        # Rellena la variable self.contadores.Predicciones\n",
        "        indexC = 0\n",
        "        for contador in tqdm(self.contadores):\n",
        "            if isinstance(contador.model,ForecasterAutoreg):    # COMPROBAMOS QUE ES UN MODELO\n",
        "                if Grid:\n",
        "                    self.Grid_Search(indexC,self.dias_test)\n",
        "                    #contador.Juntar_Datos() #  JUNTA LOS DATOS PARA LUEGO HACER PREDICT\n",
        "                \n",
        "                #contador.model.fit(y=contador.datos_consumo['CONSUMO_NORM'])\n",
        "                contador.model.fit(y=contador.datos_consumo['CONSUMO'])\n",
        "                predict = contador.model.predict(steps=self.dias_test)\n",
        "                #contador.model.fit(y=contador.datos_consumo['CONSUMO_NORM'])\n",
        "                #contador.model.fit(y=contador.datos_consumo['CONSUMO'])\n",
        "                #contador.model.fit(y=contador.datos_consumo['CONSUMO_MIN_MAX'])\n",
        "                #contador.model.fit(y=contador.datos_consumo['CONSUMO_MEDMOV3'])\n",
        "                #contador.model.fit(y=contador.datos_consumo['CONSUMO_MEDMOV4'])\n",
        "                #contador.model.fit(y=contador.datos_consumo['CONSUMO_MEDMOV5'])\n",
        "\n",
        "                if self.Modelo_Semanal:\n",
        "                    contador.model_Semanal.fit(y=contador.datos_consumo_semanal['CONSUMO'])\n",
        "                    predict_semanal = contador.model_Semanal.predict(steps=self.semanas_test)\n",
        "                # HAY QUE TENER EN CUENTA CUANDO TERMINAN LOS DATOS\n",
        "                #predict = contador.model.predict(steps=self.dias_test) * contador.datos_consumo['CONSUMO'].std() + contador.datos_consumo['CONSUMO'].mean()\n",
        "                #predict = contador.model.predict(steps=self.dias_test) * contador.datos_consumo['CONSUMO'].std() + contador.datos_consumo['CONSUMO'].mean()\n",
        "                #predict = contador.model.predict(steps=self.dias_test)*(contador.datos_consumo['CONSUMO'].max()-contador.datos_consumo['CONSUMO'].min())+contador.datos_consumo['CONSUMO'].min()\n",
        "                #predict = contador.model.predict(steps=self.dias_test)\n",
        "                index = 1\n",
        "                for predict_dia in predict[0:14]:    # GUARDA 14 DIAS PREDICCION\n",
        "                    contador.Predicciones[index] = predict_dia\n",
        "                    index += 1\n",
        "                if self.Modelo_Semanal:\n",
        "                    contador.Predicciones[15]=predict_semanal[0]              # GUARDA SEMANA1 PREDICCION\n",
        "                    contador.Predicciones[16]=predict_semanal[1]              # GUARDA SEMANA2 PREDICCION\n",
        "                else:\n",
        "                    contador.Predicciones[15]=predict[0:7].sum()     # GUARDA SEMANA1 PREDICCION\n",
        "                    contador.Predicciones[16]=predict[7:14].sum()    # GUARDA SEMANA2 PREDICCION\n",
        "            else:\n",
        "              for index in range(1,15):\n",
        "                    contador.Predicciones[index] = contador.model  # GUARDAMOS MEDIA EN LOS 7 DIAS\n",
        "              contador.Predicciones[15]=contador.model*7     # GUARDAMOS MEDIA SEMANA1\n",
        "              contador.Predicciones[16]=contador.model*7     # GUARDAMOS MEDIA SEMANA2\n",
        "            \n",
        "            indexC += 1\n",
        "                  \n",
        "\n",
        "    def Calculo_RMSE(self):\n",
        "        # Calculo rmse utlizando datos de test\n",
        "        for contador in tqdm(self.contadores):\n",
        "            #if contador.dias > 180 and len(contador.datos_test) == self.dias_test:  # VER LIMITE NO DEPENDE DE LA CLASE CONTADOR\n",
        "            if len(contador.datos_test) == self.dias_test and len(contador.datos_test_semanal) == self.semanas_test:\n",
        "                if self.Modelo_Semanal:\n",
        "                    media_RMSE_semanal=math.sqrt(mean_squared_error(contador.datos_test_semanal['CONSUMO'] , [contador.Predicciones[15], contador.Predicciones[16]]))\n",
        "                else:\n",
        "                    media_RMSE_semanal=math.sqrt(mean_squared_error([contador.datos_test['CONSUMO'][0:7].sum(), contador.datos_test['CONSUMO'][7:14].sum()] , [contador.Predicciones[15], contador.Predicciones[16]]))\n",
        "                \n",
        "                contador.RMSE_Test = 0.5*math.sqrt(mean_squared_error(contador.datos_test['CONSUMO'][0:7],contador.Predicciones[1:8]))+0.5*media_RMSE_semanal\n",
        "                # Sin raiz\n",
        "                #media_RMSE_semanal=mean_squared_error([contador.datos_test['CONSUMO'][0:7].sum(), contador.datos_test['CONSUMO'][7:14].sum()] , [contador.Predicciones[8], contador.Predicciones[9]])\n",
        "                #contador.RMSE_Test = 0.5+mean_squared_error(contador.datos_test['CONSUMO'][0:7],contador.Predicciones[1:8])+0.5*media_RMSE_semanal\n",
        "                self.RMSE_Todos.append(contador.RMSE_Test)\n",
        "                self.RMSE_Todos_IDs.append(contador.ID)\n",
        "\n",
        "        self.RMSE_Test_Suma = sum(self.RMSE_Todos)\n",
        "        if self.RMSE_Test_Suma != 0:\n",
        "            self.RMSE_Test_Promedio = self.RMSE_Test_Suma / len(self.RMSE_Todos)\n",
        "        else:\n",
        "            print('ERROR NO HAY CALCULO DE RMSE')\n",
        "        \n",
        "    \n",
        "    def GenerarResultados(self,equipo='Team2021IA3',numeral=1):\n",
        "        # Mediante los datos predicciones generamos txt con el formato del datathon\n",
        "        # Separando campos con “|”, el valor de la predicción en litros, y los decimales con “.” 2 decimales\n",
        "        # Fichero: \"Cajamar_Universitat de València (UV)_Team2021IA3_numeral.txt\"\n",
        "        \n",
        "        columnas = ['ID','Dia_1','Dia_2','Dia_3','Dia_4','Dia_5','Dia_6','Dia_7','Semana_1','Semana_2']\n",
        "        datos = []\n",
        "\n",
        "        for contador in tqdm(self.contadores):\n",
        "            datos.append(contador.Predicciones)\n",
        "        \n",
        "        print('TAMAÑO DE LOS DATOS: ', len(datos), 'x' ,len(datos[0]))\n",
        "        \n",
        "        dataset = pd.DataFrame(datos,columns=columnas)\n",
        "        dataset.to_csv('Cajamar_Universitat de València (UV)_' + equipo + '_' + str(numeral) + '.txt',header=False ,sep='|' ,index=False ,decimal='.' ,float_format='%.2f')\n",
        "         \n",
        "    def GraficasEstadisticas(self,contador=0,Test=True):\n",
        "        # GRÁFICAS DE CONTADORES INDIVIDUALES CON TEST Y PREDICCIONES\n",
        "        if Test:\n",
        "            fig, ax = plt.subplots(figsize=(10, 4))\n",
        "            self.contadores[contador].datos_test['CONSUMO'].plot(ax=ax, label='Test', linewidth=1)\n",
        "            pd.DataFrame(self.contadores[contador].Predicciones[1:15],index=self.contadores[contador].datos_test['CONSUMO'].index[0:14],columns=['Predicción']).plot(ax=ax, label='Prediccion', linewidth=1)\n",
        "            ax.set_title('Consumo Agua. RMSE: ' + str(self.contadores[contador].RMSE_Test) + ' Contador: ' + str(contador))\n",
        "            ax.legend();\n",
        "        else:\n",
        "            base = date(2020,2,1)\n",
        "            index = [base + timedelta(days=x) for x in range(7)]\n",
        "            index = pd.DataFrame(index)\n",
        "            index.insert(1, 'SAMPLETIME', [base + timedelta(days=x) for x in range(7)], True)\n",
        "            index['SAMPLETIME']=pd.to_datetime(index['SAMPLETIME'], format='%Y-%m-%d')\n",
        "            index=index.set_index('SAMPLETIME')\n",
        "            index_puro=index.drop([0],axis=1)\n",
        "            index_puro['Predicción']=Proyecto.contadores[contador].Predicciones[1:8]\n",
        "            #df_final=pd.DataFrame(index_puro.insert(1, 'Predicción', pd.Series(self.contadores[contador].Predicciones[1:8]), True))\n",
        "\n",
        "            fig, ax = plt.subplots(figsize=(10, 4))\n",
        "            self.contadores[contador].datos_consumo['CONSUMO'].plot(ax=ax, label='Consumo', linewidth=1)\n",
        "            index_puro.plot(ax=ax, label='Predicción', linewidth=1)\n",
        "            #pd.DataFrame(self.contadores[contador].Predicciones[1:8],index=index_puro,columns=['Predicción']).plot(ax=ax, label='Prediccion', linewidth=1)\n",
        "            ax.set_title('Consumo Agua. RMSE: ' + str(self.contadores[contador].RMSE_Train) + ' Contador: ' + str(contador))\n",
        "            ax.legend();\n",
        "\n",
        "    def Guardar_Modelos(self,Ruta='./modelos/Modelo_ID_'):\n",
        "\n",
        "        print('GUARDANDO MODELOS.....')\n",
        "        for contador in tqdm(self.contadores):\n",
        "            dump(contador.model,Ruta + str(contador.ID))\n",
        "\n",
        "        "
      ]
    },
    {
      "cell_type": "code",
      "execution_count": 10,
      "metadata": {
        "id": "e5866f16",
        "colab": {
          "base_uri": "https://localhost:8080/"
        },
        "outputId": "c40e96af-17b0-4395-9298-d2c332d7a6a9"
      },
      "outputs": [
        {
          "output_type": "stream",
          "name": "stdout",
          "text": [
            "CARGANDO DATOS.....\n",
            "GENERANDO CONTADORES.....\n"
          ]
        },
        {
          "output_type": "stream",
          "name": "stderr",
          "text": [
            "  0%|          | 0/11 [00:00<?, ?it/s]/usr/local/lib/python3.7/dist-packages/ipykernel_launcher.py:186: FutureWarning: Comparison of Timestamp with datetime.date is deprecated in order to match the standard library behavior.  In a future version these will be considered non-comparable.Use 'ts == pd.Timestamp(date)' or 'ts.date() == date' instead.\n",
            "  9%|▉         | 1/11 [00:01<00:10,  1.03s/it]/usr/local/lib/python3.7/dist-packages/ipykernel_launcher.py:186: FutureWarning: Comparison of Timestamp with datetime.date is deprecated in order to match the standard library behavior.  In a future version these will be considered non-comparable.Use 'ts == pd.Timestamp(date)' or 'ts.date() == date' instead.\n",
            " 18%|█▊        | 2/11 [00:01<00:08,  1.10it/s]/usr/local/lib/python3.7/dist-packages/ipykernel_launcher.py:186: FutureWarning: Comparison of Timestamp with datetime.date is deprecated in order to match the standard library behavior.  In a future version these will be considered non-comparable.Use 'ts == pd.Timestamp(date)' or 'ts.date() == date' instead.\n",
            " 27%|██▋       | 3/11 [00:02<00:05,  1.40it/s]/usr/local/lib/python3.7/dist-packages/ipykernel_launcher.py:186: FutureWarning: Comparison of Timestamp with datetime.date is deprecated in order to match the standard library behavior.  In a future version these will be considered non-comparable.Use 'ts == pd.Timestamp(date)' or 'ts.date() == date' instead.\n",
            " 36%|███▋      | 4/11 [00:02<00:04,  1.59it/s]/usr/local/lib/python3.7/dist-packages/ipykernel_launcher.py:186: FutureWarning: Comparison of Timestamp with datetime.date is deprecated in order to match the standard library behavior.  In a future version these will be considered non-comparable.Use 'ts == pd.Timestamp(date)' or 'ts.date() == date' instead.\n",
            " 45%|████▌     | 5/11 [00:03<00:03,  1.67it/s]/usr/local/lib/python3.7/dist-packages/ipykernel_launcher.py:186: FutureWarning: Comparison of Timestamp with datetime.date is deprecated in order to match the standard library behavior.  In a future version these will be considered non-comparable.Use 'ts == pd.Timestamp(date)' or 'ts.date() == date' instead.\n",
            " 55%|█████▍    | 6/11 [00:03<00:02,  1.74it/s]/usr/local/lib/python3.7/dist-packages/ipykernel_launcher.py:186: FutureWarning: Comparison of Timestamp with datetime.date is deprecated in order to match the standard library behavior.  In a future version these will be considered non-comparable.Use 'ts == pd.Timestamp(date)' or 'ts.date() == date' instead.\n",
            " 64%|██████▎   | 7/11 [00:04<00:02,  1.73it/s]/usr/local/lib/python3.7/dist-packages/ipykernel_launcher.py:186: FutureWarning: Comparison of Timestamp with datetime.date is deprecated in order to match the standard library behavior.  In a future version these will be considered non-comparable.Use 'ts == pd.Timestamp(date)' or 'ts.date() == date' instead.\n",
            " 73%|███████▎  | 8/11 [00:04<00:01,  1.80it/s]/usr/local/lib/python3.7/dist-packages/ipykernel_launcher.py:186: FutureWarning: Comparison of Timestamp with datetime.date is deprecated in order to match the standard library behavior.  In a future version these will be considered non-comparable.Use 'ts == pd.Timestamp(date)' or 'ts.date() == date' instead.\n",
            " 82%|████████▏ | 9/11 [00:05<00:01,  1.87it/s]/usr/local/lib/python3.7/dist-packages/ipykernel_launcher.py:186: FutureWarning: Comparison of Timestamp with datetime.date is deprecated in order to match the standard library behavior.  In a future version these will be considered non-comparable.Use 'ts == pd.Timestamp(date)' or 'ts.date() == date' instead.\n",
            " 91%|█████████ | 10/11 [00:05<00:00,  1.91it/s]/usr/local/lib/python3.7/dist-packages/ipykernel_launcher.py:186: FutureWarning: Comparison of Timestamp with datetime.date is deprecated in order to match the standard library behavior.  In a future version these will be considered non-comparable.Use 'ts == pd.Timestamp(date)' or 'ts.date() == date' instead.\n",
            "100%|██████████| 11/11 [00:06<00:00,  1.69it/s]"
          ]
        },
        {
          "output_type": "stream",
          "name": "stdout",
          "text": [
            "PROCESO DE CARGA FINALIZADO\n"
          ]
        },
        {
          "output_type": "stream",
          "name": "stderr",
          "text": [
            "\n"
          ]
        }
      ],
      "source": [
        "#Proyecto = CajaMar_Water('Modelar_UH2022.txt')\n",
        "path=\"/content/drive/MyDrive/Cajamar/\"\n",
        "Proyecto = CajaMar_Water(path+'Modelar_UH2022_10_Contadores.txt')\n",
        "#Proyecto = CajaMar_Water(path+'Modelar_UH2022.txt')\n",
        "#Proyecto = CajaMar_Water('Modelar_UH2022_10_Contadores.txt', Modelo_Semanal=False)\n",
        "#Proyecto = CajaMar_Water('Modelar_UH2022_3_Contadores.txt')\n",
        "#Proyecto = CajaMar_Water('Modelar_UH2022_Contador_2735.txt')\n",
        "#Proyecto = CajaMar_Water('Modelar_UH2022_Contador_2561.txt')\n",
        "#Proyecto = CajaMar_Water('Modelar_UH2022_Contador_2562.txt')"
      ]
    },
    {
      "cell_type": "markdown",
      "source": [
        "#SIN OUTLIERS EN CONTADORES DEFECTUOSOS"
      ],
      "metadata": {
        "id": "JuiQnaygvnJ0"
      }
    },
    {
      "cell_type": "code",
      "source": [
        "# Un modelo diario\n",
        "Proyecto.PartirDatos()\n",
        "Proyecto.Entrenamiento()\n",
        "Proyecto.Calculo_RMSE()\n",
        "Proyecto.GraficasEstadisticas()"
      ],
      "metadata": {
        "id": "j8qGUzKQvmJu",
        "colab": {
          "base_uri": "https://localhost:8080/",
          "height": 374
        },
        "outputId": "ef1df95a-70f5-46e2-ced4-62145dfaf607"
      },
      "execution_count": 11,
      "outputs": [
        {
          "output_type": "stream",
          "name": "stderr",
          "text": [
            "100%|██████████| 11/11 [00:00<00:00, 2619.95it/s]\n",
            "100%|██████████| 11/11 [00:05<00:00,  2.16it/s]\n",
            "100%|██████████| 11/11 [00:00<00:00, 564.66it/s]\n"
          ]
        },
        {
          "output_type": "display_data",
          "data": {
            "text/plain": [
              "<Figure size 720x288 with 1 Axes>"
            ],
            "image/png": "[encoded data removed]"
          },
          "metadata": {
            "needs_background": "light"
          }
        }
      ]
    },
    {
      "cell_type": "code",
      "source": [
        "#data_tuples = list(zip(Proyecto.RMSE_Todos,Proyecto.RMSE_Todos_IDs))\n",
        "#resultados=pd.DataFrame(data_tuples,columns=['RMSE_Normal','ID'])\n",
        "#resultados.to_csv(path+'RMSE_Normal')\n",
        "#print(resultados)"
      ],
      "metadata": {
        "id": "gOXegdq9K9Nk",
        "colab": {
          "base_uri": "https://localhost:8080/"
        },
        "outputId": "e0dce443-a72c-4a46-a199-ef39bfa8decc"
      },
      "execution_count": 12,
      "outputs": [
        {
          "output_type": "stream",
          "name": "stdout",
          "text": [
            "    RMSE_Normal  ID\n",
            "0    185.024601   0\n",
            "1     95.320432   1\n",
            "2     14.943313   2\n",
            "3    267.590181   3\n",
            "4    266.942634   4\n",
            "5    131.816212   5\n",
            "6     32.637500   6\n",
            "7    182.570137   7\n",
            "8    457.891000   8\n",
            "9    205.630437   9\n",
            "10   299.674105  10\n"
          ]
        }
      ]
    },
    {
      "cell_type": "code",
      "source": [
        ""
      ],
      "metadata": {
        "id": "2AE4Y5ZDKSWj"
      },
      "execution_count": 12,
      "outputs": []
    },
    {
      "cell_type": "code",
      "source": [
        "for ID in [111,658,2460,2464,2466,2481,2483,2489,2502]:\n",
        "    Proyecto.GraficasEstadisticas(contador=ID)"
      ],
      "metadata": {
        "id": "WznMvJBozv92",
        "colab": {
          "base_uri": "https://localhost:8080/",
          "height": 571
        },
        "outputId": "d0426db8-57d5-43c1-c1a6-d6ce5a1a310d"
      },
      "execution_count": 13,
      "outputs": [
        {
          "output_type": "error",
          "ename": "IndexError",
          "evalue": "ignored",
          "traceback": [
            "\u001b[0;31m---------------------------------------------------------------------------\u001b[0m",
            "\u001b[0;31mIndexError\u001b[0m                                Traceback (most recent call last)",
            "\u001b[0;32m<ipython-input-13-1382ecf30b0a>\u001b[0m in \u001b[0;36m<module>\u001b[0;34m()\u001b[0m\n\u001b[1;32m      1\u001b[0m \u001b[0;32mfor\u001b[0m \u001b[0mID\u001b[0m \u001b[0;32min\u001b[0m \u001b[0;34m[\u001b[0m\u001b[0;36m111\u001b[0m\u001b[0;34m,\u001b[0m\u001b[0;36m658\u001b[0m\u001b[0;34m,\u001b[0m\u001b[0;36m2460\u001b[0m\u001b[0;34m,\u001b[0m\u001b[0;36m2464\u001b[0m\u001b[0;34m,\u001b[0m\u001b[0;36m2466\u001b[0m\u001b[0;34m,\u001b[0m\u001b[0;36m2481\u001b[0m\u001b[0;34m,\u001b[0m\u001b[0;36m2483\u001b[0m\u001b[0;34m,\u001b[0m\u001b[0;36m2489\u001b[0m\u001b[0;34m,\u001b[0m\u001b[0;36m2502\u001b[0m\u001b[0;34m]\u001b[0m\u001b[0;34m:\u001b[0m\u001b[0;34m\u001b[0m\u001b[0;34m\u001b[0m\u001b[0m\n\u001b[0;32m----> 2\u001b[0;31m     \u001b[0mProyecto\u001b[0m\u001b[0;34m.\u001b[0m\u001b[0mGraficasEstadisticas\u001b[0m\u001b[0;34m(\u001b[0m\u001b[0mcontador\u001b[0m\u001b[0;34m=\u001b[0m\u001b[0mID\u001b[0m\u001b[0;34m)\u001b[0m\u001b[0;34m\u001b[0m\u001b[0;34m\u001b[0m\u001b[0m\n\u001b[0m",
            "\u001b[0;32m<ipython-input-9-2320fc849123>\u001b[0m in \u001b[0;36mGraficasEstadisticas\u001b[0;34m(self, contador, Test)\u001b[0m\n\u001b[1;32m    378\u001b[0m         \u001b[0;32mif\u001b[0m \u001b[0mTest\u001b[0m\u001b[0;34m:\u001b[0m\u001b[0;34m\u001b[0m\u001b[0;34m\u001b[0m\u001b[0m\n\u001b[1;32m    379\u001b[0m             \u001b[0mfig\u001b[0m\u001b[0;34m,\u001b[0m \u001b[0max\u001b[0m \u001b[0;34m=\u001b[0m \u001b[0mplt\u001b[0m\u001b[0;34m.\u001b[0m\u001b[0msubplots\u001b[0m\u001b[0;34m(\u001b[0m\u001b[0mfigsize\u001b[0m\u001b[0;34m=\u001b[0m\u001b[0;34m(\u001b[0m\u001b[0;36m10\u001b[0m\u001b[0;34m,\u001b[0m \u001b[0;36m4\u001b[0m\u001b[0;34m)\u001b[0m\u001b[0;34m)\u001b[0m\u001b[0;34m\u001b[0m\u001b[0;34m\u001b[0m\u001b[0m\n\u001b[0;32m--> 380\u001b[0;31m             \u001b[0mself\u001b[0m\u001b[0;34m.\u001b[0m\u001b[0mcontadores\u001b[0m\u001b[0;34m[\u001b[0m\u001b[0mcontador\u001b[0m\u001b[0;34m]\u001b[0m\u001b[0;34m.\u001b[0m\u001b[0mdatos_test\u001b[0m\u001b[0;34m[\u001b[0m\u001b[0;34m'CONSUMO'\u001b[0m\u001b[0;34m]\u001b[0m\u001b[0;34m.\u001b[0m\u001b[0mplot\u001b[0m\u001b[0;34m(\u001b[0m\u001b[0max\u001b[0m\u001b[0;34m=\u001b[0m\u001b[0max\u001b[0m\u001b[0;34m,\u001b[0m \u001b[0mlabel\u001b[0m\u001b[0;34m=\u001b[0m\u001b[0;34m'Test'\u001b[0m\u001b[0;34m,\u001b[0m \u001b[0mlinewidth\u001b[0m\u001b[0;34m=\u001b[0m\u001b[0;36m1\u001b[0m\u001b[0;34m)\u001b[0m\u001b[0;34m\u001b[0m\u001b[0;34m\u001b[0m\u001b[0m\n\u001b[0m\u001b[1;32m    381\u001b[0m             \u001b[0mpd\u001b[0m\u001b[0;34m.\u001b[0m\u001b[0mDataFrame\u001b[0m\u001b[0;34m(\u001b[0m\u001b[0mself\u001b[0m\u001b[0;34m.\u001b[0m\u001b[0mcontadores\u001b[0m\u001b[0;34m[\u001b[0m\u001b[0mcontador\u001b[0m\u001b[0;34m]\u001b[0m\u001b[0;34m.\u001b[0m\u001b[0mPredicciones\u001b[0m\u001b[0;34m[\u001b[0m\u001b[0;36m1\u001b[0m\u001b[0;34m:\u001b[0m\u001b[0;36m15\u001b[0m\u001b[0;34m]\u001b[0m\u001b[0;34m,\u001b[0m\u001b[0mindex\u001b[0m\u001b[0;34m=\u001b[0m\u001b[0mself\u001b[0m\u001b[0;34m.\u001b[0m\u001b[0mcontadores\u001b[0m\u001b[0;34m[\u001b[0m\u001b[0mcontador\u001b[0m\u001b[0;34m]\u001b[0m\u001b[0;34m.\u001b[0m\u001b[0mdatos_test\u001b[0m\u001b[0;34m[\u001b[0m\u001b[0;34m'CONSUMO'\u001b[0m\u001b[0;34m]\u001b[0m\u001b[0;34m.\u001b[0m\u001b[0mindex\u001b[0m\u001b[0;34m[\u001b[0m\u001b[0;36m0\u001b[0m\u001b[0;34m:\u001b[0m\u001b[0;36m14\u001b[0m\u001b[0;34m]\u001b[0m\u001b[0;34m,\u001b[0m\u001b[0mcolumns\u001b[0m\u001b[0;34m=\u001b[0m\u001b[0;34m[\u001b[0m\u001b[0;34m'Predicción'\u001b[0m\u001b[0;34m]\u001b[0m\u001b[0;34m)\u001b[0m\u001b[0;34m.\u001b[0m\u001b[0mplot\u001b[0m\u001b[0;34m(\u001b[0m\u001b[0max\u001b[0m\u001b[0;34m=\u001b[0m\u001b[0max\u001b[0m\u001b[0;34m,\u001b[0m \u001b[0mlabel\u001b[0m\u001b[0;34m=\u001b[0m\u001b[0;34m'Prediccion'\u001b[0m\u001b[0;34m,\u001b[0m \u001b[0mlinewidth\u001b[0m\u001b[0;34m=\u001b[0m\u001b[0;36m1\u001b[0m\u001b[0;34m)\u001b[0m\u001b[0;34m\u001b[0m\u001b[0;34m\u001b[0m\u001b[0m\n\u001b[1;32m    382\u001b[0m             \u001b[0max\u001b[0m\u001b[0;34m.\u001b[0m\u001b[0mset_title\u001b[0m\u001b[0;34m(\u001b[0m\u001b[0;34m'Consumo Agua. RMSE: '\u001b[0m \u001b[0;34m+\u001b[0m \u001b[0mstr\u001b[0m\u001b[0;34m(\u001b[0m\u001b[0mself\u001b[0m\u001b[0;34m.\u001b[0m\u001b[0mcontadores\u001b[0m\u001b[0;34m[\u001b[0m\u001b[0mcontador\u001b[0m\u001b[0;34m]\u001b[0m\u001b[0;34m.\u001b[0m\u001b[0mRMSE_Test\u001b[0m\u001b[0;34m)\u001b[0m \u001b[0;34m+\u001b[0m \u001b[0;34m' Contador: '\u001b[0m \u001b[0;34m+\u001b[0m \u001b[0mstr\u001b[0m\u001b[0;34m(\u001b[0m\u001b[0mcontador\u001b[0m\u001b[0;34m)\u001b[0m\u001b[0;34m)\u001b[0m\u001b[0;34m\u001b[0m\u001b[0;34m\u001b[0m\u001b[0m\n",
            "\u001b[0;31mIndexError\u001b[0m: list index out of range"
          ]
        },
        {
          "output_type": "display_data",
          "data": {
            "text/plain": [
              "<Figure size 720x288 with 1 Axes>"
            ],
            "image/png": "[encoded data removed]"
          },
          "metadata": {
            "needs_background": "light"
          }
        }
      ]
    },
    {
      "cell_type": "markdown",
      "metadata": {
        "id": "e14f78c6"
      },
      "source": [
        "# COHERENCIA DE LOS DATOS"
      ]
    },
    {
      "cell_type": "markdown",
      "source": [
        "#CON OUTLIERS EN CONTADORES DEFECTUOSOS"
      ],
      "metadata": {
        "id": "h_-TLWfgt10u"
      }
    },
    {
      "cell_type": "code",
      "execution_count": 14,
      "metadata": {
        "id": "bb02f245",
        "colab": {
          "base_uri": "https://localhost:8080/",
          "height": 374
        },
        "outputId": "b1285edd-52c4-4a7d-c48f-def061b6be3e"
      },
      "outputs": [
        {
          "output_type": "stream",
          "name": "stderr",
          "text": [
            "100%|██████████| 11/11 [00:00<00:00, 4384.43it/s]\n",
            "100%|██████████| 11/11 [00:05<00:00,  2.03it/s]\n",
            "100%|██████████| 11/11 [00:00<00:00, 646.62it/s]\n"
          ]
        },
        {
          "output_type": "display_data",
          "data": {
            "text/plain": [
              "<Figure size 720x288 with 1 Axes>"
            ],
            "image/png": "[encoded data removed]"
          },
          "metadata": {
            "needs_background": "light"
          }
        }
      ],
      "source": [
        "# Dos modelos diario y semanal\n",
        "Proyecto.PartirDatos()\n",
        "Proyecto.Entrenamiento()\n",
        "Proyecto.Calculo_RMSE()\n",
        "Proyecto.GraficasEstadisticas()"
      ]
    },
    {
      "cell_type": "code",
      "execution_count": 15,
      "metadata": {
        "id": "c295a0e7",
        "colab": {
          "base_uri": "https://localhost:8080/",
          "height": 374
        },
        "outputId": "011ec421-80c1-4832-c12d-568742451cde"
      },
      "outputs": [
        {
          "output_type": "stream",
          "name": "stderr",
          "text": [
            "100%|██████████| 11/11 [00:00<00:00, 4443.55it/s]\n",
            "100%|██████████| 11/11 [00:04<00:00,  2.24it/s]\n",
            "100%|██████████| 11/11 [00:00<00:00, 604.33it/s]\n"
          ]
        },
        {
          "output_type": "display_data",
          "data": {
            "text/plain": [
              "<Figure size 720x288 with 1 Axes>"
            ],
            "image/png": "[encoded data removed]"
          },
          "metadata": {
            "needs_background": "light"
          }
        }
      ],
      "source": [
        "# Un modelo diario\n",
        "Proyecto.PartirDatos()\n",
        "Proyecto.Entrenamiento()\n",
        "Proyecto.Calculo_RMSE()\n",
        "Proyecto.GraficasEstadisticas()"
      ]
    },
    {
      "cell_type": "code",
      "execution_count": 16,
      "metadata": {
        "id": "29c06ca0",
        "colab": {
          "base_uri": "https://localhost:8080/"
        },
        "outputId": "49d98343-af76-4f3a-8549-1db203eb63af"
      },
      "outputs": [
        {
          "output_type": "execute_result",
          "data": {
            "text/plain": [
              "[0,\n",
              " 293.798,\n",
              " 297.257,\n",
              " 355.172,\n",
              " 305.382,\n",
              " 313.686,\n",
              " 275.125,\n",
              " 312.69300000000004,\n",
              " 270.51599999999996,\n",
              " 305.645,\n",
              " 348.82199999999995,\n",
              " 308.004,\n",
              " 311.9,\n",
              " 288.759,\n",
              " 286.374,\n",
              " 2153.1130000000003,\n",
              " 2120.0200000000004]"
            ]
          },
          "metadata": {},
          "execution_count": 16
        }
      ],
      "source": [
        "Proyecto.contadores[0].Predicciones"
      ]
    },
    {
      "cell_type": "code",
      "execution_count": 17,
      "metadata": {
        "id": "ab6a392b",
        "colab": {
          "base_uri": "https://localhost:8080/"
        },
        "outputId": "c3dc1653-e0a3-40f0-f546-6f05f9e99225"
      },
      "outputs": [
        {
          "output_type": "execute_result",
          "data": {
            "text/plain": [
              "137.38678272483293"
            ]
          },
          "metadata": {},
          "execution_count": 17
        }
      ],
      "source": [
        "Proyecto.RMSE_Test_Promedio"
      ]
    },
    {
      "cell_type": "code",
      "execution_count": null,
      "metadata": {
        "id": "d7233e12"
      },
      "outputs": [],
      "source": [
        "Proyecto.RMSE_Test_Suma"
      ]
    },
    {
      "cell_type": "code",
      "execution_count": null,
      "metadata": {
        "id": "4501bb68"
      },
      "outputs": [],
      "source": [
        "error = []\n",
        "for contadores in Proyecto.contadores:\n",
        "    error.append(contadores.DiffConsumo)\n",
        "\n",
        "plt.figure(figsize=(15,5))\n",
        "plt.plot(error)"
      ]
    },
    {
      "cell_type": "code",
      "execution_count": null,
      "metadata": {
        "id": "a9586b2f"
      },
      "outputs": [],
      "source": [
        "for contadores in Proyecto.contadores:\n",
        "    if contadores.DiffConsumo > 1000000:\n",
        "        print(contadores.ID)"
      ]
    },
    {
      "cell_type": "code",
      "execution_count": null,
      "metadata": {
        "id": "75cb8b09"
      },
      "outputs": [],
      "source": [
        "Proyecto.contadores[111].datos_contador.plot(subplots=True,figsize=(15,12));"
      ]
    },
    {
      "cell_type": "code",
      "execution_count": null,
      "metadata": {
        "id": "7aef039e"
      },
      "outputs": [],
      "source": [
        "for ID in [111,658,2460,2464,2466,2481,2483,2489,2502]:\n",
        "    Proyecto.GraficasEstadisticas(contador=ID)"
      ]
    },
    {
      "cell_type": "markdown",
      "metadata": {
        "id": "24350d07"
      },
      "source": [
        "# DOS MODELOS UNO PARA DIAS Y OTRO PARA SEMANAS"
      ]
    },
    {
      "cell_type": "code",
      "execution_count": null,
      "metadata": {
        "id": "2ff6e0c5"
      },
      "outputs": [],
      "source": [
        "Proyecto.GraficasEstadisticas(contador=658)"
      ]
    },
    {
      "cell_type": "code",
      "execution_count": null,
      "metadata": {
        "id": "6b2a5611"
      },
      "outputs": [],
      "source": [
        "Proyecto.contadores[0].datos_test"
      ]
    },
    {
      "cell_type": "markdown",
      "metadata": {
        "id": "93756d2c"
      },
      "source": [
        "# GRID SEARCH\n",
        " # Hiperparámetros del regresor\n",
        "       #param_grid = {'n_estimators': [100,200],\n",
        "       #'max_depth': [3, 5, 10]}\n",
        "       #len(self.contadores[ID].datos_consumo) - 14 \n",
        "       # Lags utilizados como predictores\n",
        "       #lags_grid = [14, 30]"
      ]
    },
    {
      "cell_type": "code",
      "execution_count": null,
      "metadata": {
        "id": "adcfca7a"
      },
      "outputs": [],
      "source": [
        "Proyecto.PartirDatos()\n",
        "Proyecto.Entrenamiento(Grid=True)\n",
        "Proyecto.Calculo_RMSE()\n",
        "# RELLENADO RMSE_Train y RMSE_Test y model con el mejor modelo\n",
        "# VOLVEMOS A JUNTAR LOS 14 DIAS\n",
        "for contador in Proyecto.contadores:\n",
        "    contador.Juntar_Datos()\n",
        "Proyecto.Entrenamiento()\n",
        "Proyecto.GenerarResultados(equipo='GRID')\n",
        "print(Proyecto.RMSE_Test_Promedio,Proyecto.RMSE_Test_Suma)"
      ]
    },
    {
      "cell_type": "code",
      "execution_count": null,
      "metadata": {
        "id": "b99f25ac"
      },
      "outputs": [],
      "source": [
        "Proyecto.GraficasEstadisticas(1004,Test=False)"
      ]
    },
    {
      "cell_type": "code",
      "execution_count": null,
      "metadata": {
        "id": "f8e3d4c1"
      },
      "outputs": [],
      "source": [
        "Proyecto.Guardar_Modelos()"
      ]
    },
    {
      "cell_type": "code",
      "execution_count": null,
      "metadata": {
        "id": "a5ae7e0c"
      },
      "outputs": [],
      "source": [
        "Proyecto.contadores[0].fecha_fin_contador - Proyecto.contadores[0].fecha_inicio_contador + timedelta(days=1)"
      ]
    },
    {
      "cell_type": "code",
      "execution_count": null,
      "metadata": {
        "id": "1fb45b8c"
      },
      "outputs": [],
      "source": [
        "timedelta(Proyecto.contadores[0].dias)"
      ]
    },
    {
      "cell_type": "code",
      "execution_count": null,
      "metadata": {
        "id": "d7b6ce5d"
      },
      "outputs": [],
      "source": [
        "#Proyecto.__dict__\n",
        "\n",
        "file = open('Copia_Proyecto'+'.txt','w')\n",
        "file.write(pickle.dumps(Proyecto.__dict__))\n",
        "file.close()"
      ]
    },
    {
      "cell_type": "code",
      "execution_count": null,
      "metadata": {
        "id": "d83b2392"
      },
      "outputs": [],
      "source": [
        "#Proyecto = CajaMar_Water('Modelar_UH2022.txt')\n",
        "Proyecto.PartirDatos()\n",
        "Proyecto.Entrenamiento(Grid=True)\n",
        "Proyecto.Calculo_RMSE()\n",
        "# RELLENADO RMSE_Train y RMSE_Test y model con el mejor modelo\n",
        "# VOLVEMOS A JUNTAR LOS 14 DIAS\n",
        "for contador in Proyecto.contadores:\n",
        "    contador.Juntar_Datos()\n",
        "Proyecto.Entrenamiento()\n",
        "Proyecto.GenerarResultados(equipo='GRID')\n",
        "\n",
        "# GUARDAR MODELOS\n",
        "#Proyecto.Guardar_Modelos()"
      ]
    },
    {
      "cell_type": "code",
      "execution_count": null,
      "metadata": {
        "id": "05f3e907"
      },
      "outputs": [],
      "source": [
        "Proyecto.Guardar_Modelos()"
      ]
    },
    {
      "cell_type": "code",
      "execution_count": null,
      "metadata": {
        "id": "abcb87fc"
      },
      "outputs": [],
      "source": [
        "for id in range(10):\n",
        "    print(id,Proyecto.contadores[id].RMSE_Train,Proyecto.contadores[id].RMSE_Test)"
      ]
    },
    {
      "cell_type": "code",
      "execution_count": null,
      "metadata": {
        "id": "46b67738"
      },
      "outputs": [],
      "source": [
        "Proyecto.contadores[1].RMSE_Test"
      ]
    },
    {
      "cell_type": "code",
      "execution_count": null,
      "metadata": {
        "id": "1f962240"
      },
      "outputs": [],
      "source": [
        "Proyecto.RMSE_Test_Promedio"
      ]
    },
    {
      "cell_type": "code",
      "execution_count": null,
      "metadata": {
        "id": "581dc680"
      },
      "outputs": [],
      "source": [
        "Proyecto.RMSE_Test_Promedio"
      ]
    },
    {
      "cell_type": "code",
      "execution_count": null,
      "metadata": {
        "id": "6c2b119e"
      },
      "outputs": [],
      "source": [
        "# SIN PARTIR DATOS PARA GENERAR TXT ANTES GENERAR MÉTODO PARA GUARDAR DATOS\n",
        "Proyecto = CajaMar_Water('Modelar_UH2022.txt')\n",
        "Proyecto.Entrenamiento()"
      ]
    },
    {
      "cell_type": "markdown",
      "metadata": {
        "id": "bf4b8866"
      },
      "source": [
        "# MODELO GANADOR PRUEBA INTERMEDIA RMSE CON SUMA"
      ]
    },
    {
      "cell_type": "code",
      "execution_count": null,
      "metadata": {
        "id": "9f3f97f5"
      },
      "outputs": [],
      "source": [
        "Proyecto = CajaMar_Water('Modelar_UH2022.txt')\n",
        "Proyecto.PartirDatos()\n",
        "Proyecto.Entrenamiento()\n",
        "Proyecto.Calculo_RMSE()"
      ]
    },
    {
      "cell_type": "code",
      "execution_count": null,
      "metadata": {
        "id": "4d82f9c0"
      },
      "outputs": [],
      "source": [
        "Proyecto.RMSE_Test_Suma"
      ]
    },
    {
      "cell_type": "code",
      "execution_count": null,
      "metadata": {
        "id": "03236d14"
      },
      "outputs": [],
      "source": [
        "Proyecto.RMSE_Test_Promedio"
      ]
    },
    {
      "cell_type": "markdown",
      "metadata": {
        "id": "6e5abe61"
      },
      "source": [
        "# NUMERAL=1 ENTREGA DE DATOS HACIENDO LA MEDIA"
      ]
    },
    {
      "cell_type": "code",
      "execution_count": null,
      "metadata": {
        "id": "b1c74252"
      },
      "outputs": [],
      "source": [
        "Proyecto = CajaMar_Water('Modelar_UH2022.txt',umbral_modelo=367)\n",
        "Proyecto.PartirDatos()\n",
        "Proyecto.Entrenamiento()\n",
        "Proyecto.Calculo_RMSE()\n",
        "print('RMSE EN TEST ULTIMOS 14 DIAS (MEDIA): ',Proyecto.RMSE_Test_Promedio)\n",
        "# SIN PARTIR DATOS PARA GENERAR TXT\n",
        "Proyecto = CajaMar_Water('Modelar_UH2022.txt',umbral_modelo=367)\n",
        "Proyecto.Entrenamiento()\n",
        "Proyecto.GenerarResultados(numeral=1)\n"
      ]
    },
    {
      "cell_type": "markdown",
      "metadata": {
        "id": "93464daf"
      },
      "source": [
        "# NUMERAL=2 ENTREGA DE DATOS CON DISTINTOS LIMITES DE UMBRAL Y EL MODELO POR DEFECTO. RANDOM FOREST REGRESOR"
      ]
    },
    {
      "cell_type": "code",
      "execution_count": null,
      "metadata": {
        "id": "e2988f43"
      },
      "outputs": [],
      "source": [
        "for umbral in [100,180,270]:\n",
        "    Proyecto = CajaMar_Water('Modelar_UH2022.txt',umbral_modelo=umbral)\n",
        "    Proyecto.PartirDatos()\n",
        "    Proyecto.Entrenamiento()\n",
        "    Proyecto.Calculo_RMSE()\n",
        "    print('RMSE EN TEST ULTIMOS 14 DIAS (MEDIA): ',Proyecto.RMSE_Test_Promedio,' UMBRAL: ', umbral)\n",
        "    # SIN PARTIR DATOS PARA GENERAR TXT\n",
        "    Proyecto = CajaMar_Water('Modelar_UH2022.txt',umbral_modelo=umbral)\n",
        "    Proyecto.Entrenamiento()\n",
        "    Proyecto.GenerarResultados(equipo='UMBRAL',numeral=umbral)"
      ]
    },
    {
      "cell_type": "markdown",
      "metadata": {
        "id": "e3d55c3d"
      },
      "source": [
        "# NUMERAL 2 UMBRAL 50 RANDOM FOREST REGRESOR\n",
        "\n"
      ]
    },
    {
      "cell_type": "code",
      "execution_count": null,
      "metadata": {
        "id": "38abf1fa"
      },
      "outputs": [],
      "source": [
        "Proyecto = CajaMar_Water('Modelar_UH2022.txt',umbral_modelo=50)\n",
        "Proyecto.PartirDatos()\n",
        "Proyecto.Entrenamiento()\n",
        "Proyecto.Calculo_RMSE()\n",
        "print('RMSE EN TEST ULTIMOS 14 DIAS (MEDIA): ',Proyecto.RMSE_Test_Promedio)\n",
        "# SIN PARTIR DATOS PARA GENERAR TXT\n",
        "Proyecto = CajaMar_Water('Modelar_UH2022.txt',umbral_modelo=50)\n",
        "Proyecto.Entrenamiento()\n",
        "Proyecto.GenerarResultados(equipo='UMBRAL',numeral=50)"
      ]
    },
    {
      "cell_type": "markdown",
      "metadata": {
        "id": "88f7558c"
      },
      "source": [
        "# NUMERAL 2 RANDOM FOREST UMBRAL 100 Y MODIFICACIÓN FECHA DE FIN"
      ]
    },
    {
      "cell_type": "code",
      "execution_count": null,
      "metadata": {
        "id": "cf6ea43e"
      },
      "outputs": [],
      "source": [
        "Proyecto = CajaMar_Water('Modelar_UH2022.txt',umbral_modelo=100)\n",
        "Proyecto.PartirDatos()\n",
        "Proyecto.Entrenamiento()\n",
        "Proyecto.Calculo_RMSE()\n",
        "print('RMSE EN TEST ULTIMOS 14 DIAS (MEDIA): ',Proyecto.RMSE_Test_Promedio)\n",
        "# SIN PARTIR DATOS PARA GENERAR TXT\n",
        "Proyecto = CajaMar_Water('Modelar_UH2022.txt',umbral_modelo=100)\n",
        "Proyecto.Entrenamiento()\n",
        "Proyecto.GenerarResultados(equipo='UMBRAL_FECHA_FIN',numeral=100)"
      ]
    },
    {
      "cell_type": "code",
      "execution_count": null,
      "metadata": {
        "id": "9edadb5a"
      },
      "outputs": [],
      "source": [
        "Proyecto.GraficasEstadisticas(Test=False)"
      ]
    },
    {
      "cell_type": "markdown",
      "metadata": {
        "id": "551542f7"
      },
      "source": [
        "# NUMERAL 2. UMBRAL 100 CON EXTRATREESREGRESSOR"
      ]
    },
    {
      "cell_type": "code",
      "execution_count": null,
      "metadata": {
        "id": "02f16ba7"
      },
      "outputs": [],
      "source": [
        "Proyecto = CajaMar_Water('Modelar_UH2022.txt',umbral_modelo=100)\n",
        "Proyecto.PartirDatos()\n",
        "Proyecto.Entrenamiento()\n",
        "Proyecto.Calculo_RMSE()\n",
        "print('RMSE EN TEST ULTIMOS 14 DIAS (MEDIA): ',Proyecto.RMSE_Test_Promedio)\n",
        "# SIN PARTIR DATOS PARA GENERAR TXT\n",
        "Proyecto = CajaMar_Water('Modelar_UH2022.txt',umbral_modelo=100)\n",
        "Proyecto.Entrenamiento()\n",
        "Proyecto.GenerarResultados(equipo='UMBRAL_EXTRA_TREES_',numeral=100)"
      ]
    },
    {
      "cell_type": "markdown",
      "metadata": {
        "id": "93613dac"
      },
      "source": [
        "# EVALUANDO MEJOR MODELO"
      ]
    },
    {
      "cell_type": "code",
      "execution_count": null,
      "metadata": {
        "id": "91431286"
      },
      "outputs": [],
      "source": [
        "Proyecto = CajaMar_Water('Modelar_UH2022.txt',umbral_modelo=100)\n",
        "Proyecto.PartirDatos()\n",
        "Proyecto.Entrenamiento()\n",
        "Proyecto.Calculo_RMSE()\n",
        "\n",
        "# HAY 117 CONTADORES QUE LA FECHA DE FIN NO ES 31 DE ENERO\n",
        "for contadores in Proyecto.contadores:\n",
        "    if contadores.fecha_fin_contador != Proyecto.Fecha_Fin:\n",
        "        print(contadores.ID, contadores.fecha_fin_contador, contadores.dias, contadores.RMSE_Test)"
      ]
    },
    {
      "cell_type": "code",
      "execution_count": null,
      "metadata": {
        "id": "f7d3481d"
      },
      "outputs": [],
      "source": [
        "for contadores in Proyecto.contadores:\n",
        "    if contadores.ID == 116:\n",
        "        print(contadores.datos_consumo)"
      ]
    },
    {
      "cell_type": "markdown",
      "metadata": {
        "id": "923f2b08"
      },
      "source": [
        "# CORRELACION Y GRAFICAS VARIAS"
      ]
    },
    {
      "cell_type": "code",
      "execution_count": null,
      "metadata": {
        "id": "ea0d7c1a"
      },
      "outputs": [],
      "source": [
        "from statsmodels.tsa.seasonal import seasonal_decompose\n",
        "\n",
        "decomposition = seasonal_decompose(Proyecto.contadores[0].datos_consumo['CONSUMO'],model='additive')\n",
        "decomposition.plot()\n",
        "plt.show()"
      ]
    },
    {
      "cell_type": "code",
      "execution_count": null,
      "metadata": {
        "id": "57328b53"
      },
      "outputs": [],
      "source": [
        "# ESTACIONALIDAD SEMANAL:\n",
        "\n",
        "datos_semanal = Proyecto.contadores[0].datos_consumo['CONSUMO'].diff(14).dropna()\n",
        "datos_semanal.plot()\n",
        "plt.show()"
      ]
    },
    {
      "cell_type": "code",
      "execution_count": null,
      "metadata": {
        "id": "f7ca900e"
      },
      "outputs": [],
      "source": [
        "from statsmodels.graphics.tsaplots import plot_acf\n",
        "from statsmodels.graphics.tsaplots import plot_pacf\n",
        "\n",
        "# Gráfico autocorrelación\n",
        "# ==============================================================================\n",
        "fig, ax = plt.subplots(figsize=(7, 3))\n",
        "plot_acf(Proyecto.contadores[0].datos_consumo['Consumo'], ax=ax, lags=30)\n",
        "plt.show()"
      ]
    },
    {
      "cell_type": "code",
      "execution_count": null,
      "metadata": {
        "id": "2c503813"
      },
      "outputs": [],
      "source": [
        "# Gráfico autocorrelación parcial\n",
        "# ==============================================================================\n",
        "fig, ax = plt.subplots(figsize=(7, 3))\n",
        "plot_pacf(Proyecto.contadores[0].datos_consumo['Consumo'], ax=ax, lags=30)\n",
        "plt.show()"
      ]
    },
    {
      "cell_type": "code",
      "execution_count": null,
      "metadata": {
        "id": "475a992a"
      },
      "outputs": [],
      "source": [
        "# Gráfico boxplot para estacionalidad anual\n",
        "# ==============================================================================\n",
        "fig, ax = plt.subplots(figsize=(7, 3.5))\n",
        "Proyecto.contadores[0].datos_consumo['mes'] = pd.to_datetime(Proyecto.contadores[0].datos_consumo['Fecha']).dt.month\n",
        "Proyecto.contadores[0].datos_consumo.boxplot(column='Consumo', by='mes', ax=ax,)\n",
        "Proyecto.contadores[0].datos_consumo.groupby('mes')['Consumo'].median().plot(style='o-', linewidth=0.8, ax=ax)\n",
        "ax.set_ylabel('Consumo')\n",
        "ax.set_title('Distribución demanda por mes')\n",
        "fig.suptitle('');"
      ]
    },
    {
      "cell_type": "code",
      "execution_count": null,
      "metadata": {
        "id": "6dadaa8e"
      },
      "outputs": [],
      "source": [
        "# Gráfico boxplot para estacionalidad semanal\n",
        "# ==============================================================================\n",
        "fig, ax = plt.subplots(figsize=(7, 3.5))\n",
        "Proyecto.contadores[0].datos_consumo['dia_semana'] = pd.to_datetime(Proyecto.contadores[0].datos_consumo['Fecha']).dt.day_of_week + 1\n",
        "Proyecto.contadores[0].datos_consumo.boxplot(column='Consumo', by='dia_semana', ax=ax)\n",
        "Proyecto.contadores[0].datos_consumo.groupby('dia_semana')['Consumo'].median().plot(style='o-', linewidth=0.8, ax=ax)\n",
        "ax.set_ylabel('Consumo')\n",
        "ax.set_title('Distribución demanda por dia de la semana')\n",
        "fig.suptitle('');"
      ]
    },
    {
      "cell_type": "code",
      "execution_count": null,
      "metadata": {
        "id": "479a2eca"
      },
      "outputs": [],
      "source": [
        "# ESTADISTICAS DATOS\n",
        "\n",
        "completo = 0\n",
        "incompleto_0 = 0\n",
        "incompleto_m_100 = 0\n",
        "incompleto_M_100 = 0\n",
        "\n",
        "for contador in Proyecto.contadores:\n",
        "    if  contador.dias == 365:\n",
        "        completo += 1\n",
        "    if contador.dias == 0:\n",
        "        incompleto_0 += 1\n",
        "    if contador.dias <= 90 and contador.dias > 0:\n",
        "        incompleto_m_100 += 1\n",
        "    if contador.dias > 90 and contador.dias < 365:\n",
        "        incompleto_M_100 += 1\n",
        "\n",
        "print(completo + incompleto_0 + incompleto_M_100 + incompleto_m_100)       \n",
        "\n",
        "\n",
        "y = np.array([completo,incompleto_0,incompleto_m_100,incompleto_M_100 ])\n",
        "\n",
        "def absolute_value(val):\n",
        "    a  = np.round(val/100.*y.sum(), 0)\n",
        "    return a\n",
        "mylabels = [\"DATOS COMPLETOS 365 DIAS\", \"DATOS INCOMPLETOS 0 DIAS\", \"DATOS INCOMPLETOS 1-90 DIAS\",\"DATOS INCOMPLETOS 91-364 DIAS\"]\n",
        "myexplode = [0, 0.4,0.2,0.1]\n",
        "\n",
        "plt.pie(y, labels = mylabels, explode = myexplode, autopct='%1.1f%%', shadow = True)\n",
        "#plt.legend()\n",
        "plt.show()"
      ]
    },
    {
      "cell_type": "code",
      "execution_count": null,
      "metadata": {
        "id": "9eefa130"
      },
      "outputs": [],
      "source": [
        ""
      ]
    }
  ]
}