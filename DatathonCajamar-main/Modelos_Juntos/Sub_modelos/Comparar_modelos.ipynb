{
  "nbformat": 4,
  "nbformat_minor": 0,
  "metadata": {
    "colab": {
      "name": "Comparar_modelos.ipynb",
      "provenance": [],
      "collapsed_sections": []
    },
    "kernelspec": {
      "name": "python3",
      "display_name": "Python 3"
    },
    "language_info": {
      "name": "python"
    }
  },
  "cells": [
    {
      "cell_type": "code",
      "source": [
        "from google.colab import drive\n",
        "drive.mount('/content/drive')"
      ],
      "metadata": {
        "colab": {
          "base_uri": "https://localhost:8080/"
        },
        "id": "seQrWpaVTuPf",
        "outputId": "c9c04840-c527-48e4-a370-e5a7814abc64"
      },
      "execution_count": null,
      "outputs": [
        {
          "output_type": "stream",
          "name": "stdout",
          "text": [
            "Drive already mounted at /content/drive; to attempt to forcibly remount, call drive.mount(\"/content/drive\", force_remount=True).\n"
          ]
        }
      ]
    },
    {
      "cell_type": "code",
      "source": [
        "import pandas as pd\n",
        "import numpy as np"
      ],
      "metadata": {
        "id": "3gVWs8tyUJNB"
      },
      "execution_count": null,
      "outputs": []
    },
    {
      "cell_type": "code",
      "source": [
        "path=\"/content/drive/MyDrive/Cajamar/\""
      ],
      "metadata": {
        "id": "rP4ldCGvTs0N"
      },
      "execution_count": null,
      "outputs": []
    },
    {
      "cell_type": "code",
      "execution_count": null,
      "metadata": {
        "id": "bDbftCdVTYkq"
      },
      "outputs": [],
      "source": [
        "Mobiles_6=pd.read_csv(path+'RMSE_Movil_6') \n",
        "Normal=pd.read_csv(path+'RMSE_Normal') "
      ]
    },
    {
      "cell_type": "code",
      "source": [
        "print(Mobiles_6)\n",
        "print(Normal)"
      ],
      "metadata": {
        "colab": {
          "base_uri": "https://localhost:8080/"
        },
        "id": "xGRwDAwyUVOr",
        "outputId": "afc29621-492c-4315-fd27-44e0389cc1a7"
      },
      "execution_count": null,
      "outputs": [
        {
          "output_type": "stream",
          "name": "stdout",
          "text": [
            "      Unnamed: 0  RMSE_Movil_6    ID\n",
            "0              0    204.718772     0\n",
            "1              1     97.139916     1\n",
            "2              2     14.943313     2\n",
            "3              3    267.590181     3\n",
            "4              4    266.942634     4\n",
            "...          ...           ...   ...\n",
            "2710        2710      0.232019  2722\n",
            "2711        2711    200.029099  2742\n",
            "2712        2712    245.324879  2745\n",
            "2713        2713      8.461688  2748\n",
            "2714        2714      0.108742  2749\n",
            "\n",
            "[2715 rows x 3 columns]\n",
            "      Unnamed: 0  RMSE_Normal    ID\n",
            "0              0   185.024601     0\n",
            "1              1    95.320432     1\n",
            "2              2    17.733213     2\n",
            "3              3   206.867542     3\n",
            "4              4   329.090742     4\n",
            "...          ...          ...   ...\n",
            "2710        2710     0.904325  2722\n",
            "2711        2711   135.376394  2742\n",
            "2712        2712   335.187612  2745\n",
            "2713        2713     7.299112  2748\n",
            "2714        2714     0.652450  2749\n",
            "\n",
            "[2715 rows x 3 columns]\n"
          ]
        }
      ]
    },
    {
      "cell_type": "code",
      "source": [
        "Mobiles_6['RMSE_Normal']=Normal['RMSE_Normal']"
      ],
      "metadata": {
        "id": "eoG9n6tCU5ec"
      },
      "execution_count": null,
      "outputs": []
    },
    {
      "cell_type": "code",
      "source": [
        "print(Mobiles_6)"
      ],
      "metadata": {
        "colab": {
          "base_uri": "https://localhost:8080/"
        },
        "id": "1nWONcVkVDDo",
        "outputId": "84a38aa3-59aa-4536-abdb-bd21c40ecd67"
      },
      "execution_count": null,
      "outputs": [
        {
          "output_type": "stream",
          "name": "stdout",
          "text": [
            "      Unnamed: 0  RMSE_Movil_6    ID  RMSE_Normal\n",
            "0              0    204.718772     0   185.024601\n",
            "1              1     97.139916     1    95.320432\n",
            "2              2     14.943313     2    17.733213\n",
            "3              3    267.590181     3   206.867542\n",
            "4              4    266.942634     4   329.090742\n",
            "...          ...           ...   ...          ...\n",
            "2710        2710      0.232019  2722     0.904325\n",
            "2711        2711    200.029099  2742   135.376394\n",
            "2712        2712    245.324879  2745   335.187612\n",
            "2713        2713      8.461688  2748     7.299112\n",
            "2714        2714      0.108742  2749     0.652450\n",
            "\n",
            "[2715 rows x 4 columns]\n"
          ]
        }
      ]
    },
    {
      "cell_type": "code",
      "source": [
        "Mobiles_6['Normal_better'] =np.where(Mobiles_6['RMSE_Normal']>Mobiles_6['RMSE_Movil_6'], 0, 1)"
      ],
      "metadata": {
        "id": "7y0NFJvPaJR0"
      },
      "execution_count": null,
      "outputs": []
    },
    {
      "cell_type": "code",
      "source": [
        "print(Mobiles_6)"
      ],
      "metadata": {
        "colab": {
          "base_uri": "https://localhost:8080/"
        },
        "id": "3-HnwV9nVNni",
        "outputId": "5d6f7f4f-82be-4ba6-f1c8-9d8636f2021d"
      },
      "execution_count": null,
      "outputs": [
        {
          "output_type": "stream",
          "name": "stdout",
          "text": [
            "      Unnamed: 0  RMSE_Movil_6    ID  RMSE_Normal  Normal_better\n",
            "0              0    204.718772     0   185.024601              1\n",
            "1              1     97.139916     1    95.320432              1\n",
            "2              2     14.943313     2    17.733213              0\n",
            "3              3    267.590181     3   206.867542              1\n",
            "4              4    266.942634     4   329.090742              0\n",
            "...          ...           ...   ...          ...            ...\n",
            "2710        2710      0.232019  2722     0.904325              0\n",
            "2711        2711    200.029099  2742   135.376394              1\n",
            "2712        2712    245.324879  2745   335.187612              0\n",
            "2713        2713      8.461688  2748     7.299112              1\n",
            "2714        2714      0.108742  2749     0.652450              0\n",
            "\n",
            "[2715 rows x 5 columns]\n"
          ]
        }
      ]
    },
    {
      "cell_type": "code",
      "source": [
        "Mobiles_6[\"Normal_better\"].to_csv(path+'Normal_better') "
      ],
      "metadata": {
        "id": "p-o6FuklbCe1"
      },
      "execution_count": null,
      "outputs": []
    }
  ]
}